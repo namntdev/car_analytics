{
 "cells": [
  {
   "cell_type": "markdown",
   "metadata": {},
   "source": [
    "# Project: Linear Regression Price Predictor for Used Cars"
   ]
  },
  {
   "cell_type": "code",
   "execution_count": 1,
   "metadata": {},
   "outputs": [],
   "source": [
    "import pandas as pd\n",
    "import numpy as np\n",
    "\n",
    "from sklearn.linear_model import LinearRegression, Lasso, LassoCV, Ridge, RidgeCV, ElasticNet, ElasticNetCV\n",
    "\n",
    "import statsmodels.api as sm\n",
    "import statsmodels.formula.api as smf\n",
    "import patsy\n",
    "\n",
    "import matplotlib.pyplot as plt\n",
    "import seaborn as sns\n",
    "\n",
    "%matplotlib inline\n",
    "sns.set_style('whitegrid')"
   ]
  },
  {
   "cell_type": "markdown",
   "metadata": {},
   "source": [
    "### Section 1: DataFrame Loading, Cleaning"
   ]
  },
  {
   "cell_type": "code",
   "execution_count": 2,
   "metadata": {},
   "outputs": [],
   "source": [
    "# Returns you all the variables in the current environment\n",
    "\n",
    "# dir()  \n",
    "\n",
    "# Refer to this link: https://stackoverflow.com/questions/633127/viewing-all-defined-variables\n",
    "# To find out out to view all defined variables in the current environment"
   ]
  },
  {
   "cell_type": "code",
   "execution_count": 3,
   "metadata": {
    "scrolled": true
   },
   "outputs": [
    {
     "data": {
      "text/html": [
       "<div>\n",
       "<style scoped>\n",
       "    .dataframe tbody tr th:only-of-type {\n",
       "        vertical-align: middle;\n",
       "    }\n",
       "\n",
       "    .dataframe tbody tr th {\n",
       "        vertical-align: top;\n",
       "    }\n",
       "\n",
       "    .dataframe thead th {\n",
       "        text-align: right;\n",
       "    }\n",
       "</style>\n",
       "<table border=\"1\" class=\"dataframe\">\n",
       "  <thead>\n",
       "    <tr style=\"text-align: right;\">\n",
       "      <th></th>\n",
       "      <th>manufacturer_name</th>\n",
       "      <th>model_name</th>\n",
       "      <th>transmission</th>\n",
       "      <th>body_type</th>\n",
       "      <th>production_year</th>\n",
       "      <th>number_of_seat</th>\n",
       "      <th>odometer_value</th>\n",
       "      <th>color_body</th>\n",
       "      <th>engine_fuel</th>\n",
       "      <th>engine_type</th>\n",
       "      <th>engine_capacity</th>\n",
       "      <th>drivetrain</th>\n",
       "      <th>price</th>\n",
       "      <th>url</th>\n",
       "    </tr>\n",
       "  </thead>\n",
       "  <tbody>\n",
       "    <tr>\n",
       "      <th>8972</th>\n",
       "      <td>Mercedes-Benz</td>\n",
       "      <td>c-class</td>\n",
       "      <td>Số tự động</td>\n",
       "      <td>Sedan</td>\n",
       "      <td>2006</td>\n",
       "      <td>5</td>\n",
       "      <td>174468.0</td>\n",
       "      <td>Đen</td>\n",
       "      <td>Xăng</td>\n",
       "      <td>NaN</td>\n",
       "      <td>NaN</td>\n",
       "      <td>NaN</td>\n",
       "      <td>210000000.0</td>\n",
       "      <td>http://oto.com.vn/mua-ban-xe-mercedes-benz-c-c...</td>\n",
       "    </tr>\n",
       "    <tr>\n",
       "      <th>15658</th>\n",
       "      <td>Hyundai</td>\n",
       "      <td>accent</td>\n",
       "      <td>Số tay</td>\n",
       "      <td>Sedan</td>\n",
       "      <td>2018</td>\n",
       "      <td>5</td>\n",
       "      <td>11000.0</td>\n",
       "      <td>Vàng</td>\n",
       "      <td>Xăng</td>\n",
       "      <td>NaN</td>\n",
       "      <td>NaN</td>\n",
       "      <td>FWD - Dẫn động cầu trước</td>\n",
       "      <td>476000000.0</td>\n",
       "      <td>http://oto.com.vn/mua-ban-xe-hyundai-accent-hc...</td>\n",
       "    </tr>\n",
       "    <tr>\n",
       "      <th>4366</th>\n",
       "      <td>Toyota</td>\n",
       "      <td>vios</td>\n",
       "      <td>Số tay</td>\n",
       "      <td>Sedan</td>\n",
       "      <td>2010</td>\n",
       "      <td>5</td>\n",
       "      <td>98500.0</td>\n",
       "      <td>Bạc</td>\n",
       "      <td>Xăng</td>\n",
       "      <td>NaN</td>\n",
       "      <td>NaN</td>\n",
       "      <td>FWD - Dẫn động cầu trước</td>\n",
       "      <td>300000000.0</td>\n",
       "      <td>http://oto.com.vn/mua-ban-xe-toyota-vios-phu-t...</td>\n",
       "    </tr>\n",
       "    <tr>\n",
       "      <th>18420</th>\n",
       "      <td>Toyota</td>\n",
       "      <td>vios</td>\n",
       "      <td>Số tự động</td>\n",
       "      <td>Sedan</td>\n",
       "      <td>2017</td>\n",
       "      <td>5</td>\n",
       "      <td>NaN</td>\n",
       "      <td>Bạc</td>\n",
       "      <td>Xăng</td>\n",
       "      <td>NaN</td>\n",
       "      <td>NaN</td>\n",
       "      <td>NaN</td>\n",
       "      <td>470000000.0</td>\n",
       "      <td>http://oto.com.vn/mua-ban-xe-toyota-vios-ha-no...</td>\n",
       "    </tr>\n",
       "    <tr>\n",
       "      <th>4128</th>\n",
       "      <td>Toyota</td>\n",
       "      <td>camry</td>\n",
       "      <td>Số tự động</td>\n",
       "      <td>Sedan</td>\n",
       "      <td>2018</td>\n",
       "      <td>5</td>\n",
       "      <td>31000.0</td>\n",
       "      <td>Nâu</td>\n",
       "      <td>Xăng</td>\n",
       "      <td>NaN</td>\n",
       "      <td>NaN</td>\n",
       "      <td>NaN</td>\n",
       "      <td>880000000.0</td>\n",
       "      <td>http://oto.com.vn/mua-ban-xe-toyota-camry-dong...</td>\n",
       "    </tr>\n",
       "  </tbody>\n",
       "</table>\n",
       "</div>"
      ],
      "text/plain": [
       "      manufacturer_name model_name transmission body_type  production_year  \\\n",
       "8972      Mercedes-Benz    c-class   Số tự động     Sedan             2006   \n",
       "15658           Hyundai     accent       Số tay     Sedan             2018   \n",
       "4366             Toyota       vios       Số tay     Sedan             2010   \n",
       "18420            Toyota       vios   Số tự động     Sedan             2017   \n",
       "4128             Toyota      camry   Số tự động     Sedan             2018   \n",
       "\n",
       "       number_of_seat  odometer_value color_body engine_fuel  engine_type  \\\n",
       "8972                5        174468.0        Đen        Xăng          NaN   \n",
       "15658               5         11000.0       Vàng        Xăng          NaN   \n",
       "4366                5         98500.0        Bạc        Xăng          NaN   \n",
       "18420               5             NaN        Bạc        Xăng          NaN   \n",
       "4128                5         31000.0        Nâu        Xăng          NaN   \n",
       "\n",
       "       engine_capacity                drivetrain        price  \\\n",
       "8972               NaN                       NaN  210000000.0   \n",
       "15658              NaN  FWD - Dẫn động cầu trước  476000000.0   \n",
       "4366               NaN  FWD - Dẫn động cầu trước  300000000.0   \n",
       "18420              NaN                       NaN  470000000.0   \n",
       "4128               NaN                       NaN  880000000.0   \n",
       "\n",
       "                                                     url  \n",
       "8972   http://oto.com.vn/mua-ban-xe-mercedes-benz-c-c...  \n",
       "15658  http://oto.com.vn/mua-ban-xe-hyundai-accent-hc...  \n",
       "4366   http://oto.com.vn/mua-ban-xe-toyota-vios-phu-t...  \n",
       "18420  http://oto.com.vn/mua-ban-xe-toyota-vios-ha-no...  \n",
       "4128   http://oto.com.vn/mua-ban-xe-toyota-camry-dong...  "
      ]
     },
     "execution_count": 3,
     "metadata": {},
     "output_type": "execute_result"
    }
   ],
   "source": [
    "df_main = pd.read_csv('cars.csv')\n",
    "df_main.sample(5)"
   ]
  },
  {
   "cell_type": "code",
   "execution_count": 4,
   "metadata": {},
   "outputs": [
    {
     "data": {
      "text/plain": [
       "Index(['manufacturer_name', 'model_name', 'transmission', 'body_type',\n",
       "       'production_year', 'number_of_seat', 'odometer_value', 'color_body',\n",
       "       'engine_fuel', 'engine_type', 'engine_capacity', 'drivetrain', 'price',\n",
       "       'url'],\n",
       "      dtype='object')"
      ]
     },
     "execution_count": 4,
     "metadata": {},
     "output_type": "execute_result"
    }
   ],
   "source": [
    "df_main.columns"
   ]
  },
  {
   "cell_type": "code",
   "execution_count": 5,
   "metadata": {},
   "outputs": [
    {
     "data": {
      "text/html": [
       "<div>\n",
       "<style scoped>\n",
       "    .dataframe tbody tr th:only-of-type {\n",
       "        vertical-align: middle;\n",
       "    }\n",
       "\n",
       "    .dataframe tbody tr th {\n",
       "        vertical-align: top;\n",
       "    }\n",
       "\n",
       "    .dataframe thead th {\n",
       "        text-align: right;\n",
       "    }\n",
       "</style>\n",
       "<table border=\"1\" class=\"dataframe\">\n",
       "  <thead>\n",
       "    <tr style=\"text-align: right;\">\n",
       "      <th></th>\n",
       "      <th>production_year</th>\n",
       "      <th>number_of_seat</th>\n",
       "      <th>odometer_value</th>\n",
       "      <th>engine_type</th>\n",
       "      <th>engine_capacity</th>\n",
       "      <th>price</th>\n",
       "    </tr>\n",
       "  </thead>\n",
       "  <tbody>\n",
       "    <tr>\n",
       "      <th>count</th>\n",
       "      <td>20540.000000</td>\n",
       "      <td>20540.000000</td>\n",
       "      <td>1.719800e+04</td>\n",
       "      <td>0.0</td>\n",
       "      <td>1138.000000</td>\n",
       "      <td>2.054000e+04</td>\n",
       "    </tr>\n",
       "    <tr>\n",
       "      <th>mean</th>\n",
       "      <td>2013.443427</td>\n",
       "      <td>5.433009</td>\n",
       "      <td>7.035604e+04</td>\n",
       "      <td>NaN</td>\n",
       "      <td>1591.660808</td>\n",
       "      <td>1.455116e+09</td>\n",
       "    </tr>\n",
       "    <tr>\n",
       "      <th>std</th>\n",
       "      <td>4.853385</td>\n",
       "      <td>1.231451</td>\n",
       "      <td>1.859967e+05</td>\n",
       "      <td>NaN</td>\n",
       "      <td>491.286989</td>\n",
       "      <td>3.845170e+09</td>\n",
       "    </tr>\n",
       "    <tr>\n",
       "      <th>min</th>\n",
       "      <td>1965.000000</td>\n",
       "      <td>0.000000</td>\n",
       "      <td>1.000000e+00</td>\n",
       "      <td>NaN</td>\n",
       "      <td>20.000000</td>\n",
       "      <td>0.000000e+00</td>\n",
       "    </tr>\n",
       "    <tr>\n",
       "      <th>25%</th>\n",
       "      <td>2010.000000</td>\n",
       "      <td>5.000000</td>\n",
       "      <td>3.000000e+04</td>\n",
       "      <td>NaN</td>\n",
       "      <td>1496.000000</td>\n",
       "      <td>3.700000e+08</td>\n",
       "    </tr>\n",
       "    <tr>\n",
       "      <th>50%</th>\n",
       "      <td>2015.000000</td>\n",
       "      <td>5.000000</td>\n",
       "      <td>5.500000e+04</td>\n",
       "      <td>NaN</td>\n",
       "      <td>1496.000000</td>\n",
       "      <td>4.760000e+08</td>\n",
       "    </tr>\n",
       "    <tr>\n",
       "      <th>75%</th>\n",
       "      <td>2017.000000</td>\n",
       "      <td>5.000000</td>\n",
       "      <td>1.080000e+05</td>\n",
       "      <td>NaN</td>\n",
       "      <td>1496.000000</td>\n",
       "      <td>8.800000e+08</td>\n",
       "    </tr>\n",
       "    <tr>\n",
       "      <th>max</th>\n",
       "      <td>2019.000000</td>\n",
       "      <td>47.000000</td>\n",
       "      <td>1.800000e+07</td>\n",
       "      <td>NaN</td>\n",
       "      <td>5700.000000</td>\n",
       "      <td>1.790000e+10</td>\n",
       "    </tr>\n",
       "  </tbody>\n",
       "</table>\n",
       "</div>"
      ],
      "text/plain": [
       "       production_year  number_of_seat  odometer_value  engine_type  \\\n",
       "count     20540.000000    20540.000000    1.719800e+04          0.0   \n",
       "mean       2013.443427        5.433009    7.035604e+04          NaN   \n",
       "std           4.853385        1.231451    1.859967e+05          NaN   \n",
       "min        1965.000000        0.000000    1.000000e+00          NaN   \n",
       "25%        2010.000000        5.000000    3.000000e+04          NaN   \n",
       "50%        2015.000000        5.000000    5.500000e+04          NaN   \n",
       "75%        2017.000000        5.000000    1.080000e+05          NaN   \n",
       "max        2019.000000       47.000000    1.800000e+07          NaN   \n",
       "\n",
       "       engine_capacity         price  \n",
       "count      1138.000000  2.054000e+04  \n",
       "mean       1591.660808  1.455116e+09  \n",
       "std         491.286989  3.845170e+09  \n",
       "min          20.000000  0.000000e+00  \n",
       "25%        1496.000000  3.700000e+08  \n",
       "50%        1496.000000  4.760000e+08  \n",
       "75%        1496.000000  8.800000e+08  \n",
       "max        5700.000000  1.790000e+10  "
      ]
     },
     "execution_count": 5,
     "metadata": {},
     "output_type": "execute_result"
    }
   ],
   "source": [
    "df_main.describe()"
   ]
  },
  {
   "cell_type": "code",
   "execution_count": 6,
   "metadata": {},
   "outputs": [
    {
     "name": "stdout",
     "output_type": "stream",
     "text": [
      "<class 'pandas.core.frame.DataFrame'>\n",
      "RangeIndex: 20540 entries, 0 to 20539\n",
      "Data columns (total 8 columns):\n",
      "manufacturer_name    20540 non-null object\n",
      "model_name           20540 non-null object\n",
      "transmission         19288 non-null object\n",
      "body_type            20539 non-null object\n",
      "production_year      20540 non-null int64\n",
      "number_of_seat       20540 non-null int64\n",
      "odometer_value       17198 non-null float64\n",
      "price                20540 non-null float64\n",
      "dtypes: float64(2), int64(2), object(4)\n",
      "memory usage: 1.3+ MB\n"
     ]
    }
   ],
   "source": [
    "df_clean = df_main.drop(['color_body',\n",
    "       'engine_fuel', 'engine_type', 'engine_capacity', 'drivetrain', 'url'],axis=1) # Dropping columns that I used for my own reference\n",
    "\n",
    "# We see that we have NA entries in this dataset. \n",
    "# We want to drop these NA values or they will pose problems for us later\n",
    "# The null values can be attributed to the fact that some data is not keyed in the listing itself, \n",
    "# or formatting issues due to the varying ways of which people organize the information of the car in a single listing\n",
    "\n",
    "df_clean.info()"
   ]
  },
  {
   "cell_type": "code",
   "execution_count": 7,
   "metadata": {},
   "outputs": [
    {
     "name": "stdout",
     "output_type": "stream",
     "text": [
      "<class 'pandas.core.frame.DataFrame'>\n",
      "Int64Index: 17027 entries, 0 to 20539\n",
      "Data columns (total 8 columns):\n",
      "manufacturer_name    17027 non-null object\n",
      "model_name           17027 non-null object\n",
      "transmission         17027 non-null object\n",
      "body_type            17027 non-null object\n",
      "production_year      17027 non-null int64\n",
      "number_of_seat       17027 non-null int64\n",
      "odometer_value       17027 non-null float64\n",
      "price                17027 non-null float64\n",
      "dtypes: float64(2), int64(2), object(4)\n",
      "memory usage: 1.2+ MB\n"
     ]
    }
   ],
   "source": [
    "# We now have 20540 rows\n",
    "\n",
    "df_clean.dropna(inplace=True)\n",
    "df_clean.info()"
   ]
  },
  {
   "cell_type": "code",
   "execution_count": 8,
   "metadata": {},
   "outputs": [
    {
     "data": {
      "text/html": [
       "<div>\n",
       "<style scoped>\n",
       "    .dataframe tbody tr th:only-of-type {\n",
       "        vertical-align: middle;\n",
       "    }\n",
       "\n",
       "    .dataframe tbody tr th {\n",
       "        vertical-align: top;\n",
       "    }\n",
       "\n",
       "    .dataframe thead th {\n",
       "        text-align: right;\n",
       "    }\n",
       "</style>\n",
       "<table border=\"1\" class=\"dataframe\">\n",
       "  <thead>\n",
       "    <tr style=\"text-align: right;\">\n",
       "      <th></th>\n",
       "      <th>manufacturer_name</th>\n",
       "      <th>model_name</th>\n",
       "      <th>transmission</th>\n",
       "      <th>body_type</th>\n",
       "      <th>production_year</th>\n",
       "      <th>number_of_seat</th>\n",
       "      <th>odometer_value</th>\n",
       "      <th>price</th>\n",
       "    </tr>\n",
       "  </thead>\n",
       "  <tbody>\n",
       "    <tr>\n",
       "      <th>3927</th>\n",
       "      <td>Hyundai</td>\n",
       "      <td>accent</td>\n",
       "      <td>Số tay</td>\n",
       "      <td>Sedan</td>\n",
       "      <td>2018</td>\n",
       "      <td>5</td>\n",
       "      <td>11000.0</td>\n",
       "      <td>476000000.0</td>\n",
       "    </tr>\n",
       "    <tr>\n",
       "      <th>6268</th>\n",
       "      <td>Ford</td>\n",
       "      <td>ranger</td>\n",
       "      <td>Số tự động</td>\n",
       "      <td>Pick-up Truck</td>\n",
       "      <td>2017</td>\n",
       "      <td>5</td>\n",
       "      <td>55000.0</td>\n",
       "      <td>790000000.0</td>\n",
       "    </tr>\n",
       "    <tr>\n",
       "      <th>19692</th>\n",
       "      <td>Toyota</td>\n",
       "      <td>fortuner</td>\n",
       "      <td>Số tay</td>\n",
       "      <td>SUV</td>\n",
       "      <td>2017</td>\n",
       "      <td>7</td>\n",
       "      <td>55000.0</td>\n",
       "      <td>885000000.0</td>\n",
       "    </tr>\n",
       "    <tr>\n",
       "      <th>12721</th>\n",
       "      <td>Mazda</td>\n",
       "      <td>3</td>\n",
       "      <td>Số tự động</td>\n",
       "      <td>Hatchback</td>\n",
       "      <td>2016</td>\n",
       "      <td>5</td>\n",
       "      <td>35000.0</td>\n",
       "      <td>550000000.0</td>\n",
       "    </tr>\n",
       "    <tr>\n",
       "      <th>13089</th>\n",
       "      <td>Kia</td>\n",
       "      <td>cerato</td>\n",
       "      <td>Số tự động</td>\n",
       "      <td>Sedan</td>\n",
       "      <td>2010</td>\n",
       "      <td>5</td>\n",
       "      <td>108000.0</td>\n",
       "      <td>380000000.0</td>\n",
       "    </tr>\n",
       "  </tbody>\n",
       "</table>\n",
       "</div>"
      ],
      "text/plain": [
       "      manufacturer_name model_name transmission      body_type  \\\n",
       "3927            Hyundai     accent       Số tay          Sedan   \n",
       "6268               Ford     ranger   Số tự động  Pick-up Truck   \n",
       "19692            Toyota   fortuner       Số tay            SUV   \n",
       "12721             Mazda          3   Số tự động      Hatchback   \n",
       "13089               Kia     cerato   Số tự động          Sedan   \n",
       "\n",
       "       production_year  number_of_seat  odometer_value        price  \n",
       "3927              2018               5         11000.0  476000000.0  \n",
       "6268              2017               5         55000.0  790000000.0  \n",
       "19692             2017               7         55000.0  885000000.0  \n",
       "12721             2016               5         35000.0  550000000.0  \n",
       "13089             2010               5        108000.0  380000000.0  "
      ]
     },
     "execution_count": 8,
     "metadata": {},
     "output_type": "execute_result"
    }
   ],
   "source": [
    "# Taking a look at our data\n",
    "df_clean.sample(5)"
   ]
  },
  {
   "cell_type": "code",
   "execution_count": 9,
   "metadata": {
    "scrolled": true
   },
   "outputs": [
    {
     "name": "stdout",
     "output_type": "stream",
     "text": [
      "Index(['manufacturer_name', 'model_name', 'transmission', 'body_type',\n",
      "       'production_year', 'number_of_seat', 'odometer_value', 'price'],\n",
      "      dtype='object') \n",
      " 8\n"
     ]
    }
   ],
   "source": [
    "print(df_clean.columns,'\\n',len(df_clean.columns))\n",
    "\n",
    "# We have 12 features in our columns"
   ]
  },
  {
   "cell_type": "markdown",
   "metadata": {},
   "source": [
    "### Section 2: Data Categorizing"
   ]
  },
  {
   "cell_type": "markdown",
   "metadata": {},
   "source": [
    "## Section 2.1: One-hot encoding TRANSMISSION Column"
   ]
  },
  {
   "cell_type": "code",
   "execution_count": 10,
   "metadata": {
    "scrolled": true
   },
   "outputs": [
    {
     "data": {
      "text/plain": [
       "Số tự động    11396\n",
       "Số tay         5625\n",
       "Số hỗn hợp        6\n",
       "Name: transmission, dtype: int64"
      ]
     },
     "execution_count": 10,
     "metadata": {},
     "output_type": "execute_result"
    }
   ],
   "source": [
    "# Here, we see that there only two options for transmission - Auto or Manual (i.e., Auto or not). \n",
    "# Therefore, we can do 1-hot encoding for this\n",
    "\n",
    "df_clean['transmission'].value_counts()"
   ]
  },
  {
   "cell_type": "code",
   "execution_count": 11,
   "metadata": {},
   "outputs": [
    {
     "data": {
      "text/html": [
       "<div>\n",
       "<style scoped>\n",
       "    .dataframe tbody tr th:only-of-type {\n",
       "        vertical-align: middle;\n",
       "    }\n",
       "\n",
       "    .dataframe tbody tr th {\n",
       "        vertical-align: top;\n",
       "    }\n",
       "\n",
       "    .dataframe thead th {\n",
       "        text-align: right;\n",
       "    }\n",
       "</style>\n",
       "<table border=\"1\" class=\"dataframe\">\n",
       "  <thead>\n",
       "    <tr style=\"text-align: right;\">\n",
       "      <th></th>\n",
       "      <th>manufacturer_name</th>\n",
       "      <th>model_name</th>\n",
       "      <th>body_type</th>\n",
       "      <th>production_year</th>\n",
       "      <th>number_of_seat</th>\n",
       "      <th>odometer_value</th>\n",
       "      <th>price</th>\n",
       "      <th>transmission</th>\n",
       "    </tr>\n",
       "  </thead>\n",
       "  <tbody>\n",
       "    <tr>\n",
       "      <th>17233</th>\n",
       "      <td>Ford</td>\n",
       "      <td>ranger</td>\n",
       "      <td>Pick-up Truck</td>\n",
       "      <td>2017</td>\n",
       "      <td>5</td>\n",
       "      <td>55000.0</td>\n",
       "      <td>7.900000e+08</td>\n",
       "      <td>1</td>\n",
       "    </tr>\n",
       "    <tr>\n",
       "      <th>20503</th>\n",
       "      <td>Kia</td>\n",
       "      <td>morning</td>\n",
       "      <td>Hatchback</td>\n",
       "      <td>2019</td>\n",
       "      <td>5</td>\n",
       "      <td>9612.0</td>\n",
       "      <td>3.700000e+08</td>\n",
       "      <td>1</td>\n",
       "    </tr>\n",
       "    <tr>\n",
       "      <th>6096</th>\n",
       "      <td>Kia</td>\n",
       "      <td>cerato</td>\n",
       "      <td>Sedan</td>\n",
       "      <td>2010</td>\n",
       "      <td>5</td>\n",
       "      <td>108000.0</td>\n",
       "      <td>3.800000e+08</td>\n",
       "      <td>1</td>\n",
       "    </tr>\n",
       "    <tr>\n",
       "      <th>14017</th>\n",
       "      <td>Toyota</td>\n",
       "      <td>innova</td>\n",
       "      <td>MPV</td>\n",
       "      <td>2015</td>\n",
       "      <td>7</td>\n",
       "      <td>170000.0</td>\n",
       "      <td>4.900000e+08</td>\n",
       "      <td>0</td>\n",
       "    </tr>\n",
       "    <tr>\n",
       "      <th>4466</th>\n",
       "      <td>Rolls-Royce</td>\n",
       "      <td>phantom</td>\n",
       "      <td>Sedan</td>\n",
       "      <td>2011</td>\n",
       "      <td>4</td>\n",
       "      <td>30000.0</td>\n",
       "      <td>1.790000e+10</td>\n",
       "      <td>1</td>\n",
       "    </tr>\n",
       "  </tbody>\n",
       "</table>\n",
       "</div>"
      ],
      "text/plain": [
       "      manufacturer_name model_name      body_type  production_year  \\\n",
       "17233              Ford     ranger  Pick-up Truck             2017   \n",
       "20503               Kia    morning      Hatchback             2019   \n",
       "6096                Kia     cerato          Sedan             2010   \n",
       "14017            Toyota     innova            MPV             2015   \n",
       "4466        Rolls-Royce    phantom          Sedan             2011   \n",
       "\n",
       "       number_of_seat  odometer_value         price  transmission  \n",
       "17233               5         55000.0  7.900000e+08             1  \n",
       "20503               5          9612.0  3.700000e+08             1  \n",
       "6096                5        108000.0  3.800000e+08             1  \n",
       "14017               7        170000.0  4.900000e+08             0  \n",
       "4466                4         30000.0  1.790000e+10             1  "
      ]
     },
     "execution_count": 11,
     "metadata": {},
     "output_type": "execute_result"
    }
   ],
   "source": [
    "# Transmission conversion -> 1 for auto, 0 for manual\n",
    "\n",
    "df_clean['transmission_convert'] = df_clean['transmission'].apply(lambda x: 1 if x == 'Số tự động' else 0)\n",
    "df_clean.drop('transmission',axis=1,inplace=True)\n",
    "df_clean.rename(columns={'transmission_convert':\"transmission\"}, inplace=True)  # Renaming column back\n",
    "df_clean.sample(5)"
   ]
  },
  {
   "cell_type": "code",
   "execution_count": 12,
   "metadata": {},
   "outputs": [
    {
     "data": {
      "text/plain": [
       "Sedan              9885\n",
       "SUV                2501\n",
       "Hatchback          2265\n",
       "MPV                1145\n",
       "Pick-up Truck      1111\n",
       "Van/Minivan          69\n",
       "CUV                  32\n",
       "Truck                13\n",
       "City Car              2\n",
       "Sport Car             2\n",
       "Special Purpose       1\n",
       "Coupe                 1\n",
       "Name: body_type, dtype: int64"
      ]
     },
     "execution_count": 12,
     "metadata": {},
     "output_type": "execute_result"
    }
   ],
   "source": [
    "# Performing whitespace stripping prior to dtype manipulation\n",
    "#df_clean['body_type'].apply(str.strip)\n",
    "#df_clean['body_type'].apply(str.lstrip)\n",
    "\n",
    "# Inspection of the type of Vehicles\n",
    "df_clean['body_type'].value_counts()\n",
    "#df_clean['engine_capacity'].value_counts()"
   ]
  },
  {
   "cell_type": "code",
   "execution_count": 13,
   "metadata": {},
   "outputs": [
    {
     "data": {
      "text/html": [
       "<div>\n",
       "<style scoped>\n",
       "    .dataframe tbody tr th:only-of-type {\n",
       "        vertical-align: middle;\n",
       "    }\n",
       "\n",
       "    .dataframe tbody tr th {\n",
       "        vertical-align: top;\n",
       "    }\n",
       "\n",
       "    .dataframe thead th {\n",
       "        text-align: right;\n",
       "    }\n",
       "</style>\n",
       "<table border=\"1\" class=\"dataframe\">\n",
       "  <thead>\n",
       "    <tr style=\"text-align: right;\">\n",
       "      <th></th>\n",
       "      <th>manufacturer_name</th>\n",
       "      <th>model_name</th>\n",
       "      <th>body_type</th>\n",
       "      <th>production_year</th>\n",
       "      <th>number_of_seat</th>\n",
       "      <th>odometer_value</th>\n",
       "      <th>price</th>\n",
       "      <th>transmission</th>\n",
       "    </tr>\n",
       "  </thead>\n",
       "  <tbody>\n",
       "    <tr>\n",
       "      <th>0</th>\n",
       "      <td>Kia</td>\n",
       "      <td>cerato</td>\n",
       "      <td>Sedan</td>\n",
       "      <td>2018</td>\n",
       "      <td>5</td>\n",
       "      <td>15000.0</td>\n",
       "      <td>608000000.0</td>\n",
       "      <td>1</td>\n",
       "    </tr>\n",
       "    <tr>\n",
       "      <th>1</th>\n",
       "      <td>Toyota</td>\n",
       "      <td>innova</td>\n",
       "      <td>MPV</td>\n",
       "      <td>2016</td>\n",
       "      <td>7</td>\n",
       "      <td>151000.0</td>\n",
       "      <td>583000000.0</td>\n",
       "      <td>0</td>\n",
       "    </tr>\n",
       "    <tr>\n",
       "      <th>2</th>\n",
       "      <td>Toyota</td>\n",
       "      <td>innova</td>\n",
       "      <td>MPV</td>\n",
       "      <td>2014</td>\n",
       "      <td>8</td>\n",
       "      <td>82000.0</td>\n",
       "      <td>520000000.0</td>\n",
       "      <td>1</td>\n",
       "    </tr>\n",
       "    <tr>\n",
       "      <th>3</th>\n",
       "      <td>Toyota</td>\n",
       "      <td>corolla-altis</td>\n",
       "      <td>Sedan</td>\n",
       "      <td>2009</td>\n",
       "      <td>5</td>\n",
       "      <td>127000.0</td>\n",
       "      <td>470000000.0</td>\n",
       "      <td>1</td>\n",
       "    </tr>\n",
       "    <tr>\n",
       "      <th>4</th>\n",
       "      <td>Kia</td>\n",
       "      <td>rio</td>\n",
       "      <td>Sedan</td>\n",
       "      <td>2015</td>\n",
       "      <td>5</td>\n",
       "      <td>70000.0</td>\n",
       "      <td>366000000.0</td>\n",
       "      <td>0</td>\n",
       "    </tr>\n",
       "  </tbody>\n",
       "</table>\n",
       "</div>"
      ],
      "text/plain": [
       "  manufacturer_name     model_name body_type  production_year  number_of_seat  \\\n",
       "0               Kia         cerato     Sedan             2018               5   \n",
       "1            Toyota         innova       MPV             2016               7   \n",
       "2            Toyota         innova       MPV             2014               8   \n",
       "3            Toyota  corolla-altis     Sedan             2009               5   \n",
       "4               Kia            rio     Sedan             2015               5   \n",
       "\n",
       "   odometer_value        price  transmission  \n",
       "0         15000.0  608000000.0             1  \n",
       "1        151000.0  583000000.0             0  \n",
       "2         82000.0  520000000.0             1  \n",
       "3        127000.0  470000000.0             1  \n",
       "4         70000.0  366000000.0             0  "
      ]
     },
     "execution_count": 13,
     "metadata": {},
     "output_type": "execute_result"
    }
   ],
   "source": [
    "df_clean.head()"
   ]
  },
  {
   "cell_type": "markdown",
   "metadata": {},
   "source": [
    "## Section 2.2: Datetime conversion"
   ]
  },
  {
   "cell_type": "code",
   "execution_count": 14,
   "metadata": {},
   "outputs": [
    {
     "data": {
      "text/plain": [
       "production_year    int32\n",
       "dtype: object"
      ]
     },
     "execution_count": 14,
     "metadata": {},
     "output_type": "execute_result"
    }
   ],
   "source": [
    "# Converting reg_date to datetime, and Manufactured year to int\n",
    "\n",
    "#df_clean['REG_DATE'] = pd.to_datetime(df_clean['REG_DATE'])\n",
    "df_clean['production_year'] = df_clean['production_year'].astype(int)\n",
    "df_clean[['production_year']].dtypes"
   ]
  },
  {
   "cell_type": "code",
   "execution_count": 15,
   "metadata": {},
   "outputs": [
    {
     "data": {
      "text/plain": [
       "manufacturer_name     object\n",
       "model_name            object\n",
       "body_type             object\n",
       "production_year        int32\n",
       "number_of_seat         int64\n",
       "odometer_value       float64\n",
       "price                float64\n",
       "transmission           int64\n",
       "dtype: object"
      ]
     },
     "execution_count": 15,
     "metadata": {},
     "output_type": "execute_result"
    }
   ],
   "source": [
    "df_clean.dtypes"
   ]
  },
  {
   "cell_type": "code",
   "execution_count": 16,
   "metadata": {},
   "outputs": [],
   "source": [
    "# ONLY RUN THIS CELL ONCE!\n",
    "#df_main['SCRAPE_DATE'] = \\\n",
    "#pd.to_datetime(df_main['SCRAPE_DATE']).dt.year # Convert scrape date to integer to perform operations on them\n"
   ]
  },
  {
   "cell_type": "code",
   "execution_count": 17,
   "metadata": {},
   "outputs": [],
   "source": [
    "#df_main['SCRAPE_DATE'] # Checking dtype"
   ]
  },
  {
   "cell_type": "markdown",
   "metadata": {},
   "source": [
    "### Section 2.2.1: Adding a Car Age Column"
   ]
  },
  {
   "cell_type": "code",
   "execution_count": 18,
   "metadata": {},
   "outputs": [
    {
     "data": {
      "text/plain": [
       "0         2\n",
       "1         4\n",
       "2         6\n",
       "3        11\n",
       "4         5\n",
       "         ..\n",
       "20535     3\n",
       "20536     3\n",
       "20537     9\n",
       "20538     1\n",
       "20539    13\n",
       "Name: car_age, Length: 17027, dtype: int32"
      ]
     },
     "execution_count": 18,
     "metadata": {},
     "output_type": "execute_result"
    }
   ],
   "source": [
    "# Converting current scrape date from main dataframe to datetime object using pandas\n",
    "from datetime import date\n",
    "\n",
    "# Obtaining number of years from year of manufacture to current year (metric for how new the car is)\n",
    "current_year = date.today().year\n",
    "df_clean['car_age'] = current_year - df_clean['production_year'] # Obtaining values for age of car\n",
    "df_clean['car_age'].astype(int)"
   ]
  },
  {
   "cell_type": "code",
   "execution_count": 19,
   "metadata": {},
   "outputs": [
    {
     "data": {
      "text/html": [
       "<div>\n",
       "<style scoped>\n",
       "    .dataframe tbody tr th:only-of-type {\n",
       "        vertical-align: middle;\n",
       "    }\n",
       "\n",
       "    .dataframe tbody tr th {\n",
       "        vertical-align: top;\n",
       "    }\n",
       "\n",
       "    .dataframe thead th {\n",
       "        text-align: right;\n",
       "    }\n",
       "</style>\n",
       "<table border=\"1\" class=\"dataframe\">\n",
       "  <thead>\n",
       "    <tr style=\"text-align: right;\">\n",
       "      <th></th>\n",
       "      <th>manufacturer_name</th>\n",
       "      <th>model_name</th>\n",
       "      <th>body_type</th>\n",
       "      <th>production_year</th>\n",
       "      <th>number_of_seat</th>\n",
       "      <th>odometer_value</th>\n",
       "      <th>price</th>\n",
       "      <th>transmission</th>\n",
       "      <th>car_age</th>\n",
       "    </tr>\n",
       "  </thead>\n",
       "  <tbody>\n",
       "    <tr>\n",
       "      <th>0</th>\n",
       "      <td>Kia</td>\n",
       "      <td>cerato</td>\n",
       "      <td>Sedan</td>\n",
       "      <td>2018</td>\n",
       "      <td>5</td>\n",
       "      <td>15000.0</td>\n",
       "      <td>608000000.0</td>\n",
       "      <td>1</td>\n",
       "      <td>2</td>\n",
       "    </tr>\n",
       "    <tr>\n",
       "      <th>1</th>\n",
       "      <td>Toyota</td>\n",
       "      <td>innova</td>\n",
       "      <td>MPV</td>\n",
       "      <td>2016</td>\n",
       "      <td>7</td>\n",
       "      <td>151000.0</td>\n",
       "      <td>583000000.0</td>\n",
       "      <td>0</td>\n",
       "      <td>4</td>\n",
       "    </tr>\n",
       "    <tr>\n",
       "      <th>2</th>\n",
       "      <td>Toyota</td>\n",
       "      <td>innova</td>\n",
       "      <td>MPV</td>\n",
       "      <td>2014</td>\n",
       "      <td>8</td>\n",
       "      <td>82000.0</td>\n",
       "      <td>520000000.0</td>\n",
       "      <td>1</td>\n",
       "      <td>6</td>\n",
       "    </tr>\n",
       "    <tr>\n",
       "      <th>3</th>\n",
       "      <td>Toyota</td>\n",
       "      <td>corolla-altis</td>\n",
       "      <td>Sedan</td>\n",
       "      <td>2009</td>\n",
       "      <td>5</td>\n",
       "      <td>127000.0</td>\n",
       "      <td>470000000.0</td>\n",
       "      <td>1</td>\n",
       "      <td>11</td>\n",
       "    </tr>\n",
       "    <tr>\n",
       "      <th>4</th>\n",
       "      <td>Kia</td>\n",
       "      <td>rio</td>\n",
       "      <td>Sedan</td>\n",
       "      <td>2015</td>\n",
       "      <td>5</td>\n",
       "      <td>70000.0</td>\n",
       "      <td>366000000.0</td>\n",
       "      <td>0</td>\n",
       "      <td>5</td>\n",
       "    </tr>\n",
       "  </tbody>\n",
       "</table>\n",
       "</div>"
      ],
      "text/plain": [
       "  manufacturer_name     model_name body_type  production_year  number_of_seat  \\\n",
       "0               Kia         cerato     Sedan             2018               5   \n",
       "1            Toyota         innova       MPV             2016               7   \n",
       "2            Toyota         innova       MPV             2014               8   \n",
       "3            Toyota  corolla-altis     Sedan             2009               5   \n",
       "4               Kia            rio     Sedan             2015               5   \n",
       "\n",
       "   odometer_value        price  transmission  car_age  \n",
       "0         15000.0  608000000.0             1        2  \n",
       "1        151000.0  583000000.0             0        4  \n",
       "2         82000.0  520000000.0             1        6  \n",
       "3        127000.0  470000000.0             1       11  \n",
       "4         70000.0  366000000.0             0        5  "
      ]
     },
     "execution_count": 19,
     "metadata": {},
     "output_type": "execute_result"
    }
   ],
   "source": [
    "# Rearranging Columns \n",
    "#df_clean = df_clean[['BRAND', 'PRICE', 'DEPRE_VALUE_PER_YEAR', 'MILEAGE_KM', 'COE_FROM_SCRAPE_DATE', 'DAYS_OF_COE_LEFT', \n",
    "#                    'REG_DATE', 'MANUFACTURED_YEAR', 'CAR_AGE', 'DEREG_VALUE_FROM_SCRAPE_DATE', 'OMV', 'ARF', \n",
    "#                    'ENGINE_CAPACITY_CC', 'ROAD_TAX_PER_YEAR', 'CURB_WEIGHT_KG',\n",
    "#                    'NO_OF_OWNERS', 'VEHICLE_TYPE', 'TRANSMISSION']]\n",
    "df_clean.head()"
   ]
  },
  {
   "cell_type": "markdown",
   "metadata": {},
   "source": [
    "## Section 2.3:BODY_TYPE To Dummy Variables"
   ]
  },
  {
   "cell_type": "code",
   "execution_count": 20,
   "metadata": {
    "scrolled": true
   },
   "outputs": [
    {
     "data": {
      "text/html": [
       "<div>\n",
       "<style scoped>\n",
       "    .dataframe tbody tr th:only-of-type {\n",
       "        vertical-align: middle;\n",
       "    }\n",
       "\n",
       "    .dataframe tbody tr th {\n",
       "        vertical-align: top;\n",
       "    }\n",
       "\n",
       "    .dataframe thead th {\n",
       "        text-align: right;\n",
       "    }\n",
       "</style>\n",
       "<table border=\"1\" class=\"dataframe\">\n",
       "  <thead>\n",
       "    <tr style=\"text-align: right;\">\n",
       "      <th></th>\n",
       "      <th>Intercept</th>\n",
       "      <th>body_type[T.City Car]</th>\n",
       "      <th>body_type[T.Coupe]</th>\n",
       "      <th>body_type[T.Hatchback]</th>\n",
       "      <th>body_type[T.MPV]</th>\n",
       "      <th>body_type[T.Pick-up Truck]</th>\n",
       "      <th>body_type[T.SUV]</th>\n",
       "      <th>body_type[T.Sedan]</th>\n",
       "      <th>body_type[T.Special Purpose]</th>\n",
       "      <th>body_type[T.Sport Car]</th>\n",
       "      <th>body_type[T.Truck]</th>\n",
       "      <th>body_type[T.Van/Minivan]</th>\n",
       "    </tr>\n",
       "  </thead>\n",
       "  <tbody>\n",
       "    <tr>\n",
       "      <th>0</th>\n",
       "      <td>1.0</td>\n",
       "      <td>0.0</td>\n",
       "      <td>0.0</td>\n",
       "      <td>0.0</td>\n",
       "      <td>0.0</td>\n",
       "      <td>0.0</td>\n",
       "      <td>0.0</td>\n",
       "      <td>1.0</td>\n",
       "      <td>0.0</td>\n",
       "      <td>0.0</td>\n",
       "      <td>0.0</td>\n",
       "      <td>0.0</td>\n",
       "    </tr>\n",
       "    <tr>\n",
       "      <th>1</th>\n",
       "      <td>1.0</td>\n",
       "      <td>0.0</td>\n",
       "      <td>0.0</td>\n",
       "      <td>0.0</td>\n",
       "      <td>1.0</td>\n",
       "      <td>0.0</td>\n",
       "      <td>0.0</td>\n",
       "      <td>0.0</td>\n",
       "      <td>0.0</td>\n",
       "      <td>0.0</td>\n",
       "      <td>0.0</td>\n",
       "      <td>0.0</td>\n",
       "    </tr>\n",
       "    <tr>\n",
       "      <th>2</th>\n",
       "      <td>1.0</td>\n",
       "      <td>0.0</td>\n",
       "      <td>0.0</td>\n",
       "      <td>0.0</td>\n",
       "      <td>1.0</td>\n",
       "      <td>0.0</td>\n",
       "      <td>0.0</td>\n",
       "      <td>0.0</td>\n",
       "      <td>0.0</td>\n",
       "      <td>0.0</td>\n",
       "      <td>0.0</td>\n",
       "      <td>0.0</td>\n",
       "    </tr>\n",
       "    <tr>\n",
       "      <th>3</th>\n",
       "      <td>1.0</td>\n",
       "      <td>0.0</td>\n",
       "      <td>0.0</td>\n",
       "      <td>0.0</td>\n",
       "      <td>0.0</td>\n",
       "      <td>0.0</td>\n",
       "      <td>0.0</td>\n",
       "      <td>1.0</td>\n",
       "      <td>0.0</td>\n",
       "      <td>0.0</td>\n",
       "      <td>0.0</td>\n",
       "      <td>0.0</td>\n",
       "    </tr>\n",
       "    <tr>\n",
       "      <th>4</th>\n",
       "      <td>1.0</td>\n",
       "      <td>0.0</td>\n",
       "      <td>0.0</td>\n",
       "      <td>0.0</td>\n",
       "      <td>0.0</td>\n",
       "      <td>0.0</td>\n",
       "      <td>0.0</td>\n",
       "      <td>1.0</td>\n",
       "      <td>0.0</td>\n",
       "      <td>0.0</td>\n",
       "      <td>0.0</td>\n",
       "      <td>0.0</td>\n",
       "    </tr>\n",
       "  </tbody>\n",
       "</table>\n",
       "</div>"
      ],
      "text/plain": [
       "   Intercept  body_type[T.City Car]  body_type[T.Coupe]  \\\n",
       "0        1.0                    0.0                 0.0   \n",
       "1        1.0                    0.0                 0.0   \n",
       "2        1.0                    0.0                 0.0   \n",
       "3        1.0                    0.0                 0.0   \n",
       "4        1.0                    0.0                 0.0   \n",
       "\n",
       "   body_type[T.Hatchback]  body_type[T.MPV]  body_type[T.Pick-up Truck]  \\\n",
       "0                     0.0               0.0                         0.0   \n",
       "1                     0.0               1.0                         0.0   \n",
       "2                     0.0               1.0                         0.0   \n",
       "3                     0.0               0.0                         0.0   \n",
       "4                     0.0               0.0                         0.0   \n",
       "\n",
       "   body_type[T.SUV]  body_type[T.Sedan]  body_type[T.Special Purpose]  \\\n",
       "0               0.0                 1.0                           0.0   \n",
       "1               0.0                 0.0                           0.0   \n",
       "2               0.0                 0.0                           0.0   \n",
       "3               0.0                 1.0                           0.0   \n",
       "4               0.0                 1.0                           0.0   \n",
       "\n",
       "   body_type[T.Sport Car]  body_type[T.Truck]  body_type[T.Van/Minivan]  \n",
       "0                     0.0                 0.0                       0.0  \n",
       "1                     0.0                 0.0                       0.0  \n",
       "2                     0.0                 0.0                       0.0  \n",
       "3                     0.0                 0.0                       0.0  \n",
       "4                     0.0                 0.0                       0.0  "
      ]
     },
     "execution_count": 20,
     "metadata": {},
     "output_type": "execute_result"
    }
   ],
   "source": [
    "# Making Dummy Variables out of Vehicle Types:\n",
    "\n",
    "x_vehtype_dummy = patsy.dmatrix('body_type',data=df_clean,return_type='dataframe')\n",
    "x_vehtype_dummy.head()\n",
    "\n",
    "# Do we drop the \"Intercept\" column?"
   ]
  },
  {
   "cell_type": "code",
   "execution_count": 21,
   "metadata": {
    "scrolled": true
   },
   "outputs": [
    {
     "data": {
      "text/html": [
       "<div>\n",
       "<style scoped>\n",
       "    .dataframe tbody tr th:only-of-type {\n",
       "        vertical-align: middle;\n",
       "    }\n",
       "\n",
       "    .dataframe tbody tr th {\n",
       "        vertical-align: top;\n",
       "    }\n",
       "\n",
       "    .dataframe thead th {\n",
       "        text-align: right;\n",
       "    }\n",
       "</style>\n",
       "<table border=\"1\" class=\"dataframe\">\n",
       "  <thead>\n",
       "    <tr style=\"text-align: right;\">\n",
       "      <th></th>\n",
       "      <th>manufacturer_name</th>\n",
       "      <th>model_name</th>\n",
       "      <th>body_type</th>\n",
       "      <th>production_year</th>\n",
       "      <th>number_of_seat</th>\n",
       "      <th>odometer_value</th>\n",
       "      <th>price</th>\n",
       "      <th>transmission</th>\n",
       "      <th>car_age</th>\n",
       "      <th>Intercept</th>\n",
       "      <th>...</th>\n",
       "      <th>body_type[T.Coupe]</th>\n",
       "      <th>body_type[T.Hatchback]</th>\n",
       "      <th>body_type[T.MPV]</th>\n",
       "      <th>body_type[T.Pick-up Truck]</th>\n",
       "      <th>body_type[T.SUV]</th>\n",
       "      <th>body_type[T.Sedan]</th>\n",
       "      <th>body_type[T.Special Purpose]</th>\n",
       "      <th>body_type[T.Sport Car]</th>\n",
       "      <th>body_type[T.Truck]</th>\n",
       "      <th>body_type[T.Van/Minivan]</th>\n",
       "    </tr>\n",
       "  </thead>\n",
       "  <tbody>\n",
       "    <tr>\n",
       "      <th>0</th>\n",
       "      <td>Kia</td>\n",
       "      <td>cerato</td>\n",
       "      <td>Sedan</td>\n",
       "      <td>2018</td>\n",
       "      <td>5</td>\n",
       "      <td>15000.0</td>\n",
       "      <td>6.080000e+08</td>\n",
       "      <td>1</td>\n",
       "      <td>2</td>\n",
       "      <td>1.0</td>\n",
       "      <td>...</td>\n",
       "      <td>0.0</td>\n",
       "      <td>0.0</td>\n",
       "      <td>0.0</td>\n",
       "      <td>0.0</td>\n",
       "      <td>0.0</td>\n",
       "      <td>1.0</td>\n",
       "      <td>0.0</td>\n",
       "      <td>0.0</td>\n",
       "      <td>0.0</td>\n",
       "      <td>0.0</td>\n",
       "    </tr>\n",
       "    <tr>\n",
       "      <th>1</th>\n",
       "      <td>Toyota</td>\n",
       "      <td>innova</td>\n",
       "      <td>MPV</td>\n",
       "      <td>2016</td>\n",
       "      <td>7</td>\n",
       "      <td>151000.0</td>\n",
       "      <td>5.830000e+08</td>\n",
       "      <td>0</td>\n",
       "      <td>4</td>\n",
       "      <td>1.0</td>\n",
       "      <td>...</td>\n",
       "      <td>0.0</td>\n",
       "      <td>0.0</td>\n",
       "      <td>1.0</td>\n",
       "      <td>0.0</td>\n",
       "      <td>0.0</td>\n",
       "      <td>0.0</td>\n",
       "      <td>0.0</td>\n",
       "      <td>0.0</td>\n",
       "      <td>0.0</td>\n",
       "      <td>0.0</td>\n",
       "    </tr>\n",
       "    <tr>\n",
       "      <th>2</th>\n",
       "      <td>Toyota</td>\n",
       "      <td>innova</td>\n",
       "      <td>MPV</td>\n",
       "      <td>2014</td>\n",
       "      <td>8</td>\n",
       "      <td>82000.0</td>\n",
       "      <td>5.200000e+08</td>\n",
       "      <td>1</td>\n",
       "      <td>6</td>\n",
       "      <td>1.0</td>\n",
       "      <td>...</td>\n",
       "      <td>0.0</td>\n",
       "      <td>0.0</td>\n",
       "      <td>1.0</td>\n",
       "      <td>0.0</td>\n",
       "      <td>0.0</td>\n",
       "      <td>0.0</td>\n",
       "      <td>0.0</td>\n",
       "      <td>0.0</td>\n",
       "      <td>0.0</td>\n",
       "      <td>0.0</td>\n",
       "    </tr>\n",
       "    <tr>\n",
       "      <th>3</th>\n",
       "      <td>Toyota</td>\n",
       "      <td>corolla-altis</td>\n",
       "      <td>Sedan</td>\n",
       "      <td>2009</td>\n",
       "      <td>5</td>\n",
       "      <td>127000.0</td>\n",
       "      <td>4.700000e+08</td>\n",
       "      <td>1</td>\n",
       "      <td>11</td>\n",
       "      <td>1.0</td>\n",
       "      <td>...</td>\n",
       "      <td>0.0</td>\n",
       "      <td>0.0</td>\n",
       "      <td>0.0</td>\n",
       "      <td>0.0</td>\n",
       "      <td>0.0</td>\n",
       "      <td>1.0</td>\n",
       "      <td>0.0</td>\n",
       "      <td>0.0</td>\n",
       "      <td>0.0</td>\n",
       "      <td>0.0</td>\n",
       "    </tr>\n",
       "    <tr>\n",
       "      <th>4</th>\n",
       "      <td>Kia</td>\n",
       "      <td>rio</td>\n",
       "      <td>Sedan</td>\n",
       "      <td>2015</td>\n",
       "      <td>5</td>\n",
       "      <td>70000.0</td>\n",
       "      <td>3.660000e+08</td>\n",
       "      <td>0</td>\n",
       "      <td>5</td>\n",
       "      <td>1.0</td>\n",
       "      <td>...</td>\n",
       "      <td>0.0</td>\n",
       "      <td>0.0</td>\n",
       "      <td>0.0</td>\n",
       "      <td>0.0</td>\n",
       "      <td>0.0</td>\n",
       "      <td>1.0</td>\n",
       "      <td>0.0</td>\n",
       "      <td>0.0</td>\n",
       "      <td>0.0</td>\n",
       "      <td>0.0</td>\n",
       "    </tr>\n",
       "    <tr>\n",
       "      <th>...</th>\n",
       "      <td>...</td>\n",
       "      <td>...</td>\n",
       "      <td>...</td>\n",
       "      <td>...</td>\n",
       "      <td>...</td>\n",
       "      <td>...</td>\n",
       "      <td>...</td>\n",
       "      <td>...</td>\n",
       "      <td>...</td>\n",
       "      <td>...</td>\n",
       "      <td>...</td>\n",
       "      <td>...</td>\n",
       "      <td>...</td>\n",
       "      <td>...</td>\n",
       "      <td>...</td>\n",
       "      <td>...</td>\n",
       "      <td>...</td>\n",
       "      <td>...</td>\n",
       "      <td>...</td>\n",
       "      <td>...</td>\n",
       "      <td>...</td>\n",
       "    </tr>\n",
       "    <tr>\n",
       "      <th>20535</th>\n",
       "      <td>Ford</td>\n",
       "      <td>ranger</td>\n",
       "      <td>Pick-up Truck</td>\n",
       "      <td>2017</td>\n",
       "      <td>5</td>\n",
       "      <td>55000.0</td>\n",
       "      <td>7.900000e+08</td>\n",
       "      <td>1</td>\n",
       "      <td>3</td>\n",
       "      <td>1.0</td>\n",
       "      <td>...</td>\n",
       "      <td>0.0</td>\n",
       "      <td>0.0</td>\n",
       "      <td>0.0</td>\n",
       "      <td>1.0</td>\n",
       "      <td>0.0</td>\n",
       "      <td>0.0</td>\n",
       "      <td>0.0</td>\n",
       "      <td>0.0</td>\n",
       "      <td>0.0</td>\n",
       "      <td>0.0</td>\n",
       "    </tr>\n",
       "    <tr>\n",
       "      <th>20536</th>\n",
       "      <td>Toyota</td>\n",
       "      <td>fortuner</td>\n",
       "      <td>SUV</td>\n",
       "      <td>2017</td>\n",
       "      <td>7</td>\n",
       "      <td>55000.0</td>\n",
       "      <td>8.850000e+08</td>\n",
       "      <td>0</td>\n",
       "      <td>3</td>\n",
       "      <td>1.0</td>\n",
       "      <td>...</td>\n",
       "      <td>0.0</td>\n",
       "      <td>0.0</td>\n",
       "      <td>0.0</td>\n",
       "      <td>0.0</td>\n",
       "      <td>1.0</td>\n",
       "      <td>0.0</td>\n",
       "      <td>0.0</td>\n",
       "      <td>0.0</td>\n",
       "      <td>0.0</td>\n",
       "      <td>0.0</td>\n",
       "    </tr>\n",
       "    <tr>\n",
       "      <th>20537</th>\n",
       "      <td>Rolls-Royce</td>\n",
       "      <td>phantom</td>\n",
       "      <td>Sedan</td>\n",
       "      <td>2011</td>\n",
       "      <td>4</td>\n",
       "      <td>30000.0</td>\n",
       "      <td>1.790000e+10</td>\n",
       "      <td>1</td>\n",
       "      <td>9</td>\n",
       "      <td>1.0</td>\n",
       "      <td>...</td>\n",
       "      <td>0.0</td>\n",
       "      <td>0.0</td>\n",
       "      <td>0.0</td>\n",
       "      <td>0.0</td>\n",
       "      <td>0.0</td>\n",
       "      <td>1.0</td>\n",
       "      <td>0.0</td>\n",
       "      <td>0.0</td>\n",
       "      <td>0.0</td>\n",
       "      <td>0.0</td>\n",
       "    </tr>\n",
       "    <tr>\n",
       "      <th>20538</th>\n",
       "      <td>Toyota</td>\n",
       "      <td>fortuner</td>\n",
       "      <td>SUV</td>\n",
       "      <td>2019</td>\n",
       "      <td>7</td>\n",
       "      <td>7000.0</td>\n",
       "      <td>1.030000e+09</td>\n",
       "      <td>1</td>\n",
       "      <td>1</td>\n",
       "      <td>1.0</td>\n",
       "      <td>...</td>\n",
       "      <td>0.0</td>\n",
       "      <td>0.0</td>\n",
       "      <td>0.0</td>\n",
       "      <td>0.0</td>\n",
       "      <td>1.0</td>\n",
       "      <td>0.0</td>\n",
       "      <td>0.0</td>\n",
       "      <td>0.0</td>\n",
       "      <td>0.0</td>\n",
       "      <td>0.0</td>\n",
       "    </tr>\n",
       "    <tr>\n",
       "      <th>20539</th>\n",
       "      <td>Toyota</td>\n",
       "      <td>camry</td>\n",
       "      <td>Sedan</td>\n",
       "      <td>2007</td>\n",
       "      <td>5</td>\n",
       "      <td>150000.0</td>\n",
       "      <td>4.320000e+08</td>\n",
       "      <td>1</td>\n",
       "      <td>13</td>\n",
       "      <td>1.0</td>\n",
       "      <td>...</td>\n",
       "      <td>0.0</td>\n",
       "      <td>0.0</td>\n",
       "      <td>0.0</td>\n",
       "      <td>0.0</td>\n",
       "      <td>0.0</td>\n",
       "      <td>1.0</td>\n",
       "      <td>0.0</td>\n",
       "      <td>0.0</td>\n",
       "      <td>0.0</td>\n",
       "      <td>0.0</td>\n",
       "    </tr>\n",
       "  </tbody>\n",
       "</table>\n",
       "<p>17027 rows × 21 columns</p>\n",
       "</div>"
      ],
      "text/plain": [
       "      manufacturer_name     model_name      body_type  production_year  \\\n",
       "0                   Kia         cerato          Sedan             2018   \n",
       "1                Toyota         innova            MPV             2016   \n",
       "2                Toyota         innova            MPV             2014   \n",
       "3                Toyota  corolla-altis          Sedan             2009   \n",
       "4                   Kia            rio          Sedan             2015   \n",
       "...                 ...            ...            ...              ...   \n",
       "20535              Ford         ranger  Pick-up Truck             2017   \n",
       "20536            Toyota       fortuner            SUV             2017   \n",
       "20537       Rolls-Royce        phantom          Sedan             2011   \n",
       "20538            Toyota       fortuner            SUV             2019   \n",
       "20539            Toyota          camry          Sedan             2007   \n",
       "\n",
       "       number_of_seat  odometer_value         price  transmission  car_age  \\\n",
       "0                   5         15000.0  6.080000e+08             1        2   \n",
       "1                   7        151000.0  5.830000e+08             0        4   \n",
       "2                   8         82000.0  5.200000e+08             1        6   \n",
       "3                   5        127000.0  4.700000e+08             1       11   \n",
       "4                   5         70000.0  3.660000e+08             0        5   \n",
       "...               ...             ...           ...           ...      ...   \n",
       "20535               5         55000.0  7.900000e+08             1        3   \n",
       "20536               7         55000.0  8.850000e+08             0        3   \n",
       "20537               4         30000.0  1.790000e+10             1        9   \n",
       "20538               7          7000.0  1.030000e+09             1        1   \n",
       "20539               5        150000.0  4.320000e+08             1       13   \n",
       "\n",
       "       Intercept  ...  body_type[T.Coupe]  body_type[T.Hatchback]  \\\n",
       "0            1.0  ...                 0.0                     0.0   \n",
       "1            1.0  ...                 0.0                     0.0   \n",
       "2            1.0  ...                 0.0                     0.0   \n",
       "3            1.0  ...                 0.0                     0.0   \n",
       "4            1.0  ...                 0.0                     0.0   \n",
       "...          ...  ...                 ...                     ...   \n",
       "20535        1.0  ...                 0.0                     0.0   \n",
       "20536        1.0  ...                 0.0                     0.0   \n",
       "20537        1.0  ...                 0.0                     0.0   \n",
       "20538        1.0  ...                 0.0                     0.0   \n",
       "20539        1.0  ...                 0.0                     0.0   \n",
       "\n",
       "       body_type[T.MPV]  body_type[T.Pick-up Truck]  body_type[T.SUV]  \\\n",
       "0                   0.0                         0.0               0.0   \n",
       "1                   1.0                         0.0               0.0   \n",
       "2                   1.0                         0.0               0.0   \n",
       "3                   0.0                         0.0               0.0   \n",
       "4                   0.0                         0.0               0.0   \n",
       "...                 ...                         ...               ...   \n",
       "20535               0.0                         1.0               0.0   \n",
       "20536               0.0                         0.0               1.0   \n",
       "20537               0.0                         0.0               0.0   \n",
       "20538               0.0                         0.0               1.0   \n",
       "20539               0.0                         0.0               0.0   \n",
       "\n",
       "       body_type[T.Sedan]  body_type[T.Special Purpose]  \\\n",
       "0                     1.0                           0.0   \n",
       "1                     0.0                           0.0   \n",
       "2                     0.0                           0.0   \n",
       "3                     1.0                           0.0   \n",
       "4                     1.0                           0.0   \n",
       "...                   ...                           ...   \n",
       "20535                 0.0                           0.0   \n",
       "20536                 0.0                           0.0   \n",
       "20537                 1.0                           0.0   \n",
       "20538                 0.0                           0.0   \n",
       "20539                 1.0                           0.0   \n",
       "\n",
       "       body_type[T.Sport Car]  body_type[T.Truck]  body_type[T.Van/Minivan]  \n",
       "0                         0.0                 0.0                       0.0  \n",
       "1                         0.0                 0.0                       0.0  \n",
       "2                         0.0                 0.0                       0.0  \n",
       "3                         0.0                 0.0                       0.0  \n",
       "4                         0.0                 0.0                       0.0  \n",
       "...                       ...                 ...                       ...  \n",
       "20535                     0.0                 0.0                       0.0  \n",
       "20536                     0.0                 0.0                       0.0  \n",
       "20537                     0.0                 0.0                       0.0  \n",
       "20538                     0.0                 0.0                       0.0  \n",
       "20539                     0.0                 0.0                       0.0  \n",
       "\n",
       "[17027 rows x 21 columns]"
      ]
     },
     "execution_count": 21,
     "metadata": {},
     "output_type": "execute_result"
    }
   ],
   "source": [
    "#df_clean_memory = df_clean.memory_usage(index=True).sum()\n",
    "x_vehtype_dummy_memory = x_vehtype_dummy.memory_usage(index=True).sum()\n",
    "#print(\"df_clean_memory dataset uses \",df_clean_memory/ 1024**2,\" MB\")\n",
    "#print(\"x_vehtype_dummy_memory dataset uses \",x_vehtype_dummy_memory/ 1024**2,\" MB\")\n",
    "df_clean2 = df_clean.join(x_vehtype_dummy)\n",
    "df_clean2 "
   ]
  },
  {
   "cell_type": "markdown",
   "metadata": {},
   "source": [
    "## Section 2.4: Car Brand Categorization. Includes:\n",
    "* Splitting them into Dummy Variables\n",
    "* Indexing them into price range categories (perhaps better metric over vehicle types)\n",
    "* Converting lesser-known brands into \"others\""
   ]
  },
  {
   "cell_type": "code",
   "execution_count": 22,
   "metadata": {},
   "outputs": [],
   "source": [
    "# Renaming Brand Names to their actual names\n",
    "\n",
    "#df_clean2.loc[df_clean2['BRAND'] == 'Aston','BRAND'] = 'Aston Martin'\n",
    "#df_clean2.loc[df_clean2['BRAND'] == 'Land','BRAND'] = 'Land Rover'\n",
    "#df_clean2.loc[df_clean2['BRAND'] == 'Alfa', 'BRAND'] = 'Alfa Romeo'\n",
    "#df_clean2.head()"
   ]
  },
  {
   "cell_type": "code",
   "execution_count": 23,
   "metadata": {},
   "outputs": [
    {
     "name": "stdout",
     "output_type": "stream",
     "text": [
      "# Of rows in DataFrame in Brands Column:\n",
      " 0                Kia\n",
      "1             Toyota\n",
      "2             Toyota\n",
      "3             Toyota\n",
      "4                Kia\n",
      "            ...     \n",
      "20535           Ford\n",
      "20536         Toyota\n",
      "20537    Rolls-Royce\n",
      "20538         Toyota\n",
      "20539         Toyota\n",
      "Name: manufacturer_name, Length: 17027, dtype: object\n",
      "\n",
      "Value Counts of Brands:\n",
      " Toyota           8693\n",
      "Kia              2228\n",
      "Mercedes-Benz    1207\n",
      "Hyundai          1182\n",
      "Ford             1178\n",
      "Mazda            1098\n",
      "Rolls-Royce      1046\n",
      "Lexus              70\n",
      "Honda              55\n",
      "Chevrolet          54\n",
      "Mitsubishi         32\n",
      "LandRover          28\n",
      "BMW                25\n",
      "Audi               23\n",
      "Nissan             23\n",
      "Daewoo             17\n",
      "Suzuki             13\n",
      "Cadillac            7\n",
      "Porsche             7\n",
      "Bentley             5\n",
      "Isuzu               4\n",
      "Jaguar              4\n",
      "Acura               4\n",
      "Peugeot             3\n",
      "Renault             3\n",
      "Cửu Long            2\n",
      "Mini                2\n",
      "Zotye               2\n",
      "Volkswagen          2\n",
      "Samco               1\n",
      "FAW                 1\n",
      "Thaco               1\n",
      "Fiat                1\n",
      "Maserati            1\n",
      "Fuso                1\n",
      "Subaru              1\n",
      "Hino                1\n",
      "Infiniti            1\n",
      "Ssangyong           1\n",
      "Name: manufacturer_name, dtype: int64\n",
      "\n",
      "# of Brands: 39\n"
     ]
    }
   ],
   "source": [
    "# Cleaning whitespaces from the values in \"Brand\" to prevent any messup later\n",
    "#df_clean2['manufacturer_name'].apply(str.strip)\n",
    "\n",
    "# Checking the number of brands in the dataset\n",
    "print(\"# Of rows in DataFrame in Brands Column:\\n\", df_clean2.loc[:,'manufacturer_name'])\n",
    "print(\"\\nValue Counts of Brands:\\n\", df_clean2.loc[:,'manufacturer_name'].value_counts())\n",
    "print(\"\\n# of Brands:\", len(df_clean2.loc[:,'manufacturer_name'].value_counts()))\n",
    "\n",
    "# New Column ATAS\n",
    "# New Column Budget Cars\n",
    "# Top 20 brands\n",
    "# Am I comfortable with grouping uncommon cars into others?"
   ]
  },
  {
   "cell_type": "markdown",
   "metadata": {},
   "source": [
    "## Section 3: Data Visualization\n",
    "* EDA  \n",
    "* Correlation Matrix  \n",
    "* Pairplots  "
   ]
  },
  {
   "cell_type": "markdown",
   "metadata": {},
   "source": [
    "## Section 3.1: Preliminary Correlation Exploration"
   ]
  },
  {
   "cell_type": "markdown",
   "metadata": {},
   "source": [
    "### Section 3.1.1: Analysis without Car Brands and Vehicle Types for Feature Dropping"
   ]
  },
  {
   "cell_type": "code",
   "execution_count": 24,
   "metadata": {},
   "outputs": [
    {
     "data": {
      "text/plain": [
       "Index(['manufacturer_name', 'model_name', 'body_type', 'production_year',\n",
       "       'number_of_seat', 'odometer_value', 'price', 'transmission', 'car_age',\n",
       "       'Intercept', 'body_type[T.City Car]', 'body_type[T.Coupe]',\n",
       "       'body_type[T.Hatchback]', 'body_type[T.MPV]',\n",
       "       'body_type[T.Pick-up Truck]', 'body_type[T.SUV]', 'body_type[T.Sedan]',\n",
       "       'body_type[T.Special Purpose]', 'body_type[T.Sport Car]',\n",
       "       'body_type[T.Truck]', 'body_type[T.Van/Minivan]'],\n",
       "      dtype='object')"
      ]
     },
     "execution_count": 24,
     "metadata": {},
     "output_type": "execute_result"
    }
   ],
   "source": [
    "df_clean2.columns"
   ]
  },
  {
   "cell_type": "code",
   "execution_count": 25,
   "metadata": {},
   "outputs": [
    {
     "data": {
      "text/html": [
       "<div>\n",
       "<style scoped>\n",
       "    .dataframe tbody tr th:only-of-type {\n",
       "        vertical-align: middle;\n",
       "    }\n",
       "\n",
       "    .dataframe tbody tr th {\n",
       "        vertical-align: top;\n",
       "    }\n",
       "\n",
       "    .dataframe thead th {\n",
       "        text-align: right;\n",
       "    }\n",
       "</style>\n",
       "<table border=\"1\" class=\"dataframe\">\n",
       "  <thead>\n",
       "    <tr style=\"text-align: right;\">\n",
       "      <th></th>\n",
       "      <th>model_name</th>\n",
       "      <th>body_type</th>\n",
       "      <th>production_year</th>\n",
       "      <th>number_of_seat</th>\n",
       "      <th>odometer_value</th>\n",
       "      <th>price</th>\n",
       "      <th>transmission</th>\n",
       "      <th>car_age</th>\n",
       "    </tr>\n",
       "  </thead>\n",
       "  <tbody>\n",
       "    <tr>\n",
       "      <th>0</th>\n",
       "      <td>cerato</td>\n",
       "      <td>Sedan</td>\n",
       "      <td>2018</td>\n",
       "      <td>5</td>\n",
       "      <td>15000.0</td>\n",
       "      <td>608000000.0</td>\n",
       "      <td>1</td>\n",
       "      <td>2</td>\n",
       "    </tr>\n",
       "    <tr>\n",
       "      <th>1</th>\n",
       "      <td>innova</td>\n",
       "      <td>MPV</td>\n",
       "      <td>2016</td>\n",
       "      <td>7</td>\n",
       "      <td>151000.0</td>\n",
       "      <td>583000000.0</td>\n",
       "      <td>0</td>\n",
       "      <td>4</td>\n",
       "    </tr>\n",
       "    <tr>\n",
       "      <th>2</th>\n",
       "      <td>innova</td>\n",
       "      <td>MPV</td>\n",
       "      <td>2014</td>\n",
       "      <td>8</td>\n",
       "      <td>82000.0</td>\n",
       "      <td>520000000.0</td>\n",
       "      <td>1</td>\n",
       "      <td>6</td>\n",
       "    </tr>\n",
       "    <tr>\n",
       "      <th>3</th>\n",
       "      <td>corolla-altis</td>\n",
       "      <td>Sedan</td>\n",
       "      <td>2009</td>\n",
       "      <td>5</td>\n",
       "      <td>127000.0</td>\n",
       "      <td>470000000.0</td>\n",
       "      <td>1</td>\n",
       "      <td>11</td>\n",
       "    </tr>\n",
       "    <tr>\n",
       "      <th>4</th>\n",
       "      <td>rio</td>\n",
       "      <td>Sedan</td>\n",
       "      <td>2015</td>\n",
       "      <td>5</td>\n",
       "      <td>70000.0</td>\n",
       "      <td>366000000.0</td>\n",
       "      <td>0</td>\n",
       "      <td>5</td>\n",
       "    </tr>\n",
       "  </tbody>\n",
       "</table>\n",
       "</div>"
      ],
      "text/plain": [
       "      model_name body_type  production_year  number_of_seat  odometer_value  \\\n",
       "0         cerato     Sedan             2018               5         15000.0   \n",
       "1         innova       MPV             2016               7        151000.0   \n",
       "2         innova       MPV             2014               8         82000.0   \n",
       "3  corolla-altis     Sedan             2009               5        127000.0   \n",
       "4            rio     Sedan             2015               5         70000.0   \n",
       "\n",
       "         price  transmission  car_age  \n",
       "0  608000000.0             1        2  \n",
       "1  583000000.0             0        4  \n",
       "2  520000000.0             1        6  \n",
       "3  470000000.0             1       11  \n",
       "4  366000000.0             0        5  "
      ]
     },
     "execution_count": 25,
     "metadata": {},
     "output_type": "execute_result"
    }
   ],
   "source": [
    "df_price_no_brands = df_clean2[['model_name', 'body_type', 'production_year',\n",
    "       'number_of_seat', 'odometer_value', 'price', 'transmission',\n",
    "       'car_age']]\n",
    "df_price_no_brands.head()"
   ]
  },
  {
   "cell_type": "code",
   "execution_count": 26,
   "metadata": {},
   "outputs": [
    {
     "data": {
      "text/html": [
       "<div>\n",
       "<style scoped>\n",
       "    .dataframe tbody tr th:only-of-type {\n",
       "        vertical-align: middle;\n",
       "    }\n",
       "\n",
       "    .dataframe tbody tr th {\n",
       "        vertical-align: top;\n",
       "    }\n",
       "\n",
       "    .dataframe thead th {\n",
       "        text-align: right;\n",
       "    }\n",
       "</style>\n",
       "<table border=\"1\" class=\"dataframe\">\n",
       "  <thead>\n",
       "    <tr style=\"text-align: right;\">\n",
       "      <th></th>\n",
       "      <th>production_year</th>\n",
       "      <th>number_of_seat</th>\n",
       "      <th>odometer_value</th>\n",
       "      <th>price</th>\n",
       "      <th>transmission</th>\n",
       "      <th>car_age</th>\n",
       "    </tr>\n",
       "  </thead>\n",
       "  <tbody>\n",
       "    <tr>\n",
       "      <th>production_year</th>\n",
       "      <td>1.000000</td>\n",
       "      <td>0.236836</td>\n",
       "      <td>-0.456331</td>\n",
       "      <td>-0.154276</td>\n",
       "      <td>-0.101028</td>\n",
       "      <td>-1.000000</td>\n",
       "    </tr>\n",
       "    <tr>\n",
       "      <th>number_of_seat</th>\n",
       "      <td>0.236836</td>\n",
       "      <td>1.000000</td>\n",
       "      <td>0.066034</td>\n",
       "      <td>-0.277563</td>\n",
       "      <td>-0.298586</td>\n",
       "      <td>-0.236836</td>\n",
       "    </tr>\n",
       "    <tr>\n",
       "      <th>odometer_value</th>\n",
       "      <td>-0.456331</td>\n",
       "      <td>0.066034</td>\n",
       "      <td>1.000000</td>\n",
       "      <td>-0.127782</td>\n",
       "      <td>-0.094796</td>\n",
       "      <td>0.456331</td>\n",
       "    </tr>\n",
       "    <tr>\n",
       "      <th>price</th>\n",
       "      <td>-0.154276</td>\n",
       "      <td>-0.277563</td>\n",
       "      <td>-0.127782</td>\n",
       "      <td>1.000000</td>\n",
       "      <td>0.199976</td>\n",
       "      <td>0.154276</td>\n",
       "    </tr>\n",
       "    <tr>\n",
       "      <th>transmission</th>\n",
       "      <td>-0.101028</td>\n",
       "      <td>-0.298586</td>\n",
       "      <td>-0.094796</td>\n",
       "      <td>0.199976</td>\n",
       "      <td>1.000000</td>\n",
       "      <td>0.101028</td>\n",
       "    </tr>\n",
       "    <tr>\n",
       "      <th>car_age</th>\n",
       "      <td>-1.000000</td>\n",
       "      <td>-0.236836</td>\n",
       "      <td>0.456331</td>\n",
       "      <td>0.154276</td>\n",
       "      <td>0.101028</td>\n",
       "      <td>1.000000</td>\n",
       "    </tr>\n",
       "  </tbody>\n",
       "</table>\n",
       "</div>"
      ],
      "text/plain": [
       "                 production_year  number_of_seat  odometer_value     price  \\\n",
       "production_year         1.000000        0.236836       -0.456331 -0.154276   \n",
       "number_of_seat          0.236836        1.000000        0.066034 -0.277563   \n",
       "odometer_value         -0.456331        0.066034        1.000000 -0.127782   \n",
       "price                  -0.154276       -0.277563       -0.127782  1.000000   \n",
       "transmission           -0.101028       -0.298586       -0.094796  0.199976   \n",
       "car_age                -1.000000       -0.236836        0.456331  0.154276   \n",
       "\n",
       "                 transmission   car_age  \n",
       "production_year     -0.101028 -1.000000  \n",
       "number_of_seat      -0.298586 -0.236836  \n",
       "odometer_value      -0.094796  0.456331  \n",
       "price                0.199976  0.154276  \n",
       "transmission         1.000000  0.101028  \n",
       "car_age              0.101028  1.000000  "
      ]
     },
     "execution_count": 26,
     "metadata": {},
     "output_type": "execute_result"
    }
   ],
   "source": [
    "# Corr Matrix\n",
    "df_price_no_brands.corr()"
   ]
  },
  {
   "cell_type": "code",
   "execution_count": 27,
   "metadata": {},
   "outputs": [
    {
     "data": {
      "text/plain": [
       "price              1.000000\n",
       "transmission       0.199976\n",
       "car_age            0.154276\n",
       "odometer_value    -0.127782\n",
       "production_year   -0.154276\n",
       "number_of_seat    -0.277563\n",
       "Name: price, dtype: float64"
      ]
     },
     "execution_count": 27,
     "metadata": {},
     "output_type": "execute_result"
    }
   ],
   "source": [
    "# How each feature relates to price\n",
    "df_price_no_brands.corr()['price'].sort_values(ascending=False)"
   ]
  },
  {
   "cell_type": "code",
   "execution_count": 28,
   "metadata": {},
   "outputs": [
    {
     "data": {
      "text/plain": [
       "(6.0, 0.0)"
      ]
     },
     "execution_count": 28,
     "metadata": {},
     "output_type": "execute_result"
    },
    {
     "data": {
      "image/png": "[encoded data removed]",
      "text/plain": [
       "<Figure size 1080x1080 with 2 Axes>"
      ]
     },
     "metadata": {},
     "output_type": "display_data"
    }
   ],
   "source": [
    "# Corr Matrix Heatmap Visualization\n",
    "\n",
    "sns.set(style=\"white\")\n",
    "\n",
    "# Generate a mask for the upper triangle\n",
    "mask = np.zeros_like(df_price_no_brands.corr(), dtype=np.bool)\n",
    "mask[np.triu_indices_from(mask)] = True\n",
    "\n",
    "# Set up the matplotlib figure to control size of heatmap\n",
    "fig, ax = plt.subplots(figsize=(15,15))\n",
    "\n",
    "# Create a custom color palette\n",
    "cmap = \\\n",
    "sns.diverging_palette(133, 10,\n",
    "                      as_cmap=True)  # as_cmap returns a matplotlib colormap object rather than a list of colors\n",
    "# Green = Good (low correlation), Red = Bad (high correlation) between the independent variables\n",
    "\n",
    "# Plot the heatmap\n",
    "sns.heatmap(df_price_no_brands.corr(), mask=mask, annot=True, \n",
    "            square=True, cmap=cmap , vmin=-1, vmax=1,ax=ax);\n",
    "\n",
    "# Prevent Heatmap Cut-Off Issue\n",
    "bottom, top = ax.get_ylim()\n",
    "ax.set_ylim(bottom + 0.5, top - 0.5)"
   ]
  },
  {
   "cell_type": "markdown",
   "metadata": {},
   "source": [
    "### Section 3.1.2: Removing Independent Variables with High Correlation to each other"
   ]
  },
  {
   "cell_type": "code",
   "execution_count": 29,
   "metadata": {},
   "outputs": [
    {
     "name": "stderr",
     "output_type": "stream",
     "text": [
      "D:\\Application\\Anaconda2\\envs\\py3\\lib\\site-packages\\pandas\\core\\frame.py:4117: SettingWithCopyWarning: \n",
      "A value is trying to be set on a copy of a slice from a DataFrame\n",
      "\n",
      "See the caveats in the documentation: http://pandas.pydata.org/pandas-docs/stable/user_guide/indexing.html#returning-a-view-versus-a-copy\n",
      "  errors=errors,\n"
     ]
    },
    {
     "data": {
      "text/plain": [
       "Index(['model_name', 'number_of_seat', 'odometer_value', 'price',\n",
       "       'transmission', 'car_age'],\n",
       "      dtype='object')"
      ]
     },
     "execution_count": 29,
     "metadata": {},
     "output_type": "execute_result"
    }
   ],
   "source": [
    "df_price_no_brands.drop(['production_year','body_type'],axis=1,inplace=True)\n",
    "df_price_no_brands.columns"
   ]
  },
  {
   "cell_type": "markdown",
   "metadata": {},
   "source": [
    "### Section 3.1.3: Re-Visualizing New Correlation Matrix (with a few features dropped)"
   ]
  },
  {
   "cell_type": "markdown",
   "metadata": {},
   "source": [
    "#### From the above Corr Matrix, we can observe that a few Independent Variables are highly correlated with each other. \n",
    "Interestingly, this makes sense due to how a few of the independent variables are calculated. Therefore, some of these features can be dropped.  \n",
    "1. **OMV and ARF:** \n",
    "The Additional Registration Fee (ARF) is a tax imposed upon registration of a vehicle. It is calculated based on a percentage of the Open Market Value (OMV) of the vehicle. From the correlation matrix, they have a correlation of **0.96.** Therefore, we can just keep one of this. Therefore, **ARF** will be dropped.\n",
    "   \n",
    "   \n",
    "2. **Engine CC and Road Tax:** \n",
    "Road tax increases as engine CC increases. Therefore, having Road Tax in it would be introducing multicolinearity into the model, since both explain the same thing anyway. From the correlation matrix, they have a correlation of **0.97**. Therefore, **road tax** column will be dropped.\n",
    "   \n",
    "   \n",
    "3. **Manufactured Year and Car Age:** \n",
    "Obviously, manufactured year can be dropped, since Car Age is derived from year of manufacture. And since car age is more intuitive, **Manufactured Year** column will be dropped.  From the correlation matrix, they have a correlation of **-1**. \n",
    "  \n",
    "\n",
    "  \n",
    "4. **Dereg Value:**  \n",
    "The deregistration value of a vehicle is amount one will get back from the government upon deregistering the vehicle for use in Singapore. It is the sum of the COE rebate and the PARF rebate.\n",
    "The COE rebate is a percentage of the original COE value.\n",
    "The PARF rebate is a percentage of the original OMV (Open Market Value).\n",
    "Therefore, the **dereg value will be dropped**. From the corr matrix, OMV and dereg value have a correlation of **0.91.**\n",
    "  \n",
    "  \n",
    "5. **Depreciation:** \n",
    "Annual depreciation is the amount the owner loses on the value of the vehicle per year based on the assumption that the vehicle is deregistered only at the end of its 10-yr COE life-span. The value of the car body has not been taken into account.  The formula used to derive the figure is as follows:  \n",
    "Depreciation = (List Price - Minimum PARF value) ÷ remaining years of COE  \n",
    "The minimum Preferential Additional Registration Fee (PARF) value is a sum of money that the vehicle owner gets for deregistering his vehicle at the end of its 10-yr COE. It is a function of the Open Market Value (OMV) or Additional Registration Fee (ARF). Commercial vehicles and cars with renewed COE have no minimum PARF value.  Depreciation and OMV have a correlation of **0.91**. **Depreciation** will be dropped.\n"
   ]
  },
  {
   "cell_type": "code",
   "execution_count": 30,
   "metadata": {},
   "outputs": [
    {
     "data": {
      "text/plain": [
       "(5.0, 0.0)"
      ]
     },
     "execution_count": 30,
     "metadata": {},
     "output_type": "execute_result"
    },
    {
     "data": {
      "image/png": "[encoded data removed]",
      "text/plain": [
       "<Figure size 1080x1080 with 2 Axes>"
      ]
     },
     "metadata": {},
     "output_type": "display_data"
    }
   ],
   "source": [
    "# Re-visualizing the correlation matrix\n",
    "\n",
    "sns.set(style=\"white\")\n",
    "\n",
    "# Creating the data\n",
    "data = df_price_no_brands.corr()\n",
    "\n",
    "\n",
    "# Generate a mask for the upper triangle\n",
    "mask = np.zeros_like(data, dtype=np.bool)\n",
    "mask[np.triu_indices_from(mask)] = True\n",
    "\n",
    "# Set up the matplotlib figure to control size of heatmap\n",
    "fig, ax = plt.subplots(figsize=(15,15))\n",
    "\n",
    "# Create a custom color palette\n",
    "cmap = \\\n",
    "sns.diverging_palette(133, 10,\n",
    "                      as_cmap=True)  # as_cmap returns a matplotlib colormap object rather than a list of colors\n",
    "# Green = Good (low correlation), Red = Bad (high correlation) between the independent variables\n",
    "\n",
    "# Plot the heatmap\n",
    "sns.heatmap(data, mask=mask, annot=True, \n",
    "            square=True, cmap=cmap , vmin=-1, vmax=1,ax=ax);\n",
    "\n",
    "# Prevent Heatmap Cut-Off Issue\n",
    "bottom, top = ax.get_ylim()\n",
    "ax.set_ylim(bottom + 0.5, top - 0.5)"
   ]
  },
  {
   "cell_type": "code",
   "execution_count": 31,
   "metadata": {
    "scrolled": true
   },
   "outputs": [
    {
     "data": {
      "text/plain": [
       "price             1.000000\n",
       "transmission      0.199976\n",
       "car_age           0.154276\n",
       "odometer_value   -0.127782\n",
       "number_of_seat   -0.277563\n",
       "Name: price, dtype: float64"
      ]
     },
     "execution_count": 31,
     "metadata": {},
     "output_type": "execute_result"
    }
   ],
   "source": [
    "# Correlations of the independent variables (features) to dependent variable (target, price)\n",
    "df_price_no_brands.corr()['price'].sort_values(ascending=False)"
   ]
  },
  {
   "cell_type": "markdown",
   "metadata": {},
   "source": [
    "#### Section 3.1.3.1: Pairplot after Feature Selection"
   ]
  },
  {
   "cell_type": "code",
   "execution_count": 32,
   "metadata": {},
   "outputs": [
    {
     "data": {
      "image/png": "[encoded data removed]",
      "text/plain": [
       "<Figure size 900x900 with 30 Axes>"
      ]
     },
     "metadata": {},
     "output_type": "display_data"
    }
   ],
   "source": [
    "# Performing a pairplot to visualize the data trends of the variables\n",
    "\n",
    "# We can see that price and mileage hold a negative linear relationship\n",
    "# COE from the scrape date doesn't seem to have a very clear relatonship here\n",
    "# Days of COE seems to have a slight linear r/s\n",
    "# Car age doesn't seem to have a very distinct relationship here. But generally, the younger the car, the higher the price\n",
    "# OMV has a clear increasing linear rs with price with price\n",
    "# Engine capacity seems to also have a increasing linear r/s  with price, with a few outliers in the center\n",
    "# Perhaps it's because a lot of the higher-priced cars (higher brands) are produced in that engine capacity range?\n",
    "# Curb weight seems to have a linear r/s too.\n",
    "\n",
    "sns.pairplot(df_price_no_brands);"
   ]
  },
  {
   "cell_type": "code",
   "execution_count": 33,
   "metadata": {
    "scrolled": false
   },
   "outputs": [
    {
     "data": {
      "text/plain": [
       "Index(['model_name', 'number_of_seat', 'odometer_value', 'price',\n",
       "       'transmission', 'car_age'],\n",
       "      dtype='object')"
      ]
     },
     "execution_count": 33,
     "metadata": {},
     "output_type": "execute_result"
    }
   ],
   "source": [
    "df_price_no_brands.columns"
   ]
  },
  {
   "cell_type": "markdown",
   "metadata": {},
   "source": [
    "### Section 3.2: Preliminary Model fitting to check R^2 Value and P>|t| values of Price and the leftover Independent Variables"
   ]
  },
  {
   "cell_type": "code",
   "execution_count": 34,
   "metadata": {},
   "outputs": [
    {
     "name": "stderr",
     "output_type": "stream",
     "text": [
      "C:\\Users\\nam.nguyen\\AppData\\Roaming\\Python\\Python37\\site-packages\\numpy\\core\\fromnumeric.py:2389: FutureWarning: Method .ptp is deprecated and will be removed in a future version. Use numpy.ptp instead.\n",
      "  return ptp(axis=axis, out=out, **kwargs)\n"
     ]
    }
   ],
   "source": [
    "# Slicing Data into Independent Variables (Features) and Dependent Variable (Target)\n",
    "#df_price_no_brands.dropna(inplace=True)\n",
    "X = df_price_no_brands[ ['number_of_seat', 'odometer_value', 'transmission',\n",
    "       'car_age'] ].astype(float)\n",
    "X = sm.add_constant(X)\n",
    "y = df_price_no_brands['price'].astype(int)\n",
    "\n"
   ]
  },
  {
   "cell_type": "code",
   "execution_count": 35,
   "metadata": {},
   "outputs": [
    {
     "data": {
      "text/html": [
       "<div>\n",
       "<style scoped>\n",
       "    .dataframe tbody tr th:only-of-type {\n",
       "        vertical-align: middle;\n",
       "    }\n",
       "\n",
       "    .dataframe tbody tr th {\n",
       "        vertical-align: top;\n",
       "    }\n",
       "\n",
       "    .dataframe thead th {\n",
       "        text-align: right;\n",
       "    }\n",
       "</style>\n",
       "<table border=\"1\" class=\"dataframe\">\n",
       "  <thead>\n",
       "    <tr style=\"text-align: right;\">\n",
       "      <th></th>\n",
       "      <th>const</th>\n",
       "      <th>number_of_seat</th>\n",
       "      <th>odometer_value</th>\n",
       "      <th>transmission</th>\n",
       "      <th>car_age</th>\n",
       "    </tr>\n",
       "  </thead>\n",
       "  <tbody>\n",
       "    <tr>\n",
       "      <th>0</th>\n",
       "      <td>1.0</td>\n",
       "      <td>5.0</td>\n",
       "      <td>15000.0</td>\n",
       "      <td>1.0</td>\n",
       "      <td>2.0</td>\n",
       "    </tr>\n",
       "    <tr>\n",
       "      <th>1</th>\n",
       "      <td>1.0</td>\n",
       "      <td>7.0</td>\n",
       "      <td>151000.0</td>\n",
       "      <td>0.0</td>\n",
       "      <td>4.0</td>\n",
       "    </tr>\n",
       "    <tr>\n",
       "      <th>2</th>\n",
       "      <td>1.0</td>\n",
       "      <td>8.0</td>\n",
       "      <td>82000.0</td>\n",
       "      <td>1.0</td>\n",
       "      <td>6.0</td>\n",
       "    </tr>\n",
       "    <tr>\n",
       "      <th>3</th>\n",
       "      <td>1.0</td>\n",
       "      <td>5.0</td>\n",
       "      <td>127000.0</td>\n",
       "      <td>1.0</td>\n",
       "      <td>11.0</td>\n",
       "    </tr>\n",
       "    <tr>\n",
       "      <th>4</th>\n",
       "      <td>1.0</td>\n",
       "      <td>5.0</td>\n",
       "      <td>70000.0</td>\n",
       "      <td>0.0</td>\n",
       "      <td>5.0</td>\n",
       "    </tr>\n",
       "  </tbody>\n",
       "</table>\n",
       "</div>"
      ],
      "text/plain": [
       "   const  number_of_seat  odometer_value  transmission  car_age\n",
       "0    1.0             5.0         15000.0           1.0      2.0\n",
       "1    1.0             7.0        151000.0           0.0      4.0\n",
       "2    1.0             8.0         82000.0           1.0      6.0\n",
       "3    1.0             5.0        127000.0           1.0     11.0\n",
       "4    1.0             5.0         70000.0           0.0      5.0"
      ]
     },
     "execution_count": 35,
     "metadata": {},
     "output_type": "execute_result"
    }
   ],
   "source": [
    "X.head()"
   ]
  },
  {
   "cell_type": "code",
   "execution_count": 36,
   "metadata": {},
   "outputs": [
    {
     "data": {
      "text/plain": [
       "0    608000000\n",
       "1    583000000\n",
       "2    520000000\n",
       "3    470000000\n",
       "4    366000000\n",
       "Name: price, dtype: int32"
      ]
     },
     "execution_count": 36,
     "metadata": {},
     "output_type": "execute_result"
    }
   ],
   "source": [
    "y.head()"
   ]
  },
  {
   "cell_type": "code",
   "execution_count": 37,
   "metadata": {
    "scrolled": true
   },
   "outputs": [
    {
     "data": {
      "text/html": [
       "<table class=\"simpletable\">\n",
       "<caption>OLS Regression Results</caption>\n",
       "<tr>\n",
       "  <th>Dep. Variable:</th>          <td>price</td>      <th>  R-squared:         </th>  <td>   0.222</td>  \n",
       "</tr>\n",
       "<tr>\n",
       "  <th>Model:</th>                   <td>OLS</td>       <th>  Adj. R-squared:    </th>  <td>   0.222</td>  \n",
       "</tr>\n",
       "<tr>\n",
       "  <th>Method:</th>             <td>Least Squares</td>  <th>  F-statistic:       </th>  <td>   1214.</td>  \n",
       "</tr>\n",
       "<tr>\n",
       "  <th>Date:</th>             <td>Mon, 06 Jan 2020</td> <th>  Prob (F-statistic):</th>   <td>  0.00</td>   \n",
       "</tr>\n",
       "<tr>\n",
       "  <th>Time:</th>                 <td>16:40:26</td>     <th>  Log-Likelihood:    </th> <td>-3.7004e+05</td>\n",
       "</tr>\n",
       "<tr>\n",
       "  <th>No. Observations:</th>      <td> 17027</td>      <th>  AIC:               </th>  <td>7.401e+05</td> \n",
       "</tr>\n",
       "<tr>\n",
       "  <th>Df Residuals:</th>          <td> 17022</td>      <th>  BIC:               </th>  <td>7.401e+05</td> \n",
       "</tr>\n",
       "<tr>\n",
       "  <th>Df Model:</th>              <td>     4</td>      <th>                     </th>      <td> </td>     \n",
       "</tr>\n",
       "<tr>\n",
       "  <th>Covariance Type:</th>      <td>nonrobust</td>    <th>                     </th>      <td> </td>     \n",
       "</tr>\n",
       "</table>\n",
       "<table class=\"simpletable\">\n",
       "<tr>\n",
       "         <td></td>           <th>coef</th>     <th>std err</th>      <th>t</th>      <th>P>|t|</th>  <th>[0.025</th>    <th>0.975]</th>  \n",
       "</tr>\n",
       "<tr>\n",
       "  <th>const</th>          <td>-2.122e+08</td> <td>  3.1e+07</td> <td>   -6.845</td> <td> 0.000</td> <td>-2.73e+08</td> <td>-1.51e+08</td>\n",
       "</tr>\n",
       "<tr>\n",
       "  <th>number_of_seat</th> <td> 1.635e+08</td> <td> 4.74e+06</td> <td>   34.515</td> <td> 0.000</td> <td> 1.54e+08</td> <td> 1.73e+08</td>\n",
       "</tr>\n",
       "<tr>\n",
       "  <th>odometer_value</th> <td> 1197.3803</td> <td>   61.450</td> <td>   19.485</td> <td> 0.000</td> <td> 1076.931</td> <td> 1317.829</td>\n",
       "</tr>\n",
       "<tr>\n",
       "  <th>transmission</th>   <td> 4.931e+07</td> <td> 1.14e+07</td> <td>    4.323</td> <td> 0.000</td> <td> 2.69e+07</td> <td> 7.17e+07</td>\n",
       "</tr>\n",
       "<tr>\n",
       "  <th>car_age</th>        <td>-6.767e+07</td> <td> 1.43e+06</td> <td>  -47.328</td> <td> 0.000</td> <td>-7.05e+07</td> <td>-6.49e+07</td>\n",
       "</tr>\n",
       "</table>\n",
       "<table class=\"simpletable\">\n",
       "<tr>\n",
       "  <th>Omnibus:</th>       <td>10522.211</td> <th>  Durbin-Watson:     </th>  <td>   2.049</td> \n",
       "</tr>\n",
       "<tr>\n",
       "  <th>Prob(Omnibus):</th>  <td> 0.000</td>   <th>  Jarque-Bera (JB):  </th> <td>125557.526</td>\n",
       "</tr>\n",
       "<tr>\n",
       "  <th>Skew:</th>           <td>-2.826</td>   <th>  Prob(JB):          </th>  <td>    0.00</td> \n",
       "</tr>\n",
       "<tr>\n",
       "  <th>Kurtosis:</th>       <td>15.043</td>   <th>  Cond. No.          </th>  <td>7.35e+05</td> \n",
       "</tr>\n",
       "</table><br/><br/>Warnings:<br/>[1] Standard Errors assume that the covariance matrix of the errors is correctly specified.<br/>[2] The condition number is large, 7.35e+05. This might indicate that there are<br/>strong multicollinearity or other numerical problems."
      ],
      "text/plain": [
       "<class 'statsmodels.iolib.summary.Summary'>\n",
       "\"\"\"\n",
       "                            OLS Regression Results                            \n",
       "==============================================================================\n",
       "Dep. Variable:                  price   R-squared:                       0.222\n",
       "Model:                            OLS   Adj. R-squared:                  0.222\n",
       "Method:                 Least Squares   F-statistic:                     1214.\n",
       "Date:                Mon, 06 Jan 2020   Prob (F-statistic):               0.00\n",
       "Time:                        16:40:26   Log-Likelihood:            -3.7004e+05\n",
       "No. Observations:               17027   AIC:                         7.401e+05\n",
       "Df Residuals:                   17022   BIC:                         7.401e+05\n",
       "Df Model:                           4                                         \n",
       "Covariance Type:            nonrobust                                         \n",
       "==================================================================================\n",
       "                     coef    std err          t      P>|t|      [0.025      0.975]\n",
       "----------------------------------------------------------------------------------\n",
       "const          -2.122e+08    3.1e+07     -6.845      0.000   -2.73e+08   -1.51e+08\n",
       "number_of_seat  1.635e+08   4.74e+06     34.515      0.000    1.54e+08    1.73e+08\n",
       "odometer_value  1197.3803     61.450     19.485      0.000    1076.931    1317.829\n",
       "transmission    4.931e+07   1.14e+07      4.323      0.000    2.69e+07    7.17e+07\n",
       "car_age        -6.767e+07   1.43e+06    -47.328      0.000   -7.05e+07   -6.49e+07\n",
       "==============================================================================\n",
       "Omnibus:                    10522.211   Durbin-Watson:                   2.049\n",
       "Prob(Omnibus):                  0.000   Jarque-Bera (JB):           125557.526\n",
       "Skew:                          -2.826   Prob(JB):                         0.00\n",
       "Kurtosis:                      15.043   Cond. No.                     7.35e+05\n",
       "==============================================================================\n",
       "\n",
       "Warnings:\n",
       "[1] Standard Errors assume that the covariance matrix of the errors is correctly specified.\n",
       "[2] The condition number is large, 7.35e+05. This might indicate that there are\n",
       "strong multicollinearity or other numerical problems.\n",
       "\"\"\""
      ]
     },
     "execution_count": 37,
     "metadata": {},
     "output_type": "execute_result"
    }
   ],
   "source": [
    "# model / fit / summarize\n",
    "import statsmodels.api as sm\n",
    "\n",
    "lsm = sm.OLS(y, X)\n",
    "results = lsm.fit()\n",
    "results.summary()"
   ]
  },
  {
   "cell_type": "markdown",
   "metadata": {},
   "source": [
    "### Section 3.2.1: Optimizing R^2 Value"
   ]
  },
  {
   "cell_type": "markdown",
   "metadata": {},
   "source": [
    "#### Section 3.2.1.1: Checking Distributions & Pairplots of all Variables"
   ]
  },
  {
   "cell_type": "markdown",
   "metadata": {},
   "source": [
    "##### Pairplot of Price vs Independent Variables (without any transformation)"
   ]
  },
  {
   "cell_type": "code",
   "execution_count": 38,
   "metadata": {},
   "outputs": [
    {
     "data": {
      "image/png": "[encoded data removed]",
      "text/plain": [
       "<Figure size 900x900 with 30 Axes>"
      ]
     },
     "metadata": {},
     "output_type": "display_data"
    }
   ],
   "source": [
    "# Performing a pairplot to visualize the data trends of the variables\n",
    "\n",
    "# We can see that price and mileage hold a negative linear relationship\n",
    "# COE from the scrape date doesn't seem to have a very clear relatonship here\n",
    "# Days of COE seems to have a slight linear r/s\n",
    "# Car age doesn't seem to have a very distinct relationship here. But generally, the younger the car, the higher the price\n",
    "# OMV has a clear increasing linear rs with price with price\n",
    "# Engine capacity seems to also have a increasing linear r/s  with price, with a few outliers in the center\n",
    "# Perhaps it's because a lot of the higher-priced cars (higher brands) are produced in that engine capacity range?\n",
    "# Curb weight seems to have a linear r/s too.\n",
    "\n",
    "sns.pairplot(df_price_no_brands);"
   ]
  },
  {
   "cell_type": "markdown",
   "metadata": {},
   "source": [
    "##### Histograph of all Variables (Columns) in DataFrame"
   ]
  },
  {
   "cell_type": "code",
   "execution_count": 39,
   "metadata": {},
   "outputs": [
    {
     "name": "stderr",
     "output_type": "stream",
     "text": [
      "D:\\Application\\Anaconda2\\envs\\py3\\lib\\site-packages\\ipykernel_launcher.py:2: UserWarning: To output multiple subplots, the figure containing the passed axes is being cleared\n",
      "  \n"
     ]
    },
    {
     "data": {
      "text/plain": [
       "array([[<matplotlib.axes._subplots.AxesSubplot object at 0x0000024BC01699C8>,\n",
       "        <matplotlib.axes._subplots.AxesSubplot object at 0x0000024BC067EBC8>],\n",
       "       [<matplotlib.axes._subplots.AxesSubplot object at 0x0000024BC04E1488>,\n",
       "        <matplotlib.axes._subplots.AxesSubplot object at 0x0000024BC045B748>],\n",
       "       [<matplotlib.axes._subplots.AxesSubplot object at 0x0000024BBFD47BC8>,\n",
       "        <matplotlib.axes._subplots.AxesSubplot object at 0x0000024BC0504E08>]],\n",
       "      dtype=object)"
      ]
     },
     "execution_count": 39,
     "metadata": {},
     "output_type": "execute_result"
    },
    {
     "data": {
      "image/png": "[encoded data removed]",
      "text/plain": [
       "<Figure size 1080x1080 with 6 Axes>"
      ]
     },
     "metadata": {},
     "output_type": "display_data"
    }
   ],
   "source": [
    "fig, ax = plt.subplots(figsize=(15,15))\n",
    "pd.DataFrame.hist(df_price_no_brands,ax=ax)"
   ]
  },
  {
   "cell_type": "code",
   "execution_count": 40,
   "metadata": {},
   "outputs": [],
   "source": [
    "# From the above graphs, it would make sense to apply log transform on the following variables to make them\n",
    "# more normally distributed\n",
    "# Mileage\n",
    "# Engine Cap\n",
    "# Price\n",
    "# OMV"
   ]
  },
  {
   "cell_type": "markdown",
   "metadata": {},
   "source": [
    "## Distribution of Price"
   ]
  },
  {
   "cell_type": "code",
   "execution_count": 41,
   "metadata": {},
   "outputs": [
    {
     "data": {
      "text/plain": [
       "<matplotlib.axes._subplots.AxesSubplot at 0x24bc051d7c8>"
      ]
     },
     "execution_count": 41,
     "metadata": {},
     "output_type": "execute_result"
    },
    {
     "data": {
      "image/png": "[encoded data removed]",
      "text/plain": [
       "<Figure size 432x288 with 1 Axes>"
      ]
     },
     "metadata": {},
     "output_type": "display_data"
    }
   ],
   "source": [
    "sns.boxplot(df_price_no_brands['price'])  # "
   ]
  },
  {
   "cell_type": "code",
   "execution_count": 42,
   "metadata": {
    "scrolled": true
   },
   "outputs": [
    {
     "data": {
      "text/plain": [
       "<matplotlib.axes._subplots.AxesSubplot at 0x24bc01ff788>"
      ]
     },
     "execution_count": 42,
     "metadata": {},
     "output_type": "execute_result"
    },
    {
     "data": {
      "image/png": "[encoded data removed]",
      "text/plain": [
       "<Figure size 432x288 with 1 Axes>"
      ]
     },
     "metadata": {},
     "output_type": "display_data"
    }
   ],
   "source": [
    "sns.distplot(df_price_no_brands['price'])  # Your dependent variable 'must' be normally distributed"
   ]
  },
  {
   "cell_type": "code",
   "execution_count": 43,
   "metadata": {},
   "outputs": [],
   "source": [
    "# We see that price is right-skewed. Therefore, we can try applying a log onto price, then visualize the data again."
   ]
  },
  {
   "cell_type": "code",
   "execution_count": 44,
   "metadata": {
    "scrolled": true
   },
   "outputs": [
    {
     "data": {
      "image/png": "[encoded data removed]",
      "text/plain": [
       "<Figure size 360x360 with 1 Axes>"
      ]
     },
     "metadata": {},
     "output_type": "display_data"
    }
   ],
   "source": [
    "fig, ax = plt.subplots(figsize=(5,5))\n",
    "sns.distplot(df_price_no_brands['price'],ax=ax)\n",
    "plt.xlabel('price',size=10)\n",
    "plt.savefig(\"price_no_log.png\",transparent=True)"
   ]
  },
  {
   "cell_type": "markdown",
   "metadata": {},
   "source": [
    "### Section 3.2.1: Logging Mileage ONLY"
   ]
  },
  {
   "cell_type": "code",
   "execution_count": 45,
   "metadata": {},
   "outputs": [],
   "source": [
    "# Creating a copy of the dataframe to work log on\n",
    "df_price_no_brands_only_mileage_logged = df_price_no_brands.copy()"
   ]
  },
  {
   "cell_type": "code",
   "execution_count": 46,
   "metadata": {},
   "outputs": [
    {
     "data": {
      "text/html": [
       "<div>\n",
       "<style scoped>\n",
       "    .dataframe tbody tr th:only-of-type {\n",
       "        vertical-align: middle;\n",
       "    }\n",
       "\n",
       "    .dataframe tbody tr th {\n",
       "        vertical-align: top;\n",
       "    }\n",
       "\n",
       "    .dataframe thead th {\n",
       "        text-align: right;\n",
       "    }\n",
       "</style>\n",
       "<table border=\"1\" class=\"dataframe\">\n",
       "  <thead>\n",
       "    <tr style=\"text-align: right;\">\n",
       "      <th></th>\n",
       "      <th>model_name</th>\n",
       "      <th>number_of_seat</th>\n",
       "      <th>odometer_value</th>\n",
       "      <th>price</th>\n",
       "      <th>transmission</th>\n",
       "      <th>car_age</th>\n",
       "      <th>odometer_value_log</th>\n",
       "    </tr>\n",
       "  </thead>\n",
       "  <tbody>\n",
       "    <tr>\n",
       "      <th>0</th>\n",
       "      <td>cerato</td>\n",
       "      <td>5</td>\n",
       "      <td>15000.0</td>\n",
       "      <td>6.080000e+08</td>\n",
       "      <td>1</td>\n",
       "      <td>2</td>\n",
       "      <td>9.615805</td>\n",
       "    </tr>\n",
       "    <tr>\n",
       "      <th>1</th>\n",
       "      <td>innova</td>\n",
       "      <td>7</td>\n",
       "      <td>151000.0</td>\n",
       "      <td>5.830000e+08</td>\n",
       "      <td>0</td>\n",
       "      <td>4</td>\n",
       "      <td>11.925035</td>\n",
       "    </tr>\n",
       "    <tr>\n",
       "      <th>2</th>\n",
       "      <td>innova</td>\n",
       "      <td>8</td>\n",
       "      <td>82000.0</td>\n",
       "      <td>5.200000e+08</td>\n",
       "      <td>1</td>\n",
       "      <td>6</td>\n",
       "      <td>11.314475</td>\n",
       "    </tr>\n",
       "    <tr>\n",
       "      <th>3</th>\n",
       "      <td>corolla-altis</td>\n",
       "      <td>5</td>\n",
       "      <td>127000.0</td>\n",
       "      <td>4.700000e+08</td>\n",
       "      <td>1</td>\n",
       "      <td>11</td>\n",
       "      <td>11.751942</td>\n",
       "    </tr>\n",
       "    <tr>\n",
       "      <th>4</th>\n",
       "      <td>rio</td>\n",
       "      <td>5</td>\n",
       "      <td>70000.0</td>\n",
       "      <td>3.660000e+08</td>\n",
       "      <td>0</td>\n",
       "      <td>5</td>\n",
       "      <td>11.156251</td>\n",
       "    </tr>\n",
       "    <tr>\n",
       "      <th>...</th>\n",
       "      <td>...</td>\n",
       "      <td>...</td>\n",
       "      <td>...</td>\n",
       "      <td>...</td>\n",
       "      <td>...</td>\n",
       "      <td>...</td>\n",
       "      <td>...</td>\n",
       "    </tr>\n",
       "    <tr>\n",
       "      <th>20535</th>\n",
       "      <td>ranger</td>\n",
       "      <td>5</td>\n",
       "      <td>55000.0</td>\n",
       "      <td>7.900000e+08</td>\n",
       "      <td>1</td>\n",
       "      <td>3</td>\n",
       "      <td>10.915088</td>\n",
       "    </tr>\n",
       "    <tr>\n",
       "      <th>20536</th>\n",
       "      <td>fortuner</td>\n",
       "      <td>7</td>\n",
       "      <td>55000.0</td>\n",
       "      <td>8.850000e+08</td>\n",
       "      <td>0</td>\n",
       "      <td>3</td>\n",
       "      <td>10.915088</td>\n",
       "    </tr>\n",
       "    <tr>\n",
       "      <th>20537</th>\n",
       "      <td>phantom</td>\n",
       "      <td>4</td>\n",
       "      <td>30000.0</td>\n",
       "      <td>1.790000e+10</td>\n",
       "      <td>1</td>\n",
       "      <td>9</td>\n",
       "      <td>10.308953</td>\n",
       "    </tr>\n",
       "    <tr>\n",
       "      <th>20538</th>\n",
       "      <td>fortuner</td>\n",
       "      <td>7</td>\n",
       "      <td>7000.0</td>\n",
       "      <td>1.030000e+09</td>\n",
       "      <td>1</td>\n",
       "      <td>1</td>\n",
       "      <td>8.853665</td>\n",
       "    </tr>\n",
       "    <tr>\n",
       "      <th>20539</th>\n",
       "      <td>camry</td>\n",
       "      <td>5</td>\n",
       "      <td>150000.0</td>\n",
       "      <td>4.320000e+08</td>\n",
       "      <td>1</td>\n",
       "      <td>13</td>\n",
       "      <td>11.918391</td>\n",
       "    </tr>\n",
       "  </tbody>\n",
       "</table>\n",
       "<p>17027 rows × 7 columns</p>\n",
       "</div>"
      ],
      "text/plain": [
       "          model_name  number_of_seat  odometer_value         price  \\\n",
       "0             cerato               5         15000.0  6.080000e+08   \n",
       "1             innova               7        151000.0  5.830000e+08   \n",
       "2             innova               8         82000.0  5.200000e+08   \n",
       "3      corolla-altis               5        127000.0  4.700000e+08   \n",
       "4                rio               5         70000.0  3.660000e+08   \n",
       "...              ...             ...             ...           ...   \n",
       "20535         ranger               5         55000.0  7.900000e+08   \n",
       "20536       fortuner               7         55000.0  8.850000e+08   \n",
       "20537        phantom               4         30000.0  1.790000e+10   \n",
       "20538       fortuner               7          7000.0  1.030000e+09   \n",
       "20539          camry               5        150000.0  4.320000e+08   \n",
       "\n",
       "       transmission  car_age  odometer_value_log  \n",
       "0                 1        2            9.615805  \n",
       "1                 0        4           11.925035  \n",
       "2                 1        6           11.314475  \n",
       "3                 1       11           11.751942  \n",
       "4                 0        5           11.156251  \n",
       "...             ...      ...                 ...  \n",
       "20535             1        3           10.915088  \n",
       "20536             0        3           10.915088  \n",
       "20537             1        9           10.308953  \n",
       "20538             1        1            8.853665  \n",
       "20539             1       13           11.918391  \n",
       "\n",
       "[17027 rows x 7 columns]"
      ]
     },
     "execution_count": 46,
     "metadata": {},
     "output_type": "execute_result"
    }
   ],
   "source": [
    "# Log Mileage\n",
    "df_price_no_brands_only_mileage_logged[\"odometer_value_log\"] = df_price_no_brands_only_mileage_logged['odometer_value'].apply(np.log)\n",
    "df_price_no_brands_only_mileage_logged"
   ]
  },
  {
   "cell_type": "code",
   "execution_count": 47,
   "metadata": {},
   "outputs": [],
   "source": [
    "# Rearranging columns\n",
    "\n",
    "df_price_no_brands_only_mileage_logged = \\\n",
    "df_price_no_brands_only_mileage_logged[['price', 'odometer_value_log',\n",
    "       'car_age', 'transmission']]"
   ]
  },
  {
   "cell_type": "code",
   "execution_count": 48,
   "metadata": {},
   "outputs": [
    {
     "data": {
      "text/plain": [
       "Index(['price', 'odometer_value_log', 'car_age', 'transmission'], dtype='object')"
      ]
     },
     "execution_count": 48,
     "metadata": {},
     "output_type": "execute_result"
    }
   ],
   "source": [
    "df_price_no_brands_only_mileage_logged.columns"
   ]
  },
  {
   "cell_type": "code",
   "execution_count": 49,
   "metadata": {},
   "outputs": [
    {
     "name": "stderr",
     "output_type": "stream",
     "text": [
      "C:\\Users\\nam.nguyen\\AppData\\Roaming\\Python\\Python37\\site-packages\\numpy\\core\\fromnumeric.py:2389: FutureWarning: Method .ptp is deprecated and will be removed in a future version. Use numpy.ptp instead.\n",
      "  return ptp(axis=axis, out=out, **kwargs)\n"
     ]
    },
    {
     "data": {
      "text/html": [
       "<table class=\"simpletable\">\n",
       "<caption>OLS Regression Results</caption>\n",
       "<tr>\n",
       "  <th>Dep. Variable:</th>          <td>price</td>      <th>  R-squared:         </th>  <td>   0.225</td>  \n",
       "</tr>\n",
       "<tr>\n",
       "  <th>Model:</th>                   <td>OLS</td>       <th>  Adj. R-squared:    </th>  <td>   0.225</td>  \n",
       "</tr>\n",
       "<tr>\n",
       "  <th>Method:</th>             <td>Least Squares</td>  <th>  F-statistic:       </th>  <td>   1648.</td>  \n",
       "</tr>\n",
       "<tr>\n",
       "  <th>Date:</th>             <td>Mon, 06 Jan 2020</td> <th>  Prob (F-statistic):</th>   <td>  0.00</td>   \n",
       "</tr>\n",
       "<tr>\n",
       "  <th>Time:</th>                 <td>16:40:37</td>     <th>  Log-Likelihood:    </th> <td>-3.7001e+05</td>\n",
       "</tr>\n",
       "<tr>\n",
       "  <th>No. Observations:</th>      <td> 17027</td>      <th>  AIC:               </th>  <td>7.400e+05</td> \n",
       "</tr>\n",
       "<tr>\n",
       "  <th>Df Residuals:</th>          <td> 17023</td>      <th>  BIC:               </th>  <td>7.401e+05</td> \n",
       "</tr>\n",
       "<tr>\n",
       "  <th>Df Model:</th>              <td>     3</td>      <th>                     </th>      <td> </td>     \n",
       "</tr>\n",
       "<tr>\n",
       "  <th>Covariance Type:</th>      <td>nonrobust</td>    <th>                     </th>      <td> </td>     \n",
       "</tr>\n",
       "</table>\n",
       "<table class=\"simpletable\">\n",
       "<tr>\n",
       "           <td></td>             <th>coef</th>     <th>std err</th>      <th>t</th>      <th>P>|t|</th>  <th>[0.025</th>    <th>0.975]</th>  \n",
       "</tr>\n",
       "<tr>\n",
       "  <th>const</th>              <td>-2.327e+09</td> <td> 7.29e+07</td> <td>  -31.937</td> <td> 0.000</td> <td>-2.47e+09</td> <td>-2.18e+09</td>\n",
       "</tr>\n",
       "<tr>\n",
       "  <th>odometer_value_log</th> <td> 3.151e+08</td> <td> 7.19e+06</td> <td>   43.806</td> <td> 0.000</td> <td> 3.01e+08</td> <td> 3.29e+08</td>\n",
       "</tr>\n",
       "<tr>\n",
       "  <th>car_age</th>            <td>-1.217e+08</td> <td> 1.79e+06</td> <td>  -68.187</td> <td> 0.000</td> <td>-1.25e+08</td> <td>-1.18e+08</td>\n",
       "</tr>\n",
       "<tr>\n",
       "  <th>transmission</th>       <td> 7.358e+07</td> <td> 1.15e+07</td> <td>    6.378</td> <td> 0.000</td> <td>  5.1e+07</td> <td> 9.62e+07</td>\n",
       "</tr>\n",
       "</table>\n",
       "<table class=\"simpletable\">\n",
       "<tr>\n",
       "  <th>Omnibus:</th>       <td>6906.536</td> <th>  Durbin-Watson:     </th> <td>   2.041</td> \n",
       "</tr>\n",
       "<tr>\n",
       "  <th>Prob(Omnibus):</th>  <td> 0.000</td>  <th>  Jarque-Bera (JB):  </th> <td>38019.668</td>\n",
       "</tr>\n",
       "<tr>\n",
       "  <th>Skew:</th>           <td>-1.886</td>  <th>  Prob(JB):          </th> <td>    0.00</td> \n",
       "</tr>\n",
       "<tr>\n",
       "  <th>Kurtosis:</th>       <td> 9.274</td>  <th>  Cond. No.          </th> <td>    181.</td> \n",
       "</tr>\n",
       "</table><br/><br/>Warnings:<br/>[1] Standard Errors assume that the covariance matrix of the errors is correctly specified."
      ],
      "text/plain": [
       "<class 'statsmodels.iolib.summary.Summary'>\n",
       "\"\"\"\n",
       "                            OLS Regression Results                            \n",
       "==============================================================================\n",
       "Dep. Variable:                  price   R-squared:                       0.225\n",
       "Model:                            OLS   Adj. R-squared:                  0.225\n",
       "Method:                 Least Squares   F-statistic:                     1648.\n",
       "Date:                Mon, 06 Jan 2020   Prob (F-statistic):               0.00\n",
       "Time:                        16:40:37   Log-Likelihood:            -3.7001e+05\n",
       "No. Observations:               17027   AIC:                         7.400e+05\n",
       "Df Residuals:                   17023   BIC:                         7.401e+05\n",
       "Df Model:                           3                                         \n",
       "Covariance Type:            nonrobust                                         \n",
       "======================================================================================\n",
       "                         coef    std err          t      P>|t|      [0.025      0.975]\n",
       "--------------------------------------------------------------------------------------\n",
       "const              -2.327e+09   7.29e+07    -31.937      0.000   -2.47e+09   -2.18e+09\n",
       "odometer_value_log  3.151e+08   7.19e+06     43.806      0.000    3.01e+08    3.29e+08\n",
       "car_age            -1.217e+08   1.79e+06    -68.187      0.000   -1.25e+08   -1.18e+08\n",
       "transmission        7.358e+07   1.15e+07      6.378      0.000     5.1e+07    9.62e+07\n",
       "==============================================================================\n",
       "Omnibus:                     6906.536   Durbin-Watson:                   2.041\n",
       "Prob(Omnibus):                  0.000   Jarque-Bera (JB):            38019.668\n",
       "Skew:                          -1.886   Prob(JB):                         0.00\n",
       "Kurtosis:                       9.274   Cond. No.                         181.\n",
       "==============================================================================\n",
       "\n",
       "Warnings:\n",
       "[1] Standard Errors assume that the covariance matrix of the errors is correctly specified.\n",
       "\"\"\""
      ]
     },
     "execution_count": 49,
     "metadata": {},
     "output_type": "execute_result"
    }
   ],
   "source": [
    "# Slicing Data into Independent Variables (Features) and Dependent Variable (Target)\n",
    "X = df_price_no_brands_only_mileage_logged[ [ 'odometer_value_log',\n",
    "       'car_age', 'transmission'] ].astype(float)\n",
    "X = sm.add_constant(X)\n",
    "y = df_price_no_brands_only_mileage_logged['price'].astype(int)\n",
    "\n",
    "\n",
    "# model / fit / summarize\n",
    "import statsmodels.api as sm\n",
    "\n",
    "lsm = sm.OLS(y, X)\n",
    "results = lsm.fit()\n",
    "results.summary()"
   ]
  },
  {
   "cell_type": "code",
   "execution_count": 50,
   "metadata": {},
   "outputs": [
    {
     "data": {
      "image/png": "[encoded data removed]",
      "text/plain": [
       "<Figure size 720x720 with 20 Axes>"
      ]
     },
     "metadata": {},
     "output_type": "display_data"
    }
   ],
   "source": [
    "# Visualizing Pairplots of Price vs Other Features and Only Mileage logged\n",
    "\n",
    "sns.pairplot(df_price_no_brands_only_mileage_logged);"
   ]
  },
  {
   "cell_type": "markdown",
   "metadata": {},
   "source": [
    "### Section 3.2.2: Normal Price with Logged Mileage and Squared Engine CC"
   ]
  },
  {
   "cell_type": "code",
   "execution_count": 51,
   "metadata": {},
   "outputs": [],
   "source": [
    "# Creating a copy of the dataframe to work log on\n",
    "#df_price_no_brands_mileage_logged_squared_engine_cap = df_price_no_brands_only_mileage_logged.copy()"
   ]
  },
  {
   "cell_type": "code",
   "execution_count": 52,
   "metadata": {},
   "outputs": [],
   "source": [
    "# Square Engine CC\n",
    "#df_price_no_brands_mileage_logged_squared_engine_cap[\"engine_squared\"] = \\\n",
    "#df_price_no_brands_mileage_logged_squared_engine_cap['engine_capacity'].apply(lambda x: x**2)\n"
   ]
  },
  {
   "cell_type": "code",
   "execution_count": 53,
   "metadata": {},
   "outputs": [],
   "source": [
    "#df_price_no_brands_mileage_logged_squared_engine_cap.columns"
   ]
  },
  {
   "cell_type": "code",
   "execution_count": 54,
   "metadata": {},
   "outputs": [],
   "source": [
    "# Rearrange columns\n",
    "#df_price_no_brands_mileage_logged_squared_engine_cap = \\\n",
    "#df_price_no_brands_mileage_logged_squared_engine_cap[['PRICE', 'MILEAGE_LOG', 'COE_FROM_SCRAPE_DATE', 'DAYS_OF_COE_LEFT',\n",
    "#       'CAR_AGE', 'OMV', 'ENGINE_SQUARED', 'CURB_WEIGHT_KG',\n",
    "#       'NO_OF_OWNERS', 'TRANSMISSION']]"
   ]
  },
  {
   "cell_type": "code",
   "execution_count": 55,
   "metadata": {},
   "outputs": [],
   "source": [
    "# Slicing Data into Independent Variables (Features) and Dependent Variable (Target)\n",
    "#X = df_price_no_brands_mileage_logged_squared_engine_cap[ ['odometer_value_log', 'car_age',\n",
    "#       'transmission', 'engine_squared'] ].astype(float)\n",
    "#X = sm.add_constant(X)\n",
    "#y = df_price_no_brands_only_mileage_logged['price'].astype(int)\n",
    "\n",
    "\n",
    "# model / fit / summarize\n",
    "#import statsmodels.api as sm\n",
    "\n",
    "#lsm = sm.OLS(y, X)\n",
    "#results = lsm.fit()\n",
    "#results.summary()"
   ]
  },
  {
   "cell_type": "code",
   "execution_count": 56,
   "metadata": {},
   "outputs": [],
   "source": [
    "# Visualizing Pairplots of the distributions\n",
    "\n",
    "#sns.pairplot(df_price_no_brands_mileage_logged_squared_engine_cap);"
   ]
  },
  {
   "cell_type": "code",
   "execution_count": 57,
   "metadata": {},
   "outputs": [],
   "source": [
    "# Viewing Corr Matrix of Price vs Independent Variables (only logged mileage and squared engine CC)\n",
    "\n",
    "#sns.set(style=\"white\")\n",
    "#data = df_price_no_brands_mileage_logged_squared_engine_cap.corr()\n",
    "\n",
    "# Generate a mask for the upper triangle\n",
    "#mask = np.zeros_like(data, dtype=np.bool)\n",
    "#mask[np.triu_indices_from(mask)] = True\n",
    "\n",
    "# Set up the matplotlib figure to control size of heatmap\n",
    "#fig, ax = plt.subplots(figsize=(15,15))\n",
    "\n",
    "# Create a custom color palette\n",
    "#cmap = \\\n",
    "#sns.diverging_palette(133, 10,\n",
    "#                      as_cmap=True)  # as_cmap returns a matplotlib colormap object rather than a list of colors\n",
    "# Green = Good (low correlation), Red = Bad (high correlation) between the independent variables\n",
    "\n",
    "# Plot the heatmap\n",
    "#sns.heatmap(data, mask=mask, annot=True, \n",
    "#            square=True, cmap=cmap , vmin=-1, vmax=1,ax=ax);\n",
    "\n",
    "# Prevent Heatmap Cut-Off Issue\n",
    "#bottom, top = ax.get_ylim()\n",
    "#ax.set_ylim(bottom + 0.5, top - 0.5)"
   ]
  },
  {
   "cell_type": "markdown",
   "metadata": {},
   "source": [
    "### Section 3.2.3: Logged Price with Logged Mileage and Squared Engine CC"
   ]
  },
  {
   "cell_type": "code",
   "execution_count": 58,
   "metadata": {},
   "outputs": [],
   "source": [
    "#df_logged_price_no_brands_mileage_logged_squared_engine_cap = df_price_no_brands_mileage_logged_squared_engine_cap.copy()"
   ]
  },
  {
   "cell_type": "code",
   "execution_count": 59,
   "metadata": {},
   "outputs": [],
   "source": [
    "# Logging Price\n",
    "#df_logged_price_no_brands_mileage_logged_squared_engine_cap['price_log'] =\\\n",
    "#df_logged_price_no_brands_mileage_logged_squared_engine_cap['price'].apply(np.log)"
   ]
  },
  {
   "cell_type": "code",
   "execution_count": 60,
   "metadata": {},
   "outputs": [],
   "source": [
    "# Rearrange columns\n",
    "#df_logged_price_no_brands_mileage_logged_squared_engine_cap = \\\n",
    "#df_logged_price_no_brands_mileage_logged_squared_engine_cap[['price_log', 'odometer_value_log', 'car_age',\n",
    "#       'transmission', 'engine_squared']]"
   ]
  },
  {
   "cell_type": "code",
   "execution_count": 61,
   "metadata": {},
   "outputs": [],
   "source": [
    "# Slicing Data into Independent Variables (Features) and Dependent Variable (Target)\n",
    "#X = df_logged_price_no_brands_mileage_logged_squared_engine_cap[ ['odometer_value_log', 'car_age',\n",
    "#       'transmission', 'engine_squared'] ].astype(float)\n",
    "#X = sm.add_constant(X)\n",
    "#y = df_logged_price_no_brands_mileage_logged_squared_engine_cap['price_log'].astype(float)\n",
    "\n",
    "\n",
    "# model / fit / summarize\n",
    "#import statsmodels.api as sm\n",
    "\n",
    "#lsm = sm.OLS(y, X)\n",
    "#results = lsm.fit()\n",
    "#results.summary()"
   ]
  },
  {
   "cell_type": "markdown",
   "metadata": {},
   "source": [
    "### Section 3.2.3: Logged Price with Logged Mileage only (no engine squared)"
   ]
  },
  {
   "cell_type": "code",
   "execution_count": 62,
   "metadata": {},
   "outputs": [],
   "source": [
    "df_logged_price_no_brands_only_mileage_logged = df_price_no_brands_only_mileage_logged.copy()"
   ]
  },
  {
   "cell_type": "code",
   "execution_count": 63,
   "metadata": {},
   "outputs": [
    {
     "data": {
      "image/png": "[encoded data removed]",
      "text/plain": [
       "<Figure size 720x720 with 20 Axes>"
      ]
     },
     "metadata": {},
     "output_type": "display_data"
    }
   ],
   "source": [
    "sns.pairplot(df_logged_price_no_brands_only_mileage_logged);\n",
    "plt.savefig(\"log_price_and_mileage.png\")"
   ]
  },
  {
   "cell_type": "code",
   "execution_count": 64,
   "metadata": {},
   "outputs": [],
   "source": [
    "# Logging Price\n",
    "df_logged_price_no_brands_only_mileage_logged['price'] = df_logged_price_no_brands_only_mileage_logged['price'].apply(np.log)\n",
    "\n",
    "# Renaming column\n",
    "df_logged_price_no_brands_only_mileage_logged.rename(columns={'price':'price_log'},inplace=True)"
   ]
  },
  {
   "cell_type": "code",
   "execution_count": 65,
   "metadata": {},
   "outputs": [
    {
     "data": {
      "text/plain": [
       "Index(['price_log', 'odometer_value_log', 'car_age', 'transmission'], dtype='object')"
      ]
     },
     "execution_count": 65,
     "metadata": {},
     "output_type": "execute_result"
    }
   ],
   "source": [
    "df_logged_price_no_brands_only_mileage_logged.columns"
   ]
  },
  {
   "cell_type": "code",
   "execution_count": 66,
   "metadata": {},
   "outputs": [
    {
     "data": {
      "text/html": [
       "<div>\n",
       "<style scoped>\n",
       "    .dataframe tbody tr th:only-of-type {\n",
       "        vertical-align: middle;\n",
       "    }\n",
       "\n",
       "    .dataframe tbody tr th {\n",
       "        vertical-align: top;\n",
       "    }\n",
       "\n",
       "    .dataframe thead th {\n",
       "        text-align: right;\n",
       "    }\n",
       "</style>\n",
       "<table border=\"1\" class=\"dataframe\">\n",
       "  <thead>\n",
       "    <tr style=\"text-align: right;\">\n",
       "      <th></th>\n",
       "      <th>price_log</th>\n",
       "      <th>odometer_value_log</th>\n",
       "      <th>car_age</th>\n",
       "      <th>transmission</th>\n",
       "    </tr>\n",
       "  </thead>\n",
       "  <tbody>\n",
       "    <tr>\n",
       "      <th>0</th>\n",
       "      <td>20.225685</td>\n",
       "      <td>9.615805</td>\n",
       "      <td>2</td>\n",
       "      <td>1</td>\n",
       "    </tr>\n",
       "    <tr>\n",
       "      <th>1</th>\n",
       "      <td>20.183698</td>\n",
       "      <td>11.925035</td>\n",
       "      <td>4</td>\n",
       "      <td>0</td>\n",
       "    </tr>\n",
       "    <tr>\n",
       "      <th>2</th>\n",
       "      <td>20.069339</td>\n",
       "      <td>11.314475</td>\n",
       "      <td>6</td>\n",
       "      <td>1</td>\n",
       "    </tr>\n",
       "    <tr>\n",
       "      <th>3</th>\n",
       "      <td>19.968243</td>\n",
       "      <td>11.751942</td>\n",
       "      <td>11</td>\n",
       "      <td>1</td>\n",
       "    </tr>\n",
       "    <tr>\n",
       "      <th>4</th>\n",
       "      <td>19.718144</td>\n",
       "      <td>11.156251</td>\n",
       "      <td>5</td>\n",
       "      <td>0</td>\n",
       "    </tr>\n",
       "  </tbody>\n",
       "</table>\n",
       "</div>"
      ],
      "text/plain": [
       "   price_log  odometer_value_log  car_age  transmission\n",
       "0  20.225685            9.615805        2             1\n",
       "1  20.183698           11.925035        4             0\n",
       "2  20.069339           11.314475        6             1\n",
       "3  19.968243           11.751942       11             1\n",
       "4  19.718144           11.156251        5             0"
      ]
     },
     "execution_count": 66,
     "metadata": {},
     "output_type": "execute_result"
    }
   ],
   "source": [
    "df_logged_price_no_brands_only_mileage_logged.head()"
   ]
  },
  {
   "cell_type": "code",
   "execution_count": 67,
   "metadata": {},
   "outputs": [
    {
     "name": "stderr",
     "output_type": "stream",
     "text": [
      "D:\\Application\\Anaconda2\\envs\\py3\\lib\\site-packages\\scipy\\stats\\_distn_infrastructure.py:901: RuntimeWarning: invalid value encountered in greater\n",
      "  return (a < x) & (x < b)\n",
      "D:\\Application\\Anaconda2\\envs\\py3\\lib\\site-packages\\scipy\\stats\\_distn_infrastructure.py:901: RuntimeWarning: invalid value encountered in less\n",
      "  return (a < x) & (x < b)\n",
      "D:\\Application\\Anaconda2\\envs\\py3\\lib\\site-packages\\scipy\\stats\\_distn_infrastructure.py:1892: RuntimeWarning: invalid value encountered in less_equal\n",
      "  cond2 = cond0 & (x <= _a)\n",
      "D:\\Application\\Anaconda2\\envs\\py3\\lib\\site-packages\\scipy\\stats\\stats.py:1463: RuntimeWarning: invalid value encountered in sign\n",
      "  term2 = np.sign(denom) * np.where(denom == 0.0, np.nan,\n",
      "D:\\Application\\Anaconda2\\envs\\py3\\lib\\site-packages\\statsmodels\\regression\\linear_model.py:1594: RuntimeWarning: invalid value encountered in subtract\n",
      "  return np.sum(weights * (model.endog - mean)**2)\n"
     ]
    },
    {
     "data": {
      "text/html": [
       "<table class=\"simpletable\">\n",
       "<caption>OLS Regression Results</caption>\n",
       "<tr>\n",
       "  <th>Dep. Variable:</th>        <td>price_log</td>    <th>  R-squared:         </th> <td>     nan</td>\n",
       "</tr>\n",
       "<tr>\n",
       "  <th>Model:</th>                   <td>OLS</td>       <th>  Adj. R-squared:    </th> <td>     nan</td>\n",
       "</tr>\n",
       "<tr>\n",
       "  <th>Method:</th>             <td>Least Squares</td>  <th>  F-statistic:       </th> <td>     nan</td>\n",
       "</tr>\n",
       "<tr>\n",
       "  <th>Date:</th>             <td>Mon, 06 Jan 2020</td> <th>  Prob (F-statistic):</th>  <td>   nan</td> \n",
       "</tr>\n",
       "<tr>\n",
       "  <th>Time:</th>                 <td>16:40:50</td>     <th>  Log-Likelihood:    </th> <td>     nan</td>\n",
       "</tr>\n",
       "<tr>\n",
       "  <th>No. Observations:</th>      <td> 17027</td>      <th>  AIC:               </th> <td>     nan</td>\n",
       "</tr>\n",
       "<tr>\n",
       "  <th>Df Residuals:</th>          <td> 17023</td>      <th>  BIC:               </th> <td>     nan</td>\n",
       "</tr>\n",
       "<tr>\n",
       "  <th>Df Model:</th>              <td>     3</td>      <th>                     </th>     <td> </td>   \n",
       "</tr>\n",
       "<tr>\n",
       "  <th>Covariance Type:</th>      <td>nonrobust</td>    <th>                     </th>     <td> </td>   \n",
       "</tr>\n",
       "</table>\n",
       "<table class=\"simpletable\">\n",
       "<tr>\n",
       "           <td></td>             <th>coef</th>     <th>std err</th>      <th>t</th>      <th>P>|t|</th>  <th>[0.025</th>    <th>0.975]</th>  \n",
       "</tr>\n",
       "<tr>\n",
       "  <th>const</th>              <td>       inf</td> <td>      nan</td> <td>      nan</td> <td>   nan</td> <td>      nan</td> <td>      nan</td>\n",
       "</tr>\n",
       "<tr>\n",
       "  <th>odometer_value_log</th> <td>      -inf</td> <td>      nan</td> <td>      nan</td> <td>   nan</td> <td>      nan</td> <td>      nan</td>\n",
       "</tr>\n",
       "<tr>\n",
       "  <th>car_age</th>            <td>       inf</td> <td>      nan</td> <td>      nan</td> <td>   nan</td> <td>      nan</td> <td>      nan</td>\n",
       "</tr>\n",
       "<tr>\n",
       "  <th>transmission</th>       <td>       inf</td> <td>      nan</td> <td>      nan</td> <td>   nan</td> <td>      nan</td> <td>      nan</td>\n",
       "</tr>\n",
       "</table>\n",
       "<table class=\"simpletable\">\n",
       "<tr>\n",
       "  <th>Omnibus:</th>       <td>   nan</td> <th>  Durbin-Watson:     </th> <td>     nan</td>\n",
       "</tr>\n",
       "<tr>\n",
       "  <th>Prob(Omnibus):</th> <td>   nan</td> <th>  Jarque-Bera (JB):  </th> <td>     nan</td>\n",
       "</tr>\n",
       "<tr>\n",
       "  <th>Skew:</th>          <td>   nan</td> <th>  Prob(JB):          </th> <td>     nan</td>\n",
       "</tr>\n",
       "<tr>\n",
       "  <th>Kurtosis:</th>      <td>   nan</td> <th>  Cond. No.          </th> <td>    181.</td>\n",
       "</tr>\n",
       "</table><br/><br/>Warnings:<br/>[1] Standard Errors assume that the covariance matrix of the errors is correctly specified."
      ],
      "text/plain": [
       "<class 'statsmodels.iolib.summary.Summary'>\n",
       "\"\"\"\n",
       "                            OLS Regression Results                            \n",
       "==============================================================================\n",
       "Dep. Variable:              price_log   R-squared:                         nan\n",
       "Model:                            OLS   Adj. R-squared:                    nan\n",
       "Method:                 Least Squares   F-statistic:                       nan\n",
       "Date:                Mon, 06 Jan 2020   Prob (F-statistic):                nan\n",
       "Time:                        16:40:50   Log-Likelihood:                    nan\n",
       "No. Observations:               17027   AIC:                               nan\n",
       "Df Residuals:                   17023   BIC:                               nan\n",
       "Df Model:                           3                                         \n",
       "Covariance Type:            nonrobust                                         \n",
       "======================================================================================\n",
       "                         coef    std err          t      P>|t|      [0.025      0.975]\n",
       "--------------------------------------------------------------------------------------\n",
       "const                     inf        nan        nan        nan         nan         nan\n",
       "odometer_value_log       -inf        nan        nan        nan         nan         nan\n",
       "car_age                   inf        nan        nan        nan         nan         nan\n",
       "transmission              inf        nan        nan        nan         nan         nan\n",
       "==============================================================================\n",
       "Omnibus:                          nan   Durbin-Watson:                     nan\n",
       "Prob(Omnibus):                    nan   Jarque-Bera (JB):                  nan\n",
       "Skew:                             nan   Prob(JB):                          nan\n",
       "Kurtosis:                         nan   Cond. No.                         181.\n",
       "==============================================================================\n",
       "\n",
       "Warnings:\n",
       "[1] Standard Errors assume that the covariance matrix of the errors is correctly specified.\n",
       "\"\"\""
      ]
     },
     "execution_count": 67,
     "metadata": {},
     "output_type": "execute_result"
    }
   ],
   "source": [
    "# Slicing Data into Independent Variables (Features) and Dependent Variable (Target)\n",
    "X = df_logged_price_no_brands_only_mileage_logged[['odometer_value_log', 'car_age',\n",
    "       'transmission'] ].astype(float)\n",
    "X = sm.add_constant(X)\n",
    "y = df_logged_price_no_brands_only_mileage_logged['price_log'].astype(float)\n",
    "\n",
    "\n",
    "# model / fit / summarize\n",
    "import statsmodels.api as sm\n",
    "\n",
    "lsm = sm.OLS(y, X)\n",
    "results = lsm.fit()\n",
    "results.summary()"
   ]
  },
  {
   "cell_type": "markdown",
   "metadata": {},
   "source": [
    "### R^2 Summary from Linear Regression Models\n",
    "Price vs Original Independent Variables:  \n",
    "R^2: **0.820**  \n",
    "R^2 Adjusted: **0.820**  \n",
    "df_price_no_brands\n",
    "  \n",
    "Price vs Independent Variables (Logged Mileage and Squared Engine CC):  \n",
    "R^2: **0.824**  \n",
    "R^2 Adjusted: **0.824**  \n",
    "df_price_no_brands_mileage_logged_squared_engine_cap\n",
    "    \n",
    "Logged Price vs Independent Variables (Logged Mileage and Squared Engine CC (engine squared became irrelevant):\n",
    "R^2: **0.897**     \n",
    "R^2 Adjusted: **0.897**   \n",
    "df_logged_price_no_brands_mileage_logged_squared_engine_cap\n",
    "  \n",
    "Logged Price vs Independent Variables (Logged Mileage):\n",
    "R^2: **0.898**     \n",
    "R^2 Adjusted: **0.898**  \n",
    "df_logged_price_no_brands_only_mileage_logged"
   ]
  },
  {
   "cell_type": "markdown",
   "metadata": {},
   "source": [
    "## Section 3.3: Analysis of Car Brands, Vehicle Types, Brand Categorization"
   ]
  },
  {
   "cell_type": "markdown",
   "metadata": {},
   "source": [
    "### 3.3.1: Further breaking down dataframe into finalized features (with log price, log mileage)"
   ]
  },
  {
   "cell_type": "code",
   "execution_count": 68,
   "metadata": {},
   "outputs": [],
   "source": [
    "df_finalized_features = df_clean2.copy()"
   ]
  },
  {
   "cell_type": "code",
   "execution_count": 69,
   "metadata": {},
   "outputs": [],
   "source": [
    "# Applying log to the desired features\n",
    "df_finalized_features['price'] = df_clean2['price'].apply(np.log)\n",
    "df_finalized_features['odometer_value'] = df_clean2['odometer_value'].apply(np.log)\n",
    "\n",
    "\n",
    "# Renaming features\n",
    "df_finalized_features.rename(columns={'price':'price_log',\n",
    "                                     'odometer_value':'odometer_value_log'},inplace=True)"
   ]
  },
  {
   "cell_type": "code",
   "execution_count": 70,
   "metadata": {},
   "outputs": [
    {
     "data": {
      "text/plain": [
       "Index(['manufacturer_name', 'model_name', 'body_type', 'production_year',\n",
       "       'number_of_seat', 'odometer_value_log', 'price_log', 'transmission',\n",
       "       'car_age', 'Intercept', 'body_type[T.City Car]', 'body_type[T.Coupe]',\n",
       "       'body_type[T.Hatchback]', 'body_type[T.MPV]',\n",
       "       'body_type[T.Pick-up Truck]', 'body_type[T.SUV]', 'body_type[T.Sedan]',\n",
       "       'body_type[T.Special Purpose]', 'body_type[T.Sport Car]',\n",
       "       'body_type[T.Truck]', 'body_type[T.Van/Minivan]'],\n",
       "      dtype='object')"
      ]
     },
     "execution_count": 70,
     "metadata": {},
     "output_type": "execute_result"
    }
   ],
   "source": [
    "df_finalized_features.columns"
   ]
  },
  {
   "cell_type": "code",
   "execution_count": 71,
   "metadata": {},
   "outputs": [],
   "source": [
    "# Rearranging Columns and removing unwanted variables\n",
    "#df_finalized_features = df_finalized_features[['BRAND','PRICE_LOG', 'MILEAGE_LOG', 'COE_FROM_SCRAPE_DATE', 'DAYS_OF_COE_LEFT',\n",
    "#       'CAR_AGE', 'OMV', 'ENGINE_CAPACITY_CC', 'CURB_WEIGHT_KG',\n",
    "#       'NO_OF_OWNERS', 'TRANSMISSION', 'Intercept', 'VEHICLE_TYPE[T.Luxury Sedan]',\n",
    "#       'VEHICLE_TYPE[T.MPV]', 'VEHICLE_TYPE[T.Mid-Sized Sedan]',\n",
    "#       'VEHICLE_TYPE[T.SUV]', 'VEHICLE_TYPE[T.Sports Car]',\n",
    "#       'VEHICLE_TYPE[T.Stationwagon]']]"
   ]
  },
  {
   "cell_type": "code",
   "execution_count": 72,
   "metadata": {
    "scrolled": false
   },
   "outputs": [
    {
     "data": {
      "text/plain": [
       "Index(['price_log', 'odometer_value_log', 'car_age', 'transmission'], dtype='object')"
      ]
     },
     "execution_count": 72,
     "metadata": {},
     "output_type": "execute_result"
    }
   ],
   "source": [
    "df_logged_price_no_brands_only_mileage_logged.columns"
   ]
  },
  {
   "cell_type": "code",
   "execution_count": 73,
   "metadata": {},
   "outputs": [
    {
     "data": {
      "text/plain": [
       "Index(['manufacturer_name', 'model_name', 'body_type', 'production_year',\n",
       "       'number_of_seat', 'odometer_value_log', 'price_log', 'transmission',\n",
       "       'car_age', 'Intercept', 'body_type[T.City Car]', 'body_type[T.Coupe]',\n",
       "       'body_type[T.Hatchback]', 'body_type[T.MPV]',\n",
       "       'body_type[T.Pick-up Truck]', 'body_type[T.SUV]', 'body_type[T.Sedan]',\n",
       "       'body_type[T.Special Purpose]', 'body_type[T.Sport Car]',\n",
       "       'body_type[T.Truck]', 'body_type[T.Van/Minivan]'],\n",
       "      dtype='object')"
      ]
     },
     "execution_count": 73,
     "metadata": {},
     "output_type": "execute_result"
    }
   ],
   "source": [
    "df_finalized_features.columns"
   ]
  },
  {
   "cell_type": "markdown",
   "metadata": {},
   "source": [
    "### 3.3.2: Joining Brand Dummy Variables into Main Dataframe"
   ]
  },
  {
   "cell_type": "code",
   "execution_count": 74,
   "metadata": {},
   "outputs": [],
   "source": [
    "# Creating a new DataFrame for this Brand Categorization\n",
    "df_categorized_car_brands = df_finalized_features.copy()"
   ]
  },
  {
   "cell_type": "code",
   "execution_count": 75,
   "metadata": {},
   "outputs": [
    {
     "name": "stdout",
     "output_type": "stream",
     "text": [
      "Toyota           8693\n",
      "Kia              2228\n",
      "Mercedes-Benz    1207\n",
      "Hyundai          1182\n",
      "Ford             1178\n",
      "Mazda            1098\n",
      "Rolls-Royce      1046\n",
      "Lexus              70\n",
      "Honda              55\n",
      "Chevrolet          54\n",
      "Mitsubishi         32\n",
      "LandRover          28\n",
      "BMW                25\n",
      "Audi               23\n",
      "Nissan             23\n",
      "Daewoo             17\n",
      "Suzuki             13\n",
      "Cadillac            7\n",
      "Porsche             7\n",
      "Bentley             5\n",
      "Isuzu               4\n",
      "Jaguar              4\n",
      "Acura               4\n",
      "Peugeot             3\n",
      "Renault             3\n",
      "Cửu Long            2\n",
      "Mini                2\n",
      "Zotye               2\n",
      "Volkswagen          2\n",
      "Samco               1\n",
      "FAW                 1\n",
      "Thaco               1\n",
      "Fiat                1\n",
      "Maserati            1\n",
      "Fuso                1\n",
      "Subaru              1\n",
      "Hino                1\n",
      "Infiniti            1\n",
      "Ssangyong           1\n",
      "Name: manufacturer_name, dtype: int64\n",
      "39\n"
     ]
    }
   ],
   "source": [
    "print(df_categorized_car_brands['manufacturer_name'].value_counts())\n",
    "print(len(df_categorized_car_brands['manufacturer_name'].value_counts()))"
   ]
  },
  {
   "cell_type": "code",
   "execution_count": 76,
   "metadata": {},
   "outputs": [],
   "source": [
    "# Creating the relevant columns\n",
    "df_categorized_car_brands['EXOTIC'] = 0 # Create EXOTIC column\n",
    "df_categorized_car_brands[\"ULTRA_LUXURY\"] = 0\n",
    "df_categorized_car_brands[\"LUXURY\"] = 0\n",
    "df_categorized_car_brands[\"MID_LEVEL\"] = 0\n",
    "df_categorized_car_brands[\"ECONOMY\"] = 0"
   ]
  },
  {
   "cell_type": "code",
   "execution_count": 77,
   "metadata": {},
   "outputs": [],
   "source": [
    "# Labelling Car Brands into Exotic\n",
    "df_categorized_car_brands.loc[(df_clean2['manufacturer_name'] == \"Aston Martin\") | \n",
    "              (df_clean2['manufacturer_name'] == \"Ferrari\") |\n",
    "              (df_clean2['manufacturer_name'] == \"Lamborghini\") |\n",
    "              (df_clean2['manufacturer_name'] == \"McLaren\") |\n",
    "              (df_clean2['manufacturer_name'] == \"Hummer\"),\n",
    "              'EXOTIC'] = 1 \n",
    "\n",
    "# Labelling Car Brands into Ultra Luxury\n",
    "df_categorized_car_brands.loc[(df_clean2['manufacturer_name'] == \"Bentley\") | \n",
    "              (df_clean2['manufacturer_name'] == \"Land Rover\") |\n",
    "              (df_clean2['manufacturer_name'] == \"Maserati\") |\n",
    "              (df_clean2['manufacturer_name'] == \"Porsche\") |\n",
    "              (df_clean2['manufacturer_name'] == \"Rolls-Royce\"), \n",
    "              \"ULTRA_LUXURY\"] = 1 \n",
    "\n",
    "# Labelling Car Brands into Luxury\n",
    "\n",
    "df_categorized_car_brands.loc[(df_clean2['manufacturer_name'] == \"Audi\") | \n",
    "              (df_clean2['manufacturer_name'] == \"BMW\") |\n",
    "              (df_clean2['manufacturer_name'] == \"Jeep\") |\n",
    "              (df_clean2['manufacturer_name'] == \"Lexus\") |\n",
    "              (df_clean2['manufacturer_name'] == \"Lotus\") |\n",
    "              (df_clean2['manufacturer_name'] == \"Mercedes-Benz\") |\n",
    "              (df_clean2['manufacturer_name'] == \"Volvo\") |\n",
    "              (df_clean2['manufacturer_name'] == \"Peugeot\"), \n",
    "              \"LUXURY\"] = 1 \n",
    "\n",
    "\n",
    "# Labelling Car Brands into Mid-Level\n",
    "\n",
    "df_categorized_car_brands.loc[(df_clean2['manufacturer_name'] == \"Infiniti\") |\n",
    "              (df_clean2['manufacturer_name'] == \"MINI\") |\n",
    "              (df_clean2['manufacturer_name'] == \"Volkswagen\") |\n",
    "              (df_clean2['manufacturer_name'] == \"Renault\") |\n",
    "              (df_clean2['manufacturer_name'] == \"Peugeot\"), \n",
    "              \"MID_LEVEL\"] = 1 \n",
    "\n",
    "# (df_clean2['manufacturer_name'] == \"Opel\") & \"Alfa Romeo\" will be considered as \"Others\" because it is not a very common brand in Singapore\n",
    "\n",
    "# Labelling Car Brands into Economy\n",
    "\n",
    "df_categorized_car_brands.loc[(df_clean2['manufacturer_name'] == \"Chevrolet\") | \n",
    "              (df_clean2['manufacturer_name'] == \"Citroen\") |\n",
    "              (df_clean2['manufacturer_name'] == \"Ford\") |\n",
    "              (df_clean2['manufacturer_name'] == \"Honda\") |\n",
    "              (df_clean2['manufacturer_name'] == \"Hyundai\") |\n",
    "              (df_clean2['manufacturer_name'] == \"Kia\") |\n",
    "              (df_clean2['manufacturer_name'] == \"Mazda\") |\n",
    "              (df_clean2['manufacturer_name'] == \"Mitsubishi\") |\n",
    "              (df_clean2['manufacturer_name'] == \"Nissan\") |\n",
    "              (df_clean2['manufacturer_name'] == \"Suzuki\") |\n",
    "              (df_clean2['manufacturer_name'] == \"Toyota\"),\n",
    "              \"ECONOMY\"] = 1\n",
    "\n",
    "# (df_clean2['manufacturer_name'] == \"Ssangyong\") will be considered as \"Others\" because it is not a common brand in Singapore\n",
    "\n",
    "# Changing Uncommon Car brands to \"Others\"\n",
    "df_categorized_car_brands.loc[(df_clean2['manufacturer_name'] == 'Opel') |\n",
    "                  (df_clean2['manufacturer_name'] == 'Ssangyong') |\n",
    "                  (df_clean2['manufacturer_name'] == 'Proton') |\n",
    "                  (df_clean2['manufacturer_name'] == 'Daihatsu') |\n",
    "                  (df_clean2['manufacturer_name'] == 'Fiat') |\n",
    "                  (df_clean2['manufacturer_name'] == 'Alfa Romeo') |\n",
    "                  (df_clean2['manufacturer_name'] == 'Skoda') |\n",
    "                  (df_clean2['manufacturer_name'] == 'Hummer')|\n",
    "                  (df_clean2['manufacturer_name'] == 'Aston Martin')|\n",
    "                  (df_clean2['manufacturer_name'] == 'Lotus')|\n",
    "                  (df_clean2['manufacturer_name'] == 'Ford')|\n",
    "                  (df_clean2['manufacturer_name'] == 'Jeep'), \n",
    "                  'manufacturer_name'] = \"Others\"\n",
    "\n",
    "\n",
    "\n",
    "# Group uncommon cars into \"Others\". There are too many brands to work with."
   ]
  },
  {
   "cell_type": "code",
   "execution_count": 78,
   "metadata": {},
   "outputs": [
    {
     "name": "stdout",
     "output_type": "stream",
     "text": [
      "Toyota           8693\n",
      "Kia              2228\n",
      "Mercedes-Benz    1207\n",
      "Hyundai          1182\n",
      "Others           1180\n",
      "Mazda            1098\n",
      "Rolls-Royce      1046\n",
      "Lexus              70\n",
      "Honda              55\n",
      "Chevrolet          54\n",
      "Mitsubishi         32\n",
      "LandRover          28\n",
      "BMW                25\n",
      "Audi               23\n",
      "Nissan             23\n",
      "Daewoo             17\n",
      "Suzuki             13\n",
      "Cadillac            7\n",
      "Porsche             7\n",
      "Bentley             5\n",
      "Isuzu               4\n",
      "Acura               4\n",
      "Jaguar              4\n",
      "Renault             3\n",
      "Peugeot             3\n",
      "Zotye               2\n",
      "Cửu Long            2\n",
      "Mini                2\n",
      "Volkswagen          2\n",
      "Thaco               1\n",
      "Infiniti            1\n",
      "Hino                1\n",
      "Samco               1\n",
      "FAW                 1\n",
      "Maserati            1\n",
      "Subaru              1\n",
      "Fuso                1\n",
      "Name: manufacturer_name, dtype: int64\n",
      "37\n"
     ]
    }
   ],
   "source": [
    "print(df_categorized_car_brands['manufacturer_name'].value_counts())\n",
    "print(len(df_categorized_car_brands['manufacturer_name'].value_counts()))"
   ]
  },
  {
   "cell_type": "markdown",
   "metadata": {},
   "source": [
    "##### Brand Dummy Variables Creation"
   ]
  },
  {
   "cell_type": "code",
   "execution_count": 79,
   "metadata": {},
   "outputs": [
    {
     "data": {
      "text/html": [
       "<div>\n",
       "<style scoped>\n",
       "    .dataframe tbody tr th:only-of-type {\n",
       "        vertical-align: middle;\n",
       "    }\n",
       "\n",
       "    .dataframe tbody tr th {\n",
       "        vertical-align: top;\n",
       "    }\n",
       "\n",
       "    .dataframe thead th {\n",
       "        text-align: right;\n",
       "    }\n",
       "</style>\n",
       "<table border=\"1\" class=\"dataframe\">\n",
       "  <thead>\n",
       "    <tr style=\"text-align: right;\">\n",
       "      <th></th>\n",
       "      <th>Intercept</th>\n",
       "      <th>manufacturer_name[T.Audi]</th>\n",
       "      <th>manufacturer_name[T.BMW]</th>\n",
       "      <th>manufacturer_name[T.Bentley]</th>\n",
       "      <th>manufacturer_name[T.Cadillac]</th>\n",
       "      <th>manufacturer_name[T.Chevrolet]</th>\n",
       "      <th>manufacturer_name[T.Cửu Long]</th>\n",
       "      <th>manufacturer_name[T.Daewoo]</th>\n",
       "      <th>manufacturer_name[T.FAW]</th>\n",
       "      <th>manufacturer_name[T.Fuso]</th>\n",
       "      <th>...</th>\n",
       "      <th>manufacturer_name[T.Porsche]</th>\n",
       "      <th>manufacturer_name[T.Renault]</th>\n",
       "      <th>manufacturer_name[T.Rolls-Royce]</th>\n",
       "      <th>manufacturer_name[T.Samco]</th>\n",
       "      <th>manufacturer_name[T.Subaru]</th>\n",
       "      <th>manufacturer_name[T.Suzuki]</th>\n",
       "      <th>manufacturer_name[T.Thaco]</th>\n",
       "      <th>manufacturer_name[T.Toyota]</th>\n",
       "      <th>manufacturer_name[T.Volkswagen]</th>\n",
       "      <th>manufacturer_name[T.Zotye]</th>\n",
       "    </tr>\n",
       "  </thead>\n",
       "  <tbody>\n",
       "    <tr>\n",
       "      <th>0</th>\n",
       "      <td>1.0</td>\n",
       "      <td>0.0</td>\n",
       "      <td>0.0</td>\n",
       "      <td>0.0</td>\n",
       "      <td>0.0</td>\n",
       "      <td>0.0</td>\n",
       "      <td>0.0</td>\n",
       "      <td>0.0</td>\n",
       "      <td>0.0</td>\n",
       "      <td>0.0</td>\n",
       "      <td>...</td>\n",
       "      <td>0.0</td>\n",
       "      <td>0.0</td>\n",
       "      <td>0.0</td>\n",
       "      <td>0.0</td>\n",
       "      <td>0.0</td>\n",
       "      <td>0.0</td>\n",
       "      <td>0.0</td>\n",
       "      <td>0.0</td>\n",
       "      <td>0.0</td>\n",
       "      <td>0.0</td>\n",
       "    </tr>\n",
       "    <tr>\n",
       "      <th>1</th>\n",
       "      <td>1.0</td>\n",
       "      <td>0.0</td>\n",
       "      <td>0.0</td>\n",
       "      <td>0.0</td>\n",
       "      <td>0.0</td>\n",
       "      <td>0.0</td>\n",
       "      <td>0.0</td>\n",
       "      <td>0.0</td>\n",
       "      <td>0.0</td>\n",
       "      <td>0.0</td>\n",
       "      <td>...</td>\n",
       "      <td>0.0</td>\n",
       "      <td>0.0</td>\n",
       "      <td>0.0</td>\n",
       "      <td>0.0</td>\n",
       "      <td>0.0</td>\n",
       "      <td>0.0</td>\n",
       "      <td>0.0</td>\n",
       "      <td>1.0</td>\n",
       "      <td>0.0</td>\n",
       "      <td>0.0</td>\n",
       "    </tr>\n",
       "    <tr>\n",
       "      <th>2</th>\n",
       "      <td>1.0</td>\n",
       "      <td>0.0</td>\n",
       "      <td>0.0</td>\n",
       "      <td>0.0</td>\n",
       "      <td>0.0</td>\n",
       "      <td>0.0</td>\n",
       "      <td>0.0</td>\n",
       "      <td>0.0</td>\n",
       "      <td>0.0</td>\n",
       "      <td>0.0</td>\n",
       "      <td>...</td>\n",
       "      <td>0.0</td>\n",
       "      <td>0.0</td>\n",
       "      <td>0.0</td>\n",
       "      <td>0.0</td>\n",
       "      <td>0.0</td>\n",
       "      <td>0.0</td>\n",
       "      <td>0.0</td>\n",
       "      <td>1.0</td>\n",
       "      <td>0.0</td>\n",
       "      <td>0.0</td>\n",
       "    </tr>\n",
       "    <tr>\n",
       "      <th>3</th>\n",
       "      <td>1.0</td>\n",
       "      <td>0.0</td>\n",
       "      <td>0.0</td>\n",
       "      <td>0.0</td>\n",
       "      <td>0.0</td>\n",
       "      <td>0.0</td>\n",
       "      <td>0.0</td>\n",
       "      <td>0.0</td>\n",
       "      <td>0.0</td>\n",
       "      <td>0.0</td>\n",
       "      <td>...</td>\n",
       "      <td>0.0</td>\n",
       "      <td>0.0</td>\n",
       "      <td>0.0</td>\n",
       "      <td>0.0</td>\n",
       "      <td>0.0</td>\n",
       "      <td>0.0</td>\n",
       "      <td>0.0</td>\n",
       "      <td>1.0</td>\n",
       "      <td>0.0</td>\n",
       "      <td>0.0</td>\n",
       "    </tr>\n",
       "    <tr>\n",
       "      <th>4</th>\n",
       "      <td>1.0</td>\n",
       "      <td>0.0</td>\n",
       "      <td>0.0</td>\n",
       "      <td>0.0</td>\n",
       "      <td>0.0</td>\n",
       "      <td>0.0</td>\n",
       "      <td>0.0</td>\n",
       "      <td>0.0</td>\n",
       "      <td>0.0</td>\n",
       "      <td>0.0</td>\n",
       "      <td>...</td>\n",
       "      <td>0.0</td>\n",
       "      <td>0.0</td>\n",
       "      <td>0.0</td>\n",
       "      <td>0.0</td>\n",
       "      <td>0.0</td>\n",
       "      <td>0.0</td>\n",
       "      <td>0.0</td>\n",
       "      <td>0.0</td>\n",
       "      <td>0.0</td>\n",
       "      <td>0.0</td>\n",
       "    </tr>\n",
       "  </tbody>\n",
       "</table>\n",
       "<p>5 rows × 37 columns</p>\n",
       "</div>"
      ],
      "text/plain": [
       "   Intercept  manufacturer_name[T.Audi]  manufacturer_name[T.BMW]  \\\n",
       "0        1.0                        0.0                       0.0   \n",
       "1        1.0                        0.0                       0.0   \n",
       "2        1.0                        0.0                       0.0   \n",
       "3        1.0                        0.0                       0.0   \n",
       "4        1.0                        0.0                       0.0   \n",
       "\n",
       "   manufacturer_name[T.Bentley]  manufacturer_name[T.Cadillac]  \\\n",
       "0                           0.0                            0.0   \n",
       "1                           0.0                            0.0   \n",
       "2                           0.0                            0.0   \n",
       "3                           0.0                            0.0   \n",
       "4                           0.0                            0.0   \n",
       "\n",
       "   manufacturer_name[T.Chevrolet]  manufacturer_name[T.Cửu Long]  \\\n",
       "0                             0.0                            0.0   \n",
       "1                             0.0                            0.0   \n",
       "2                             0.0                            0.0   \n",
       "3                             0.0                            0.0   \n",
       "4                             0.0                            0.0   \n",
       "\n",
       "   manufacturer_name[T.Daewoo]  manufacturer_name[T.FAW]  \\\n",
       "0                          0.0                       0.0   \n",
       "1                          0.0                       0.0   \n",
       "2                          0.0                       0.0   \n",
       "3                          0.0                       0.0   \n",
       "4                          0.0                       0.0   \n",
       "\n",
       "   manufacturer_name[T.Fuso]  ...  manufacturer_name[T.Porsche]  \\\n",
       "0                        0.0  ...                           0.0   \n",
       "1                        0.0  ...                           0.0   \n",
       "2                        0.0  ...                           0.0   \n",
       "3                        0.0  ...                           0.0   \n",
       "4                        0.0  ...                           0.0   \n",
       "\n",
       "   manufacturer_name[T.Renault]  manufacturer_name[T.Rolls-Royce]  \\\n",
       "0                           0.0                               0.0   \n",
       "1                           0.0                               0.0   \n",
       "2                           0.0                               0.0   \n",
       "3                           0.0                               0.0   \n",
       "4                           0.0                               0.0   \n",
       "\n",
       "   manufacturer_name[T.Samco]  manufacturer_name[T.Subaru]  \\\n",
       "0                         0.0                          0.0   \n",
       "1                         0.0                          0.0   \n",
       "2                         0.0                          0.0   \n",
       "3                         0.0                          0.0   \n",
       "4                         0.0                          0.0   \n",
       "\n",
       "   manufacturer_name[T.Suzuki]  manufacturer_name[T.Thaco]  \\\n",
       "0                          0.0                         0.0   \n",
       "1                          0.0                         0.0   \n",
       "2                          0.0                         0.0   \n",
       "3                          0.0                         0.0   \n",
       "4                          0.0                         0.0   \n",
       "\n",
       "   manufacturer_name[T.Toyota]  manufacturer_name[T.Volkswagen]  \\\n",
       "0                          0.0                              0.0   \n",
       "1                          1.0                              0.0   \n",
       "2                          1.0                              0.0   \n",
       "3                          1.0                              0.0   \n",
       "4                          0.0                              0.0   \n",
       "\n",
       "   manufacturer_name[T.Zotye]  \n",
       "0                         0.0  \n",
       "1                         0.0  \n",
       "2                         0.0  \n",
       "3                         0.0  \n",
       "4                         0.0  \n",
       "\n",
       "[5 rows x 37 columns]"
      ]
     },
     "execution_count": 79,
     "metadata": {},
     "output_type": "execute_result"
    }
   ],
   "source": [
    "x_brand_dummy = patsy.dmatrix('manufacturer_name', data=df_categorized_car_brands, return_type='dataframe')\n",
    "x_brand_dummy.head()"
   ]
  },
  {
   "cell_type": "code",
   "execution_count": 80,
   "metadata": {
    "scrolled": false
   },
   "outputs": [
    {
     "data": {
      "text/html": [
       "<div>\n",
       "<style scoped>\n",
       "    .dataframe tbody tr th:only-of-type {\n",
       "        vertical-align: middle;\n",
       "    }\n",
       "\n",
       "    .dataframe tbody tr th {\n",
       "        vertical-align: top;\n",
       "    }\n",
       "\n",
       "    .dataframe thead th {\n",
       "        text-align: right;\n",
       "    }\n",
       "</style>\n",
       "<table border=\"1\" class=\"dataframe\">\n",
       "  <thead>\n",
       "    <tr style=\"text-align: right;\">\n",
       "      <th></th>\n",
       "      <th>manufacturer_name</th>\n",
       "      <th>model_name</th>\n",
       "      <th>body_type</th>\n",
       "      <th>production_year</th>\n",
       "      <th>number_of_seat</th>\n",
       "      <th>odometer_value_log</th>\n",
       "      <th>price_log</th>\n",
       "      <th>transmission</th>\n",
       "      <th>car_age</th>\n",
       "      <th>body_type[T.City Car]</th>\n",
       "      <th>...</th>\n",
       "      <th>manufacturer_name[T.Porsche]</th>\n",
       "      <th>manufacturer_name[T.Renault]</th>\n",
       "      <th>manufacturer_name[T.Rolls-Royce]</th>\n",
       "      <th>manufacturer_name[T.Samco]</th>\n",
       "      <th>manufacturer_name[T.Subaru]</th>\n",
       "      <th>manufacturer_name[T.Suzuki]</th>\n",
       "      <th>manufacturer_name[T.Thaco]</th>\n",
       "      <th>manufacturer_name[T.Toyota]</th>\n",
       "      <th>manufacturer_name[T.Volkswagen]</th>\n",
       "      <th>manufacturer_name[T.Zotye]</th>\n",
       "    </tr>\n",
       "  </thead>\n",
       "  <tbody>\n",
       "    <tr>\n",
       "      <th>0</th>\n",
       "      <td>Kia</td>\n",
       "      <td>cerato</td>\n",
       "      <td>Sedan</td>\n",
       "      <td>2018</td>\n",
       "      <td>5</td>\n",
       "      <td>9.615805</td>\n",
       "      <td>20.225685</td>\n",
       "      <td>1</td>\n",
       "      <td>2</td>\n",
       "      <td>0.0</td>\n",
       "      <td>...</td>\n",
       "      <td>0.0</td>\n",
       "      <td>0.0</td>\n",
       "      <td>0.0</td>\n",
       "      <td>0.0</td>\n",
       "      <td>0.0</td>\n",
       "      <td>0.0</td>\n",
       "      <td>0.0</td>\n",
       "      <td>0.0</td>\n",
       "      <td>0.0</td>\n",
       "      <td>0.0</td>\n",
       "    </tr>\n",
       "    <tr>\n",
       "      <th>1</th>\n",
       "      <td>Toyota</td>\n",
       "      <td>innova</td>\n",
       "      <td>MPV</td>\n",
       "      <td>2016</td>\n",
       "      <td>7</td>\n",
       "      <td>11.925035</td>\n",
       "      <td>20.183698</td>\n",
       "      <td>0</td>\n",
       "      <td>4</td>\n",
       "      <td>0.0</td>\n",
       "      <td>...</td>\n",
       "      <td>0.0</td>\n",
       "      <td>0.0</td>\n",
       "      <td>0.0</td>\n",
       "      <td>0.0</td>\n",
       "      <td>0.0</td>\n",
       "      <td>0.0</td>\n",
       "      <td>0.0</td>\n",
       "      <td>1.0</td>\n",
       "      <td>0.0</td>\n",
       "      <td>0.0</td>\n",
       "    </tr>\n",
       "    <tr>\n",
       "      <th>2</th>\n",
       "      <td>Toyota</td>\n",
       "      <td>innova</td>\n",
       "      <td>MPV</td>\n",
       "      <td>2014</td>\n",
       "      <td>8</td>\n",
       "      <td>11.314475</td>\n",
       "      <td>20.069339</td>\n",
       "      <td>1</td>\n",
       "      <td>6</td>\n",
       "      <td>0.0</td>\n",
       "      <td>...</td>\n",
       "      <td>0.0</td>\n",
       "      <td>0.0</td>\n",
       "      <td>0.0</td>\n",
       "      <td>0.0</td>\n",
       "      <td>0.0</td>\n",
       "      <td>0.0</td>\n",
       "      <td>0.0</td>\n",
       "      <td>1.0</td>\n",
       "      <td>0.0</td>\n",
       "      <td>0.0</td>\n",
       "    </tr>\n",
       "    <tr>\n",
       "      <th>3</th>\n",
       "      <td>Toyota</td>\n",
       "      <td>corolla-altis</td>\n",
       "      <td>Sedan</td>\n",
       "      <td>2009</td>\n",
       "      <td>5</td>\n",
       "      <td>11.751942</td>\n",
       "      <td>19.968243</td>\n",
       "      <td>1</td>\n",
       "      <td>11</td>\n",
       "      <td>0.0</td>\n",
       "      <td>...</td>\n",
       "      <td>0.0</td>\n",
       "      <td>0.0</td>\n",
       "      <td>0.0</td>\n",
       "      <td>0.0</td>\n",
       "      <td>0.0</td>\n",
       "      <td>0.0</td>\n",
       "      <td>0.0</td>\n",
       "      <td>1.0</td>\n",
       "      <td>0.0</td>\n",
       "      <td>0.0</td>\n",
       "    </tr>\n",
       "    <tr>\n",
       "      <th>4</th>\n",
       "      <td>Kia</td>\n",
       "      <td>rio</td>\n",
       "      <td>Sedan</td>\n",
       "      <td>2015</td>\n",
       "      <td>5</td>\n",
       "      <td>11.156251</td>\n",
       "      <td>19.718144</td>\n",
       "      <td>0</td>\n",
       "      <td>5</td>\n",
       "      <td>0.0</td>\n",
       "      <td>...</td>\n",
       "      <td>0.0</td>\n",
       "      <td>0.0</td>\n",
       "      <td>0.0</td>\n",
       "      <td>0.0</td>\n",
       "      <td>0.0</td>\n",
       "      <td>0.0</td>\n",
       "      <td>0.0</td>\n",
       "      <td>0.0</td>\n",
       "      <td>0.0</td>\n",
       "      <td>0.0</td>\n",
       "    </tr>\n",
       "    <tr>\n",
       "      <th>...</th>\n",
       "      <td>...</td>\n",
       "      <td>...</td>\n",
       "      <td>...</td>\n",
       "      <td>...</td>\n",
       "      <td>...</td>\n",
       "      <td>...</td>\n",
       "      <td>...</td>\n",
       "      <td>...</td>\n",
       "      <td>...</td>\n",
       "      <td>...</td>\n",
       "      <td>...</td>\n",
       "      <td>...</td>\n",
       "      <td>...</td>\n",
       "      <td>...</td>\n",
       "      <td>...</td>\n",
       "      <td>...</td>\n",
       "      <td>...</td>\n",
       "      <td>...</td>\n",
       "      <td>...</td>\n",
       "      <td>...</td>\n",
       "      <td>...</td>\n",
       "    </tr>\n",
       "    <tr>\n",
       "      <th>20535</th>\n",
       "      <td>Others</td>\n",
       "      <td>ranger</td>\n",
       "      <td>Pick-up Truck</td>\n",
       "      <td>2017</td>\n",
       "      <td>5</td>\n",
       "      <td>10.915088</td>\n",
       "      <td>20.487544</td>\n",
       "      <td>1</td>\n",
       "      <td>3</td>\n",
       "      <td>0.0</td>\n",
       "      <td>...</td>\n",
       "      <td>0.0</td>\n",
       "      <td>0.0</td>\n",
       "      <td>0.0</td>\n",
       "      <td>0.0</td>\n",
       "      <td>0.0</td>\n",
       "      <td>0.0</td>\n",
       "      <td>0.0</td>\n",
       "      <td>0.0</td>\n",
       "      <td>0.0</td>\n",
       "      <td>0.0</td>\n",
       "    </tr>\n",
       "    <tr>\n",
       "      <th>20536</th>\n",
       "      <td>Toyota</td>\n",
       "      <td>fortuner</td>\n",
       "      <td>SUV</td>\n",
       "      <td>2017</td>\n",
       "      <td>7</td>\n",
       "      <td>10.915088</td>\n",
       "      <td>20.601098</td>\n",
       "      <td>0</td>\n",
       "      <td>3</td>\n",
       "      <td>0.0</td>\n",
       "      <td>...</td>\n",
       "      <td>0.0</td>\n",
       "      <td>0.0</td>\n",
       "      <td>0.0</td>\n",
       "      <td>0.0</td>\n",
       "      <td>0.0</td>\n",
       "      <td>0.0</td>\n",
       "      <td>0.0</td>\n",
       "      <td>1.0</td>\n",
       "      <td>0.0</td>\n",
       "      <td>0.0</td>\n",
       "    </tr>\n",
       "    <tr>\n",
       "      <th>20537</th>\n",
       "      <td>Rolls-Royce</td>\n",
       "      <td>phantom</td>\n",
       "      <td>Sedan</td>\n",
       "      <td>2011</td>\n",
       "      <td>4</td>\n",
       "      <td>10.308953</td>\n",
       "      <td>23.608067</td>\n",
       "      <td>1</td>\n",
       "      <td>9</td>\n",
       "      <td>0.0</td>\n",
       "      <td>...</td>\n",
       "      <td>0.0</td>\n",
       "      <td>0.0</td>\n",
       "      <td>1.0</td>\n",
       "      <td>0.0</td>\n",
       "      <td>0.0</td>\n",
       "      <td>0.0</td>\n",
       "      <td>0.0</td>\n",
       "      <td>0.0</td>\n",
       "      <td>0.0</td>\n",
       "      <td>0.0</td>\n",
       "    </tr>\n",
       "    <tr>\n",
       "      <th>20538</th>\n",
       "      <td>Toyota</td>\n",
       "      <td>fortuner</td>\n",
       "      <td>SUV</td>\n",
       "      <td>2019</td>\n",
       "      <td>7</td>\n",
       "      <td>8.853665</td>\n",
       "      <td>20.752825</td>\n",
       "      <td>1</td>\n",
       "      <td>1</td>\n",
       "      <td>0.0</td>\n",
       "      <td>...</td>\n",
       "      <td>0.0</td>\n",
       "      <td>0.0</td>\n",
       "      <td>0.0</td>\n",
       "      <td>0.0</td>\n",
       "      <td>0.0</td>\n",
       "      <td>0.0</td>\n",
       "      <td>0.0</td>\n",
       "      <td>1.0</td>\n",
       "      <td>0.0</td>\n",
       "      <td>0.0</td>\n",
       "    </tr>\n",
       "    <tr>\n",
       "      <th>20539</th>\n",
       "      <td>Toyota</td>\n",
       "      <td>camry</td>\n",
       "      <td>Sedan</td>\n",
       "      <td>2007</td>\n",
       "      <td>5</td>\n",
       "      <td>11.918391</td>\n",
       "      <td>19.883936</td>\n",
       "      <td>1</td>\n",
       "      <td>13</td>\n",
       "      <td>0.0</td>\n",
       "      <td>...</td>\n",
       "      <td>0.0</td>\n",
       "      <td>0.0</td>\n",
       "      <td>0.0</td>\n",
       "      <td>0.0</td>\n",
       "      <td>0.0</td>\n",
       "      <td>0.0</td>\n",
       "      <td>0.0</td>\n",
       "      <td>1.0</td>\n",
       "      <td>0.0</td>\n",
       "      <td>0.0</td>\n",
       "    </tr>\n",
       "  </tbody>\n",
       "</table>\n",
       "<p>17027 rows × 62 columns</p>\n",
       "</div>"
      ],
      "text/plain": [
       "      manufacturer_name     model_name      body_type  production_year  \\\n",
       "0                   Kia         cerato          Sedan             2018   \n",
       "1                Toyota         innova            MPV             2016   \n",
       "2                Toyota         innova            MPV             2014   \n",
       "3                Toyota  corolla-altis          Sedan             2009   \n",
       "4                   Kia            rio          Sedan             2015   \n",
       "...                 ...            ...            ...              ...   \n",
       "20535            Others         ranger  Pick-up Truck             2017   \n",
       "20536            Toyota       fortuner            SUV             2017   \n",
       "20537       Rolls-Royce        phantom          Sedan             2011   \n",
       "20538            Toyota       fortuner            SUV             2019   \n",
       "20539            Toyota          camry          Sedan             2007   \n",
       "\n",
       "       number_of_seat  odometer_value_log  price_log  transmission  car_age  \\\n",
       "0                   5            9.615805  20.225685             1        2   \n",
       "1                   7           11.925035  20.183698             0        4   \n",
       "2                   8           11.314475  20.069339             1        6   \n",
       "3                   5           11.751942  19.968243             1       11   \n",
       "4                   5           11.156251  19.718144             0        5   \n",
       "...               ...                 ...        ...           ...      ...   \n",
       "20535               5           10.915088  20.487544             1        3   \n",
       "20536               7           10.915088  20.601098             0        3   \n",
       "20537               4           10.308953  23.608067             1        9   \n",
       "20538               7            8.853665  20.752825             1        1   \n",
       "20539               5           11.918391  19.883936             1       13   \n",
       "\n",
       "       body_type[T.City Car]  ...  manufacturer_name[T.Porsche]  \\\n",
       "0                        0.0  ...                           0.0   \n",
       "1                        0.0  ...                           0.0   \n",
       "2                        0.0  ...                           0.0   \n",
       "3                        0.0  ...                           0.0   \n",
       "4                        0.0  ...                           0.0   \n",
       "...                      ...  ...                           ...   \n",
       "20535                    0.0  ...                           0.0   \n",
       "20536                    0.0  ...                           0.0   \n",
       "20537                    0.0  ...                           0.0   \n",
       "20538                    0.0  ...                           0.0   \n",
       "20539                    0.0  ...                           0.0   \n",
       "\n",
       "       manufacturer_name[T.Renault]  manufacturer_name[T.Rolls-Royce]  \\\n",
       "0                               0.0                               0.0   \n",
       "1                               0.0                               0.0   \n",
       "2                               0.0                               0.0   \n",
       "3                               0.0                               0.0   \n",
       "4                               0.0                               0.0   \n",
       "...                             ...                               ...   \n",
       "20535                           0.0                               0.0   \n",
       "20536                           0.0                               0.0   \n",
       "20537                           0.0                               1.0   \n",
       "20538                           0.0                               0.0   \n",
       "20539                           0.0                               0.0   \n",
       "\n",
       "       manufacturer_name[T.Samco]  manufacturer_name[T.Subaru]  \\\n",
       "0                             0.0                          0.0   \n",
       "1                             0.0                          0.0   \n",
       "2                             0.0                          0.0   \n",
       "3                             0.0                          0.0   \n",
       "4                             0.0                          0.0   \n",
       "...                           ...                          ...   \n",
       "20535                         0.0                          0.0   \n",
       "20536                         0.0                          0.0   \n",
       "20537                         0.0                          0.0   \n",
       "20538                         0.0                          0.0   \n",
       "20539                         0.0                          0.0   \n",
       "\n",
       "       manufacturer_name[T.Suzuki]  manufacturer_name[T.Thaco]  \\\n",
       "0                              0.0                         0.0   \n",
       "1                              0.0                         0.0   \n",
       "2                              0.0                         0.0   \n",
       "3                              0.0                         0.0   \n",
       "4                              0.0                         0.0   \n",
       "...                            ...                         ...   \n",
       "20535                          0.0                         0.0   \n",
       "20536                          0.0                         0.0   \n",
       "20537                          0.0                         0.0   \n",
       "20538                          0.0                         0.0   \n",
       "20539                          0.0                         0.0   \n",
       "\n",
       "       manufacturer_name[T.Toyota]  manufacturer_name[T.Volkswagen]  \\\n",
       "0                              0.0                              0.0   \n",
       "1                              1.0                              0.0   \n",
       "2                              1.0                              0.0   \n",
       "3                              1.0                              0.0   \n",
       "4                              0.0                              0.0   \n",
       "...                            ...                              ...   \n",
       "20535                          0.0                              0.0   \n",
       "20536                          1.0                              0.0   \n",
       "20537                          0.0                              0.0   \n",
       "20538                          1.0                              0.0   \n",
       "20539                          1.0                              0.0   \n",
       "\n",
       "       manufacturer_name[T.Zotye]  \n",
       "0                             0.0  \n",
       "1                             0.0  \n",
       "2                             0.0  \n",
       "3                             0.0  \n",
       "4                             0.0  \n",
       "...                           ...  \n",
       "20535                         0.0  \n",
       "20536                         0.0  \n",
       "20537                         0.0  \n",
       "20538                         0.0  \n",
       "20539                         0.0  \n",
       "\n",
       "[17027 rows x 62 columns]"
      ]
     },
     "execution_count": 80,
     "metadata": {},
     "output_type": "execute_result"
    }
   ],
   "source": [
    "df_categorized_car_brands.drop('Intercept',axis=1,inplace=True)# Drop intercept because already have intercept from previous vehicle type\n",
    "df_categorized_car_brands = df_categorized_car_brands.join(x_brand_dummy)\n",
    "df_categorized_car_brands"
   ]
  },
  {
   "cell_type": "markdown",
   "metadata": {},
   "source": [
    "### 3.3.4 : Only Brand Segregation"
   ]
  },
  {
   "cell_type": "code",
   "execution_count": 81,
   "metadata": {},
   "outputs": [
    {
     "data": {
      "text/plain": [
       "Index(['manufacturer_name', 'model_name', 'body_type', 'production_year',\n",
       "       'number_of_seat', 'odometer_value_log', 'price_log', 'transmission',\n",
       "       'car_age', 'body_type[T.City Car]', 'body_type[T.Coupe]',\n",
       "       'body_type[T.Hatchback]', 'body_type[T.MPV]',\n",
       "       'body_type[T.Pick-up Truck]', 'body_type[T.SUV]', 'body_type[T.Sedan]',\n",
       "       'body_type[T.Special Purpose]', 'body_type[T.Sport Car]',\n",
       "       'body_type[T.Truck]', 'body_type[T.Van/Minivan]', 'EXOTIC',\n",
       "       'ULTRA_LUXURY', 'LUXURY', 'MID_LEVEL', 'ECONOMY', 'Intercept',\n",
       "       'manufacturer_name[T.Audi]', 'manufacturer_name[T.BMW]',\n",
       "       'manufacturer_name[T.Bentley]', 'manufacturer_name[T.Cadillac]',\n",
       "       'manufacturer_name[T.Chevrolet]', 'manufacturer_name[T.Cửu Long]',\n",
       "       'manufacturer_name[T.Daewoo]', 'manufacturer_name[T.FAW]',\n",
       "       'manufacturer_name[T.Fuso]', 'manufacturer_name[T.Hino]',\n",
       "       'manufacturer_name[T.Honda]', 'manufacturer_name[T.Hyundai]',\n",
       "       'manufacturer_name[T.Infiniti]', 'manufacturer_name[T.Isuzu]',\n",
       "       'manufacturer_name[T.Jaguar]', 'manufacturer_name[T.Kia]',\n",
       "       'manufacturer_name[T.LandRover]', 'manufacturer_name[T.Lexus]',\n",
       "       'manufacturer_name[T.Maserati]', 'manufacturer_name[T.Mazda]',\n",
       "       'manufacturer_name[T.Mercedes-Benz]', 'manufacturer_name[T.Mini]',\n",
       "       'manufacturer_name[T.Mitsubishi]', 'manufacturer_name[T.Nissan]',\n",
       "       'manufacturer_name[T.Others]', 'manufacturer_name[T.Peugeot]',\n",
       "       'manufacturer_name[T.Porsche]', 'manufacturer_name[T.Renault]',\n",
       "       'manufacturer_name[T.Rolls-Royce]', 'manufacturer_name[T.Samco]',\n",
       "       'manufacturer_name[T.Subaru]', 'manufacturer_name[T.Suzuki]',\n",
       "       'manufacturer_name[T.Thaco]', 'manufacturer_name[T.Toyota]',\n",
       "       'manufacturer_name[T.Volkswagen]', 'manufacturer_name[T.Zotye]'],\n",
       "      dtype='object')"
      ]
     },
     "execution_count": 81,
     "metadata": {},
     "output_type": "execute_result"
    }
   ],
   "source": [
    "df_categorized_car_brands.columns"
   ]
  },
  {
   "cell_type": "code",
   "execution_count": 82,
   "metadata": {},
   "outputs": [
    {
     "ename": "KeyError",
     "evalue": "\"['engine_capacity', 'color_body', 'engine_fuel', 'drivetrain'] not in index\"",
     "output_type": "error",
     "traceback": [
      "\u001b[1;31m---------------------------------------------------------------------------\u001b[0m",
      "\u001b[1;31mKeyError\u001b[0m                                  Traceback (most recent call last)",
      "\u001b[1;32m<ipython-input-82-5f3547589979>\u001b[0m in \u001b[0;36m<module>\u001b[1;34m\u001b[0m\n\u001b[0;32m      2\u001b[0m        \u001b[1;34m'number_of_seat'\u001b[0m\u001b[1;33m,\u001b[0m \u001b[1;34m'odometer_value_log'\u001b[0m\u001b[1;33m,\u001b[0m \u001b[1;34m'color_body'\u001b[0m\u001b[1;33m,\u001b[0m \u001b[1;34m'engine_fuel'\u001b[0m\u001b[1;33m,\u001b[0m\u001b[1;33m\u001b[0m\u001b[1;33m\u001b[0m\u001b[0m\n\u001b[0;32m      3\u001b[0m        \u001b[1;34m'engine_capacity'\u001b[0m\u001b[1;33m,\u001b[0m \u001b[1;34m'drivetrain'\u001b[0m\u001b[1;33m,\u001b[0m \u001b[1;34m'price_log'\u001b[0m\u001b[1;33m,\u001b[0m \u001b[1;34m'transmission'\u001b[0m\u001b[1;33m,\u001b[0m \u001b[1;34m'car_age'\u001b[0m\u001b[1;33m,\u001b[0m \u001b[1;34m'EXOTIC'\u001b[0m\u001b[1;33m,\u001b[0m \u001b[1;34m'ULTRA_LUXURY'\u001b[0m\u001b[1;33m,\u001b[0m \u001b[1;34m'LUXURY'\u001b[0m\u001b[1;33m,\u001b[0m\u001b[1;33m\u001b[0m\u001b[1;33m\u001b[0m\u001b[0m\n\u001b[1;32m----> 4\u001b[1;33m        'MID_LEVEL', 'ECONOMY']]\n\u001b[0m",
      "\u001b[1;32mD:\\Application\\Anaconda2\\envs\\py3\\lib\\site-packages\\pandas\\core\\frame.py\u001b[0m in \u001b[0;36m__getitem__\u001b[1;34m(self, key)\u001b[0m\n\u001b[0;32m   2999\u001b[0m             \u001b[1;32mif\u001b[0m \u001b[0mis_iterator\u001b[0m\u001b[1;33m(\u001b[0m\u001b[0mkey\u001b[0m\u001b[1;33m)\u001b[0m\u001b[1;33m:\u001b[0m\u001b[1;33m\u001b[0m\u001b[1;33m\u001b[0m\u001b[0m\n\u001b[0;32m   3000\u001b[0m                 \u001b[0mkey\u001b[0m \u001b[1;33m=\u001b[0m \u001b[0mlist\u001b[0m\u001b[1;33m(\u001b[0m\u001b[0mkey\u001b[0m\u001b[1;33m)\u001b[0m\u001b[1;33m\u001b[0m\u001b[1;33m\u001b[0m\u001b[0m\n\u001b[1;32m-> 3001\u001b[1;33m             \u001b[0mindexer\u001b[0m \u001b[1;33m=\u001b[0m \u001b[0mself\u001b[0m\u001b[1;33m.\u001b[0m\u001b[0mloc\u001b[0m\u001b[1;33m.\u001b[0m\u001b[0m_convert_to_indexer\u001b[0m\u001b[1;33m(\u001b[0m\u001b[0mkey\u001b[0m\u001b[1;33m,\u001b[0m \u001b[0maxis\u001b[0m\u001b[1;33m=\u001b[0m\u001b[1;36m1\u001b[0m\u001b[1;33m,\u001b[0m \u001b[0mraise_missing\u001b[0m\u001b[1;33m=\u001b[0m\u001b[1;32mTrue\u001b[0m\u001b[1;33m)\u001b[0m\u001b[1;33m\u001b[0m\u001b[1;33m\u001b[0m\u001b[0m\n\u001b[0m\u001b[0;32m   3002\u001b[0m \u001b[1;33m\u001b[0m\u001b[0m\n\u001b[0;32m   3003\u001b[0m         \u001b[1;31m# take() does not accept boolean indexers\u001b[0m\u001b[1;33m\u001b[0m\u001b[1;33m\u001b[0m\u001b[1;33m\u001b[0m\u001b[0m\n",
      "\u001b[1;32mD:\\Application\\Anaconda2\\envs\\py3\\lib\\site-packages\\pandas\\core\\indexing.py\u001b[0m in \u001b[0;36m_convert_to_indexer\u001b[1;34m(self, obj, axis, is_setter, raise_missing)\u001b[0m\n\u001b[0;32m   1283\u001b[0m                 \u001b[1;31m# When setting, missing keys are not allowed, even with .loc:\u001b[0m\u001b[1;33m\u001b[0m\u001b[1;33m\u001b[0m\u001b[1;33m\u001b[0m\u001b[0m\n\u001b[0;32m   1284\u001b[0m                 \u001b[0mkwargs\u001b[0m \u001b[1;33m=\u001b[0m \u001b[1;33m{\u001b[0m\u001b[1;34m\"raise_missing\"\u001b[0m\u001b[1;33m:\u001b[0m \u001b[1;32mTrue\u001b[0m \u001b[1;32mif\u001b[0m \u001b[0mis_setter\u001b[0m \u001b[1;32melse\u001b[0m \u001b[0mraise_missing\u001b[0m\u001b[1;33m}\u001b[0m\u001b[1;33m\u001b[0m\u001b[1;33m\u001b[0m\u001b[0m\n\u001b[1;32m-> 1285\u001b[1;33m                 \u001b[1;32mreturn\u001b[0m \u001b[0mself\u001b[0m\u001b[1;33m.\u001b[0m\u001b[0m_get_listlike_indexer\u001b[0m\u001b[1;33m(\u001b[0m\u001b[0mobj\u001b[0m\u001b[1;33m,\u001b[0m \u001b[0maxis\u001b[0m\u001b[1;33m,\u001b[0m \u001b[1;33m**\u001b[0m\u001b[0mkwargs\u001b[0m\u001b[1;33m)\u001b[0m\u001b[1;33m[\u001b[0m\u001b[1;36m1\u001b[0m\u001b[1;33m]\u001b[0m\u001b[1;33m\u001b[0m\u001b[1;33m\u001b[0m\u001b[0m\n\u001b[0m\u001b[0;32m   1286\u001b[0m         \u001b[1;32melse\u001b[0m\u001b[1;33m:\u001b[0m\u001b[1;33m\u001b[0m\u001b[1;33m\u001b[0m\u001b[0m\n\u001b[0;32m   1287\u001b[0m             \u001b[1;32mtry\u001b[0m\u001b[1;33m:\u001b[0m\u001b[1;33m\u001b[0m\u001b[1;33m\u001b[0m\u001b[0m\n",
      "\u001b[1;32mD:\\Application\\Anaconda2\\envs\\py3\\lib\\site-packages\\pandas\\core\\indexing.py\u001b[0m in \u001b[0;36m_get_listlike_indexer\u001b[1;34m(self, key, axis, raise_missing)\u001b[0m\n\u001b[0;32m   1090\u001b[0m \u001b[1;33m\u001b[0m\u001b[0m\n\u001b[0;32m   1091\u001b[0m         self._validate_read_indexer(\n\u001b[1;32m-> 1092\u001b[1;33m             \u001b[0mkeyarr\u001b[0m\u001b[1;33m,\u001b[0m \u001b[0mindexer\u001b[0m\u001b[1;33m,\u001b[0m \u001b[0mo\u001b[0m\u001b[1;33m.\u001b[0m\u001b[0m_get_axis_number\u001b[0m\u001b[1;33m(\u001b[0m\u001b[0maxis\u001b[0m\u001b[1;33m)\u001b[0m\u001b[1;33m,\u001b[0m \u001b[0mraise_missing\u001b[0m\u001b[1;33m=\u001b[0m\u001b[0mraise_missing\u001b[0m\u001b[1;33m\u001b[0m\u001b[1;33m\u001b[0m\u001b[0m\n\u001b[0m\u001b[0;32m   1093\u001b[0m         )\n\u001b[0;32m   1094\u001b[0m         \u001b[1;32mreturn\u001b[0m \u001b[0mkeyarr\u001b[0m\u001b[1;33m,\u001b[0m \u001b[0mindexer\u001b[0m\u001b[1;33m\u001b[0m\u001b[1;33m\u001b[0m\u001b[0m\n",
      "\u001b[1;32mD:\\Application\\Anaconda2\\envs\\py3\\lib\\site-packages\\pandas\\core\\indexing.py\u001b[0m in \u001b[0;36m_validate_read_indexer\u001b[1;34m(self, key, indexer, axis, raise_missing)\u001b[0m\n\u001b[0;32m   1183\u001b[0m             \u001b[1;32mif\u001b[0m \u001b[1;32mnot\u001b[0m \u001b[1;33m(\u001b[0m\u001b[0mself\u001b[0m\u001b[1;33m.\u001b[0m\u001b[0mname\u001b[0m \u001b[1;33m==\u001b[0m \u001b[1;34m\"loc\"\u001b[0m \u001b[1;32mand\u001b[0m \u001b[1;32mnot\u001b[0m \u001b[0mraise_missing\u001b[0m\u001b[1;33m)\u001b[0m\u001b[1;33m:\u001b[0m\u001b[1;33m\u001b[0m\u001b[1;33m\u001b[0m\u001b[0m\n\u001b[0;32m   1184\u001b[0m                 \u001b[0mnot_found\u001b[0m \u001b[1;33m=\u001b[0m \u001b[0mlist\u001b[0m\u001b[1;33m(\u001b[0m\u001b[0mset\u001b[0m\u001b[1;33m(\u001b[0m\u001b[0mkey\u001b[0m\u001b[1;33m)\u001b[0m \u001b[1;33m-\u001b[0m \u001b[0mset\u001b[0m\u001b[1;33m(\u001b[0m\u001b[0max\u001b[0m\u001b[1;33m)\u001b[0m\u001b[1;33m)\u001b[0m\u001b[1;33m\u001b[0m\u001b[1;33m\u001b[0m\u001b[0m\n\u001b[1;32m-> 1185\u001b[1;33m                 \u001b[1;32mraise\u001b[0m \u001b[0mKeyError\u001b[0m\u001b[1;33m(\u001b[0m\u001b[1;34m\"{} not in index\"\u001b[0m\u001b[1;33m.\u001b[0m\u001b[0mformat\u001b[0m\u001b[1;33m(\u001b[0m\u001b[0mnot_found\u001b[0m\u001b[1;33m)\u001b[0m\u001b[1;33m)\u001b[0m\u001b[1;33m\u001b[0m\u001b[1;33m\u001b[0m\u001b[0m\n\u001b[0m\u001b[0;32m   1186\u001b[0m \u001b[1;33m\u001b[0m\u001b[0m\n\u001b[0;32m   1187\u001b[0m             \u001b[1;31m# we skip the warning on Categorical/Interval\u001b[0m\u001b[1;33m\u001b[0m\u001b[1;33m\u001b[0m\u001b[1;33m\u001b[0m\u001b[0m\n",
      "\u001b[1;31mKeyError\u001b[0m: \"['engine_capacity', 'color_body', 'engine_fuel', 'drivetrain'] not in index\""
     ]
    }
   ],
   "source": [
    "df_categorized_car_brands[['manufacturer_name', 'model_name', 'body_type', 'production_year',\n",
    "       'number_of_seat', 'odometer_value_log', 'color_body', 'engine_fuel',\n",
    "       'engine_capacity', 'drivetrain', 'price_log', 'transmission', 'car_age', 'EXOTIC', 'ULTRA_LUXURY', 'LUXURY',\n",
    "       'MID_LEVEL', 'ECONOMY']]"
   ]
  },
  {
   "cell_type": "code",
   "execution_count": null,
   "metadata": {},
   "outputs": [],
   "source": [
    "# Finding out new R^2 from log transformations of Log Price and Log Independent Variables (except Mileage)\n",
    "\n",
    "# Slicing Variables\n",
    "#df_categorized_car_brands.dropna(inplace=True)\n",
    "X = df_categorized_car_brands[[ 'odometer_value_log', 'transmission', 'car_age', 'EXOTIC', 'ULTRA_LUXURY', 'LUXURY',\n",
    "       'MID_LEVEL', 'ECONOMY']]\n",
    "X = sm.add_constant(X)\n",
    "y = df_categorized_car_brands['price_log'].astype(float)\n",
    "\n",
    "# Initially my coefficients were difficult to interpret. \n",
    "# Therefore I transformed it using log for better explanation purposes\n",
    "\n",
    "# model / fit / summarize\n",
    "import statsmodels.api as sm\n",
    "\n",
    "lsm = sm.OLS(y, X)\n",
    "results = lsm.fit()\n",
    "results.summary()"
   ]
  },
  {
   "cell_type": "markdown",
   "metadata": {},
   "source": [
    "### R^2 Summary from Linear Regression Models\n",
    "Price vs Original Independent Variables:  \n",
    "R^2: **0.820**  \n",
    "R^2 Adjusted: **0.820**  \n",
    "df_price_no_brands\n",
    "  \n",
    "Price vs Independent Variables (Logged Mileage and Squared Engine CC):  \n",
    "R^2: **0.824**  \n",
    "R^2 Adjusted: **0.824**  \n",
    "df_price_no_brands_mileage_logged_squared_engine_cap\n",
    "    \n",
    "Logged Price vs Independent Variables (Logged Mileage and Squared Engine CC (engine squared became irrelevant):\n",
    "R^2: **0.897**     \n",
    "R^2 Adjusted: **0.897**   \n",
    "df_logged_price_no_brands_mileage_logged_squared_engine_cap\n",
    "  \n",
    "Logged Price vs Independent Variables (Logged Mileage):\n",
    "R^2: **0.898**     \n",
    "R^2 Adjusted: **0.898**  \n",
    "df_logged_price_no_brands_only_mileage_logged  \n",
    "  \n",
    "Logged Price vs Independent Variables (Logged Mileage) + Categorized Car Brands:\n",
    "R^2: **0.921**     \n",
    "R^2 Adjusted: **0.921**  \n",
    "df_categorized_car_brands"
   ]
  },
  {
   "cell_type": "code",
   "execution_count": null,
   "metadata": {},
   "outputs": [],
   "source": []
  },
  {
   "cell_type": "markdown",
   "metadata": {},
   "source": [
    "## Section 4.2: Cross-Validation Using Models other than LR"
   ]
  },
  {
   "cell_type": "markdown",
   "metadata": {},
   "source": [
    "### Section 4.2.1 : Using LassoCV to find best Alpha Value for L1 Regularization"
   ]
  },
  {
   "cell_type": "code",
   "execution_count": null,
   "metadata": {},
   "outputs": [],
   "source": [
    "from sklearn.metrics import mean_squared_error, r2_score\n",
    "from sklearn.linear_model import LinearRegression, Lasso, Ridge, ElasticNet\n",
    "from sklearn.linear_model import LassoCV, RidgeCV, ElasticNetCV\n",
    "from sklearn.preprocessing import StandardScaler, PolynomialFeatures"
   ]
  },
  {
   "cell_type": "code",
   "execution_count": null,
   "metadata": {},
   "outputs": [],
   "source": [
    "from sklearn.model_selection import train_test_split\n",
    "from sklearn.model_selection import KFold  #Kfold will allow you to do cross validation\n",
    "\n",
    "X = df_categorized_car_brands[[ 'odometer_value_log', 'transmission', 'car_age', 'EXOTIC', 'ULTRA_LUXURY', 'LUXURY',\n",
    "       'MID_LEVEL', 'ECONOMY']]\n",
    "y = df_categorized_car_brands['price_log']\n",
    "\n",
    "# hold out 20% of the data for final testing\n",
    "\n",
    "X_train_val, X_test, y_train_val, y_test = train_test_split(X, y, test_size = 0.2, random_state=10)\n",
    "X_train, X_val, y_train, y_val = train_test_split(X_train_val, y_train_val, test_size = 0.2, random_state=20)"
   ]
  },
  {
   "cell_type": "code",
   "execution_count": null,
   "metadata": {},
   "outputs": [],
   "source": [
    "\n",
    "## Scale the data (a MUST if you're doing regularization)\n",
    "std = StandardScaler()\n",
    "std.fit(X_train.values)\n",
    "\n",
    "## Scale the Predictors on both the train/validation (the whole 80%) and test set (the whole 20%)\n",
    "X_train_scaled = std.transform(X_train.values)\n",
    "X_val_scaled = std.transform(X_val.values)\n",
    "\n",
    "# LassoCV does 2 things for you. It trains your model, and it also chooses the best lambda/alpha for you.  \n",
    "# But of course, you have to feed it a list of lambdas to try.\n",
    "\n",
    "# The best part about LambdaCV is that it does all 3 for you:\n",
    "# Fit\n",
    "# Finding best lambda\n",
    "# Doing Cross-Validation\n",
    "\n",
    "from sklearn.model_selection import KFold   #Kfold will allow you to do cross validation\n",
    "\n",
    "# Run the cross validation, find the best alpha, refit the model on all the data with that alpha\n",
    "\n",
    "alphavec = 10**np.linspace(-3,3,200) # Defining a vector of lambdas (alpha) to try from\n",
    "kf = KFold(n_splits=5, shuffle=True, random_state = 1000)  # Creating a partitioned randomized-state data\n",
    "\n",
    "lasso_model = LassoCV(alphas = alphavec, cv=kf)  # If you want to use Ridge, use RidgeCV\n",
    "lasso_model.fit(X_train_scaled, y_train)\n",
    "\n",
    "# This is the best alpha value it found - not far from the value\n",
    "# selected using simple validation\n",
    "lasso_model.alpha_"
   ]
  },
  {
   "cell_type": "code",
   "execution_count": null,
   "metadata": {},
   "outputs": [],
   "source": [
    "# These are the (standardized) coefficients found when it refit using that best alpha\n",
    "list(zip(X_train.columns, lasso_model.coef_))"
   ]
  },
  {
   "cell_type": "code",
   "execution_count": null,
   "metadata": {},
   "outputs": [],
   "source": [
    "def RMSE(y_true, y_pred):\n",
    "    return np.sqrt(np.mean((y_true - y_pred)**2))\n",
    "\n",
    "# Make predictions on the test set using the new model \n",
    "# (the model is already using the best alpha. It is a LassoCV initialization)\n",
    "val_set_pred = lasso_model.predict(X_val_scaled)\n",
    "\n",
    "# Find the MAE and R^2 on the test set using this model\n",
    "print(f\"LassoCV Best Lambda (alpha): {lasso_model.alpha_}\")\n",
    "print(f\"LassoCV RMSE: {RMSE(y_val, val_set_pred)}\")\n",
    "print(f\"LassoCV R^2 Score: {r2_score(y_val, val_set_pred)}\")"
   ]
  },
  {
   "cell_type": "markdown",
   "metadata": {},
   "source": [
    "### Section 4.2.2: Using RidgeCV to find best Alpha Value for L2 Regularization"
   ]
  },
  {
   "cell_type": "code",
   "execution_count": null,
   "metadata": {},
   "outputs": [],
   "source": [
    "from sklearn.metrics import mean_squared_error, r2_score\n",
    "from sklearn.linear_model import LinearRegression, Lasso, Ridge, ElasticNet\n",
    "from sklearn.linear_model import LassoCV, RidgeCV, ElasticNetCV\n",
    "from sklearn.preprocessing import StandardScaler, PolynomialFeatures\n",
    "\n",
    "\n",
    "from sklearn.model_selection import train_test_split\n",
    "from sklearn.model_selection import KFold  #Kfold will allow you to do cross validation\n",
    "\n",
    "X = df_categorized_car_brands[[ 'odometer_value_log', 'transmission', 'car_age', 'EXOTIC', 'ULTRA_LUXURY', 'LUXURY',\n",
    "       'MID_LEVEL', 'ECONOMY']]\n",
    "y = df_categorized_car_brands['price_log']\n",
    "\n",
    "\n",
    "# hold out 20% of the data for final testing\n",
    "\n",
    "X_train_val, X_test, y_train_val, y_test = train_test_split(X, y, test_size = 0.2, random_state=10)\n",
    "X_train, X_val, y_train, y_val = train_test_split(X_train_val, y_train_val, test_size = 0.2, random_state=20)"
   ]
  },
  {
   "cell_type": "code",
   "execution_count": null,
   "metadata": {},
   "outputs": [],
   "source": [
    "# Use RidgeCV to find the optimal ALPHA value for L2 regularization\n",
    "\n",
    "## Scale the data (a MUST if you're doing regularization)\n",
    "std = StandardScaler()\n",
    "std.fit(X_train.values)\n",
    "\n",
    "# Scale the Predictors on both the train and validation set (for RidgeCV)\n",
    "X_train_scaled = std.transform(X_train.values)\n",
    "X_val_scaled = std.transform(X_val.values)\n",
    "\n",
    "# Run the cross-validation, find the best alpha, refit the model on all the data with that alpha (RidgeCV does this for you)\n",
    "alphavec = 10 ** np.linspace(-3,3,200) # alpha varies from 0.001 to 1000\n",
    "kf = KFold(n_splits=5, shuffle=True, random_state=1000)\n",
    "\n",
    "ridge_model = RidgeCV(alphas=alphavec, cv=kf)\n",
    "ridge_model.fit(X_train_scaled, y_train)  # Fit your scaled train input and your y train values\n",
    "\n",
    "# This is the best alpha value found\n",
    "ridge_model.alpha_"
   ]
  },
  {
   "cell_type": "code",
   "execution_count": null,
   "metadata": {},
   "outputs": [],
   "source": [
    "# display all coefficients in the model with optimal alpha\n",
    "list(zip(X_train.columns, ridge_model.coef_))"
   ]
  },
  {
   "cell_type": "code",
   "execution_count": null,
   "metadata": {},
   "outputs": [],
   "source": [
    "def RMSE(y_true, y_pred):\n",
    "    return np.sqrt(np.mean((y_true - y_pred)**2))\n",
    "\n",
    "# Make predictions on the test set using the new model and save it into a variable\n",
    "val_set_pred = lasso_model.predict(X_val_scaled)\n",
    "\n",
    "\n",
    "# Find the MAE and R^2 on the test set using this model\n",
    "print(f\"Best Lambda (alpha) RidgeCV: {ridge_model.alpha_}\")\n",
    "print(f\"RidgeCV MAE: {RMSE(y_val, val_set_pred)}\")\n",
    "print(f\"RidgeCV R^2 Score: {r2_score(y_val, val_set_pred)}\")"
   ]
  },
  {
   "cell_type": "markdown",
   "metadata": {},
   "source": [
    "### Section 4.2.3: Using ElasticnetCV to find best Alpha Value "
   ]
  },
  {
   "cell_type": "code",
   "execution_count": null,
   "metadata": {},
   "outputs": [],
   "source": [
    "from sklearn.metrics import mean_squared_error, r2_score\n",
    "from sklearn.linear_model import LinearRegression, Lasso, Ridge, ElasticNet\n",
    "from sklearn.linear_model import LassoCV, RidgeCV, ElasticNetCV\n",
    "from sklearn.preprocessing import StandardScaler, PolynomialFeatures\n",
    "\n",
    "\n",
    "from sklearn.model_selection import train_test_split\n",
    "from sklearn.model_selection import KFold  #Kfold will allow you to do cross validation\n",
    "\n",
    "X = df_categorized_car_brands[[ 'odometer_value_log', 'transmission', 'car_age', 'EXOTIC', 'ULTRA_LUXURY', 'LUXURY',\n",
    "       'MID_LEVEL', 'ECONOMY']]\n",
    "y = df_categorized_car_brands['price_log']\n",
    "\n",
    "# hold out 20% of the data for final testing\n",
    "\n",
    "X_train_val, X_test, y_train_val, y_test = train_test_split(X, y, test_size = 0.2, random_state=10)\n",
    "X_train, X_val, y_train, y_val = train_test_split(X_train_val, y_train_val, test_size = 0.2, random_state=20)"
   ]
  },
  {
   "cell_type": "code",
   "execution_count": null,
   "metadata": {},
   "outputs": [],
   "source": [
    "# Using ElasticNetCV to find the optimal ALPHA value\n",
    "# Scale the data as before (scaling is a must for regularization)\n",
    "std = StandardScaler()\n",
    "std.fit(X_train.values) # (60% of the data)\n",
    "\n",
    "# Scale the Predictors on both the train and validation set\n",
    "X_train_scaled = std.transform(X_train.values)\n",
    "X_val_scalred = std.transform(X_val.values)\n",
    "\n",
    "# Run the cross-validation, find the best alpha, refit the model and all the data using that alpha (ElasticNetCV does this for you)\n",
    "alphavec = 10 ** np.linspace(-3,3,200)  # alpha varies from 0.001 to 1000\n",
    "kf = KFold(n_splits=5, shuffle=True, random_state=1000)\n",
    "\n",
    "elasticnet_model = ElasticNetCV(alphas = alphavec, cv=kf)\n",
    "elasticnet_model.fit(X_train_scaled, y_train)  # Fitting standardscaled input and true y values into model to train it\n",
    "\n",
    "elasticnet_model.alpha_"
   ]
  },
  {
   "cell_type": "code",
   "execution_count": null,
   "metadata": {},
   "outputs": [],
   "source": [
    "# display all coefficients in the model with optimal alpha\n",
    "list(zip(X_train.columns, elasticnet_model.coef_))"
   ]
  },
  {
   "cell_type": "code",
   "execution_count": null,
   "metadata": {},
   "outputs": [],
   "source": [
    "def RMSE(y_true, y_pred):\n",
    "    return np.sqrt(np.mean((y_true - y_pred)**2))\n",
    "\n",
    "# Use this model to do prediction on a validation data set\n",
    "val_set_pred = elasticnet_model.predict(X_val_scaled)\n",
    "\n",
    "# Find the MAE and R^2 on the test set using this model\n",
    "print(f'Best Lambda (Alpha) ElasticNetCV: {elasticnet_model.alpha_}')\n",
    "print(f'ElasticNetCV RMSE: {RMSE(y_val, val_set_pred)}')  # mae is a defined function above\n",
    "print(f'ElasticNetCV R^2 Score: {r2_score(y_val, val_set_pred)}')  # r2_score is an imported module"
   ]
  },
  {
   "cell_type": "markdown",
   "metadata": {},
   "source": [
    "### Section 4.2.3: Summary from the above Train-Validation Sets"
   ]
  },
  {
   "cell_type": "markdown",
   "metadata": {},
   "source": [
    "LassoCV Best Lambda (alpha): 0.0032550885998350564  \n",
    "LassoCV RMSE: 0.2060456832969135  \n",
    "LassoCV R^2 Score: 0.8908070012251001  \n",
    "  \n",
    "Best Lambda (alpha) RidgeCV: 21.96385372416547  \n",
    "RidgeCV MAE: 0.2060456832969135  \n",
    "RidgeCV R^2 Score: 0.8908070012251001  \n",
    "  \n",
    "Best Lambda (Alpha) ElasticNetCV: 0.006080224261649421  \n",
    "ElasticNetCV RMSE: 0.20546000914492651    \n",
    "ElasticNetCV R^2 Score: 0.8914268698533193  "
   ]
  },
  {
   "cell_type": "code",
   "execution_count": null,
   "metadata": {},
   "outputs": [],
   "source": []
  },
  {
   "cell_type": "markdown",
   "metadata": {},
   "source": [
    "### Section 4.3: Picking Model with the best R^2 score (Train and Cross-Validation)"
   ]
  },
  {
   "cell_type": "code",
   "execution_count": null,
   "metadata": {},
   "outputs": [],
   "source": [
    "from sklearn.metrics import mean_squared_error, r2_score\n",
    "from sklearn.linear_model import LinearRegression, Lasso, Ridge, ElasticNet\n",
    "from sklearn.linear_model import LassoCV, RidgeCV, ElasticNetCV\n",
    "from sklearn.preprocessing import StandardScaler, PolynomialFeatures\n",
    "\n",
    "\n",
    "from sklearn.model_selection import train_test_split\n",
    "from sklearn.model_selection import KFold  #Kfold will allow you to do cross validation\n",
    "\n",
    "X = df_categorized_car_brands[[ 'odometer_value_log', 'transmission', 'car_age', 'EXOTIC', 'ULTRA_LUXURY', 'LUXURY',\n",
    "       'MID_LEVEL', 'ECONOMY']]\n",
    "y = df_categorized_car_brands['price_log']\n",
    "\n",
    "# Create 80% of train data. The code below will automate the cross-validation\n",
    "X_train_val, X_test, y_train_val, y_test = train_test_split(X, y, test_size = 0.2, random_state=10)"
   ]
  },
  {
   "cell_type": "code",
   "execution_count": null,
   "metadata": {},
   "outputs": [],
   "source": [
    "## cross validation using KFold (on the 100% dataset, without manually splitting)\n",
    "from sklearn.model_selection import cross_val_score\n",
    "from sklearn.model_selection import KFold\n",
    "\n",
    "def RMSE(y_true, y_pred):\n",
    "    return np.sqrt(np.mean((y_true - y_pred)**2))\n",
    "\n",
    "\n",
    "#Feature transform/scaling so that we can run our ridge/lasso/elasticnet model \n",
    "scaler = StandardScaler()\n",
    "X_train_val_scaled = scaler.fit_transform(X_train_val.values)\n",
    "\n",
    "#Feature transform/scaling so that we can run our poly model \n",
    "poly = PolynomialFeatures(degree=2) \n",
    "X_train_val_poly = poly.fit_transform(X_train_val.values)\n",
    "\n",
    "kf = KFold(n_splits=5, shuffle=True, random_state = 1000)\n",
    "\n",
    "lm = LinearRegression()\n",
    "cvs_lm = cross_val_score(lm, X_train_val, y_train_val, cv=kf, scoring='r2')\n",
    "print(\"Linear Regression Cross Val Score: {}\".format(cvs_lm))\n",
    "# print(f'ElasticNetCV RMSE: {round(RMSE(y_val, val_set_pred),3)}')\n",
    "print('Linear regression cv R^2:', round(np.mean(cvs_lm),3), '+-', round(np.std(cvs_lm),3),'\\n' )\n",
    "\n",
    "\n",
    "lm_ridge = Ridge(alpha=21.96385372416547 )\n",
    "cvs_ridge = cross_val_score(lm_ridge, X_train_val_scaled, y_train_val, cv=kf, scoring='r2')\n",
    "print(\"Ridge Cross Val Score: {}\".format(cvs_ridge))\n",
    "# print(f'ElasticNetCV RMSE: {round(RMSE(y_val, val_set_pred),3)}')\n",
    "print('Ridge regression cv R^2:', round(np.mean(cvs_ridge),3), '+-', round(np.std(cvs_ridge),3),'\\n' )\n",
    "\n",
    "\n",
    "\n",
    "lm_lasso = Lasso(alpha=0.0032550885998350564)\n",
    "cvs_lasso = cross_val_score(lm_lasso, X_train_val_scaled, y_train_val, cv=kf, scoring='r2')\n",
    "print(\"Lasso Cross Val Score: {}\".format(cvs_lasso))\n",
    "# print(f'ElasticNetCV RMSE: {round(RMSE(y_val, val_set_pred),3)}')\n",
    "print('Lasso regression cv R^2:', round(np.mean(cvs_lasso),3), '+-', round(np.std(cvs_lasso),3),'\\n' )\n",
    "\n",
    "\n",
    "lm_elasticnet = ElasticNet(alpha=0.006080224261649421 )\n",
    "cvs_elasticnet = cross_val_score(lm_elasticnet, X_train_val_scaled, y_train_val, cv=kf, scoring='r2')\n",
    "print(\"Elastic Net Cross Val Score: {}\".format(cvs_elasticnet))\n",
    "# print(f'ElasticNetCV RMSE: {round(RMSE(y_val, val_set_pred),3)}')\n",
    "print('ElasticNet regression cv R^2:', round(np.mean(cvs_elasticnet),3), '+-', round(np.std(cvs_elasticnet),3),'\\n' )\n",
    "\n",
    "\n",
    "lm_poly = LinearRegression()\n",
    "cvs_poly = cross_val_score(lm_poly, X_train_val_poly, y_train_val, cv=kf, scoring='r2')\n",
    "print(\"Poly Regression Cross Val Score: {}\".format(cvs_poly))\n",
    "# print(f'ElasticNetCV RMSE: {round(RMSE(y_val, val_set_pred),3)}')\n",
    "print('Degree 2 polynomial Regression cv R^2:', round(np.mean(cvs_poly),3), '+-', round(np.std(cvs_poly),3) )"
   ]
  },
  {
   "cell_type": "code",
   "execution_count": null,
   "metadata": {},
   "outputs": [],
   "source": [
    "# From the code above, it seems like Linear Regression provides similar results as compared to the rest.\n",
    "# Therefore, will choose to use linear regression for it's simplicity and ease of use"
   ]
  },
  {
   "cell_type": "markdown",
   "metadata": {},
   "source": [
    "# Section 5: Model Testing (On whole DataSet)"
   ]
  },
  {
   "cell_type": "markdown",
   "metadata": {},
   "source": [
    "## Section 5.1: Training Model on 80% DataSet"
   ]
  },
  {
   "cell_type": "code",
   "execution_count": null,
   "metadata": {},
   "outputs": [],
   "source": [
    "df_categorized_car_brands.columns"
   ]
  },
  {
   "cell_type": "code",
   "execution_count": null,
   "metadata": {},
   "outputs": [],
   "source": [
    "from sklearn.metrics import mean_squared_error, r2_score\n",
    "from sklearn.linear_model import LinearRegression, Lasso, Ridge, ElasticNet\n",
    "from sklearn.linear_model import LassoCV, RidgeCV, ElasticNetCV\n",
    "from sklearn.preprocessing import StandardScaler, PolynomialFeatures\n",
    "\n",
    "from sklearn.model_selection import train_test_split\n",
    "from sklearn.model_selection import KFold  #Kfold will allow you to do cross validation\n",
    "\n",
    "X = df_categorized_car_brands[[ 'odometer_value_log', 'transmission', 'car_age', 'EXOTIC', 'ULTRA_LUXURY', 'LUXURY',\n",
    "       'MID_LEVEL', 'ECONOMY']]\n",
    "y = df_categorized_car_brands['price_log']\n",
    "\n",
    "# Create 80% of train data. The code below will automate the cross-validation\n",
    "X_train, X_test, y_train, y_test = train_test_split(X, y, test_size = 0.2, random_state=20)"
   ]
  },
  {
   "cell_type": "code",
   "execution_count": null,
   "metadata": {},
   "outputs": [],
   "source": [
    "# model / fit / summarize\n",
    "import statsmodels.api as sm\n",
    "\n",
    "lm_model = LinearRegression()\n",
    "lm_model = sm.OLS(y_train, X_train)  # no need sm.add_constant because there's already an intercept\n",
    "results = lm_model.fit()\n",
    "results.summary()"
   ]
  },
  {
   "cell_type": "markdown",
   "metadata": {},
   "source": [
    "### R^2 Summary from Linear Regression Models\n",
    "**------------------**  \n",
    "**Best Data Set (80% of data on train, 20% on test)**  \n",
    "Logged Price vs Independent Variables (Logged Mileage) + Categorized Car Brands:\n",
    "R^2: **0.921**     \n",
    "R^2 Adjusted: **0.921**  \n",
    "df_categorized_car_brands\n",
    "\n",
    "**---------------------**\n",
    "\n",
    "Price vs Original Independent Variables:  \n",
    "R^2: **0.820**  \n",
    "R^2 Adjusted: **0.820**  \n",
    "df_price_no_brands\n",
    "  \n",
    "Price vs Independent Variables (Logged Mileage and Squared Engine CC):  \n",
    "R^2: **0.824**  \n",
    "R^2 Adjusted: **0.824**  \n",
    "df_price_no_brands_mileage_logged_squared_engine_cap\n",
    "    \n",
    "Logged Price vs Independent Variables (Logged Mileage and Squared Engine CC (engine squared became irrelevant):\n",
    "R^2: **0.897**     \n",
    "R^2 Adjusted: **0.897**   \n",
    "df_logged_price_no_brands_mileage_logged_squared_engine_cap\n",
    "  \n",
    "Logged Price vs Independent Variables (Logged Mileage):\n",
    "R^2: **0.898**     \n",
    "R^2 Adjusted: **0.898**  \n",
    "df_logged_price_no_brands_only_mileage_logged  \n",
    "  \n",
    "Logged Price vs Independent Variables (Logged Mileage) + Categorized Car Brands:\n",
    "R^2: **0.921**     \n",
    "R^2 Adjusted: **0.921**  \n",
    "df_categorized_car_brands"
   ]
  },
  {
   "cell_type": "markdown",
   "metadata": {},
   "source": [
    "## Section 5.2: Testing Model on 20% DataSet"
   ]
  },
  {
   "cell_type": "code",
   "execution_count": null,
   "metadata": {},
   "outputs": [],
   "source": [
    "from sklearn.metrics import mean_squared_error, r2_score\n",
    "#Mean Absolute Error (MAE)\n",
    "def mae(y_true, y_pred):\n",
    "    return np.mean(np.abs(y_pred - y_true)) \n",
    "\n",
    "# Create prediction variable for test set\n",
    "model_test_pred = results.predict(X_test)\n",
    "\n",
    "# Check accuracy of test\n",
    "print(\"Linear Regression Test Scores:\\n\")\n",
    "print(\"Linear Regression MAE: {}\".format(mae(y_test, model_test_pred))) # MAE\n",
    "print(\"Linear Regression MSE: {}\".format(mean_squared_error(y_test, model_test_pred))) # Mean Squared Error (MSE)\n",
    "print(\"Linear Regression RMSE: {}\".format(RMSE(y_test, model_test_pred))) # Root Mean squared error\n",
    "print(\"Linear Regression R2 Score: {}\".format(r2_score(y_test, model_test_pred)))# R^2 Score\n"
   ]
  },
  {
   "cell_type": "code",
   "execution_count": null,
   "metadata": {},
   "outputs": [],
   "source": []
  },
  {
   "cell_type": "markdown",
   "metadata": {},
   "source": [
    "# Section 6: Checking Linear Regression Assumptions\n",
    "### Plot 3 Graphs\n",
    "* residue\n",
    "* QQ plot"
   ]
  },
  {
   "cell_type": "code",
   "execution_count": null,
   "metadata": {},
   "outputs": [],
   "source": [
    "import pandas as pd\n",
    "import numpy as np\n",
    "import seaborn as sns\n",
    "import patsy\n",
    "import scipy.stats as stats\n",
    "\n",
    "import statsmodels.api as sm\n",
    "import statsmodels.formula.api as smf\n",
    "from sklearn import preprocessing\n",
    "from sklearn.linear_model import LinearRegression\n",
    "import matplotlib.pyplot as plt\n",
    "%matplotlib inline"
   ]
  },
  {
   "cell_type": "markdown",
   "metadata": {},
   "source": [
    "## Section 6.1: Plotting the Residuals"
   ]
  },
  {
   "cell_type": "code",
   "execution_count": null,
   "metadata": {},
   "outputs": [],
   "source": [
    "# Defining Graph size\n",
    "plt.figure(figsize=(10,5))\n",
    "\n",
    "# Defining the residue and model predicted results\n",
    "df_categorized_car_brands['PREDICTIONS'] = results.predict(X_test)\n",
    "df_categorized_car_brands['RESIDUE'] = y_test - model_test_pred\n",
    "\n",
    "# Plot your predicted values on the x-axis, and your residuals on the y-axis on Residue Plot\n",
    "plt.scatter(df_categorized_car_brands['PREDICTIONS'], df_categorized_car_brands['RESIDUE'])\n",
    "plt.title(\"Residual plot\")\n",
    "plt.xlabel(\"Prediction\")\n",
    "plt.ylabel(\"Residuals\")"
   ]
  },
  {
   "cell_type": "markdown",
   "metadata": {},
   "source": [
    "## Section 6.2: QQ Plot"
   ]
  },
  {
   "cell_type": "code",
   "execution_count": null,
   "metadata": {},
   "outputs": [],
   "source": [
    "# Defining the residue and model predicted results\n",
    "df_categorized_car_brands['PREDICTIONS'] = results.predict(X_test)\n",
    "df_categorized_car_brands['RESIDUE'] = y_test - model_test_pred\n",
    "\n",
    "# diagnose/inspect residual normality using QQplot:\n",
    "plt.figure(figsize=(10,10))\n",
    "stats.probplot(df_categorized_car_brands['RESIDUE'], dist=\"norm\", plot=plt)\n",
    "plt.title(\"Normal Q-Q plot\")"
   ]
  },
  {
   "cell_type": "code",
   "execution_count": null,
   "metadata": {},
   "outputs": [],
   "source": []
  },
  {
   "cell_type": "code",
   "execution_count": null,
   "metadata": {},
   "outputs": [],
   "source": [
    "# "
   ]
  }
 ],
 "metadata": {
  "celltoolbar": "Tags",
  "kernelspec": {
   "display_name": "Python 3",
   "language": "python",
   "name": "python3"
  },
  "language_info": {
   "codemirror_mode": {
    "name": "ipython",
    "version": 3
   },
   "file_extension": ".py",
   "mimetype": "text/x-python",
   "name": "python",
   "nbconvert_exporter": "python",
   "pygments_lexer": "ipython3",
   "version": "3.7.5"
  }
 },
 "nbformat": 4,
 "nbformat_minor": 2
}
